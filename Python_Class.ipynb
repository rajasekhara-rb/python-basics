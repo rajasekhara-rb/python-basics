{
  "nbformat": 4,
  "nbformat_minor": 0,
  "metadata": {
    "colab": {
      "provenance": [],
      "collapsed_sections": [
        "dq-jmsblM6TM"
      ],
      "authorship_tag": "ABX9TyOOo19QThOqMgD4ZFN+OYZ9",
      "include_colab_link": true
    },
    "kernelspec": {
      "display_name": "Python 3",
      "name": "python3"
    },
    "language_info": {
      "name": "python"
    }
  },
  "cells": [
    {
      "cell_type": "markdown",
      "metadata": {
        "id": "view-in-github",
        "colab_type": "text"
      },
      "source": [
        "<a href=\"https://colab.research.google.com/github/rajasekhara-rb/python-basics/blob/main/Python_Class.ipynb\" target=\"_parent\"><img src=\"https://colab.research.google.com/assets/colab-badge.svg\" alt=\"Open In Colab\"/></a>"
      ]
    },
    {
      "cell_type": "markdown",
      "metadata": {
        "id": "dq-jmsblM6TM"
      },
      "source": [
        "# Python code\n"
      ]
    },
    {
      "cell_type": "code",
      "metadata": {
        "colab": {
          "base_uri": "https://localhost:8080/"
        },
        "id": "fQQ-5BZ_uH4b",
        "outputId": "10aeec65-825d-4ba7-c353-2082abfeb0c7"
      },
      "source": [
        "print('This is my first python ')"
      ],
      "execution_count": null,
      "outputs": [
        {
          "output_type": "stream",
          "name": "stdout",
          "text": [
            "This is my first python \n"
          ]
        }
      ]
    },
    {
      "cell_type": "code",
      "source": [
        "# this is  a comment"
      ],
      "metadata": {
        "id": "vRmyafaDMpVn"
      },
      "execution_count": null,
      "outputs": []
    },
    {
      "cell_type": "code",
      "source": [
        "#Declaring data type in variable\n",
        "\n",
        "# A variable name must start with a letter or the underscore character\n",
        "# A variable name cannot start with a number\n",
        "# A variable name can only contain alpha-numeric characters and underscores (A-z, 0-9, and _ )\n",
        "# Variable names are case-sensitive (age, Age and AGE are three different variables)\n",
        "# A variable name cannot be any of the Python keywords.\n",
        "\n",
        "a = 10"
      ],
      "metadata": {
        "id": "S0xTUwQUMWOE"
      },
      "execution_count": null,
      "outputs": []
    },
    {
      "cell_type": "code",
      "source": [
        "print(a)"
      ],
      "metadata": {
        "colab": {
          "base_uri": "https://localhost:8080/"
        },
        "id": "5b8h9xR3Mqx5",
        "outputId": "e8b9e124-17c6-40fa-8d33-124da274519c"
      },
      "execution_count": null,
      "outputs": [
        {
          "output_type": "stream",
          "name": "stdout",
          "text": [
            "10\n"
          ]
        }
      ]
    },
    {
      "cell_type": "code",
      "source": [
        "type(a)"
      ],
      "metadata": {
        "colab": {
          "base_uri": "https://localhost:8080/"
        },
        "id": "EktvDET3MswA",
        "outputId": "bac75977-7ee3-409d-cb6b-ad537f1eb30a"
      },
      "execution_count": null,
      "outputs": [
        {
          "output_type": "execute_result",
          "data": {
            "text/plain": [
              "int"
            ]
          },
          "metadata": {},
          "execution_count": 7
        }
      ]
    },
    {
      "cell_type": "code",
      "source": [
        "b = 10.10"
      ],
      "metadata": {
        "id": "YgAhSqbrM0sF"
      },
      "execution_count": null,
      "outputs": []
    },
    {
      "cell_type": "code",
      "source": [
        "b"
      ],
      "metadata": {
        "colab": {
          "base_uri": "https://localhost:8080/"
        },
        "id": "PO9rDTTjNn_h",
        "outputId": "8eec93a8-9789-4860-cf57-e10574212ab9"
      },
      "execution_count": null,
      "outputs": [
        {
          "output_type": "execute_result",
          "data": {
            "text/plain": [
              "10.1"
            ]
          },
          "metadata": {},
          "execution_count": 9
        }
      ]
    },
    {
      "cell_type": "code",
      "source": [
        "type(b)"
      ],
      "metadata": {
        "colab": {
          "base_uri": "https://localhost:8080/"
        },
        "id": "7zy2yWpsNowD",
        "outputId": "9b5a10ed-e046-4da8-c76d-2a1661d08bcd"
      },
      "execution_count": null,
      "outputs": [
        {
          "output_type": "execute_result",
          "data": {
            "text/plain": [
              "float"
            ]
          },
          "metadata": {},
          "execution_count": 10
        }
      ]
    },
    {
      "cell_type": "code",
      "source": [
        "c = 'This is a string '"
      ],
      "metadata": {
        "id": "-PXr0GweNqMW"
      },
      "execution_count": null,
      "outputs": []
    },
    {
      "cell_type": "code",
      "source": [
        "type(c)"
      ],
      "metadata": {
        "colab": {
          "base_uri": "https://localhost:8080/"
        },
        "id": "wGTNM34GNvPI",
        "outputId": "b41d87dd-0cd5-4e0b-a472-6f78ce5f8a2c"
      },
      "execution_count": null,
      "outputs": [
        {
          "output_type": "execute_result",
          "data": {
            "text/plain": [
              "str"
            ]
          },
          "metadata": {},
          "execution_count": 12
        }
      ]
    },
    {
      "cell_type": "code",
      "source": [
        "d = True"
      ],
      "metadata": {
        "id": "mV3E-4XFNw8m"
      },
      "execution_count": null,
      "outputs": []
    },
    {
      "cell_type": "code",
      "source": [
        "type(d)\n"
      ],
      "metadata": {
        "colab": {
          "base_uri": "https://localhost:8080/"
        },
        "id": "IkJmvgIUN2mf",
        "outputId": "3cd357d1-e818-411a-c624-206b1d7013dc"
      },
      "execution_count": null,
      "outputs": [
        {
          "output_type": "execute_result",
          "data": {
            "text/plain": [
              "bool"
            ]
          },
          "metadata": {},
          "execution_count": 46
        }
      ]
    },
    {
      "cell_type": "code",
      "source": [
        "x, y, z = 'Reddy', 6, 8"
      ],
      "metadata": {
        "id": "lZDoeGfib1pG"
      },
      "execution_count": null,
      "outputs": []
    },
    {
      "cell_type": "code",
      "source": [
        "x, y, z"
      ],
      "metadata": {
        "colab": {
          "base_uri": "https://localhost:8080/"
        },
        "id": "ttLkzfzub9d5",
        "outputId": "570e303d-a248-4287-b059-d30fffcb63fa"
      },
      "execution_count": null,
      "outputs": [
        {
          "output_type": "execute_result",
          "data": {
            "text/plain": [
              "('Reddy', 6, 8)"
            ]
          },
          "metadata": {},
          "execution_count": 49
        }
      ]
    },
    {
      "cell_type": "code",
      "source": [
        "# names cannot start with a? number\n",
        "# names cannot use spaces\n",
        "# no special char's\n",
        "# PEP python enhancement praposal\n",
        "# camelCase"
      ],
      "metadata": {
        "id": "BDzODV8rPO24"
      },
      "execution_count": null,
      "outputs": []
    },
    {
      "cell_type": "code",
      "source": [
        "# List is ordered sequence of Objects\n",
        "\n",
        "lt = [23, 41, 66, 78, 100]"
      ],
      "metadata": {
        "id": "TVDb9RkRPTZ8"
      },
      "execution_count": null,
      "outputs": []
    },
    {
      "cell_type": "code",
      "source": [
        "lt"
      ],
      "metadata": {
        "colab": {
          "base_uri": "https://localhost:8080/"
        },
        "id": "lhQVwhrpP74f",
        "outputId": "36340f09-c141-4fd2-bdf0-6e3b261ac8a8"
      },
      "execution_count": null,
      "outputs": [
        {
          "output_type": "execute_result",
          "data": {
            "text/plain": [
              "[23, 41, 66, 78, 100]"
            ]
          },
          "metadata": {},
          "execution_count": 30
        }
      ]
    },
    {
      "cell_type": "code",
      "source": [
        "lt2 = [23.5, 12.2, 25.9, 6.6, True, 'Reddy']"
      ],
      "metadata": {
        "id": "e3UvXOImP8zr"
      },
      "execution_count": null,
      "outputs": []
    },
    {
      "cell_type": "code",
      "source": [
        "lt2"
      ],
      "metadata": {
        "colab": {
          "base_uri": "https://localhost:8080/"
        },
        "id": "FNJQCNfdVFLH",
        "outputId": "480038a6-1ca7-478f-9eba-9cb98e99c97b"
      },
      "execution_count": null,
      "outputs": [
        {
          "output_type": "execute_result",
          "data": {
            "text/plain": [
              "[23.5, 12.2, 25.9, 6.6, True, 'Reddy']"
            ]
          },
          "metadata": {},
          "execution_count": 32
        }
      ]
    },
    {
      "cell_type": "code",
      "source": [
        "lt3 = [1, 2.5, \"Raj\", lt, lt2]"
      ],
      "metadata": {
        "id": "HSvBgfdMVI-t"
      },
      "execution_count": null,
      "outputs": []
    },
    {
      "cell_type": "code",
      "source": [
        "lt3"
      ],
      "metadata": {
        "colab": {
          "base_uri": "https://localhost:8080/"
        },
        "id": "o4bj_BTGVgy0",
        "outputId": "da0ff83c-54c3-438a-a36a-664897eee88f"
      },
      "execution_count": null,
      "outputs": [
        {
          "output_type": "execute_result",
          "data": {
            "text/plain": [
              "[1, 2.5, 'Raj', [23, 41, 66, 78, 100], [23.5, 12.2, 25.9, 6.6, True, 'Reddy']]"
            ]
          },
          "metadata": {},
          "execution_count": 34
        }
      ]
    },
    {
      "cell_type": "code",
      "source": [
        "lt3[2]"
      ],
      "metadata": {
        "colab": {
          "base_uri": "https://localhost:8080/",
          "height": 35
        },
        "id": "JsoIIFMfVnbb",
        "outputId": "82eae076-8089-4330-9e69-823313b56423"
      },
      "execution_count": null,
      "outputs": [
        {
          "output_type": "execute_result",
          "data": {
            "text/plain": [
              "'Raj'"
            ],
            "application/vnd.google.colaboratory.intrinsic+json": {
              "type": "string"
            }
          },
          "metadata": {},
          "execution_count": 35
        }
      ]
    },
    {
      "cell_type": "code",
      "source": [
        "lt3[3][2]"
      ],
      "metadata": {
        "colab": {
          "base_uri": "https://localhost:8080/"
        },
        "id": "90hDVqFfWbQc",
        "outputId": "a3c118d9-a802-4209-a0f6-5eccff5b47cc"
      },
      "execution_count": null,
      "outputs": [
        {
          "output_type": "execute_result",
          "data": {
            "text/plain": [
              "66"
            ]
          },
          "metadata": {},
          "execution_count": 36
        }
      ]
    },
    {
      "cell_type": "code",
      "source": [
        "# Dict\n",
        "# unordered collection of key value pairs\n",
        "\n",
        "dt = {\"name\":'Reddy',\n",
        "      \"age\":24,\n",
        "      \"email\": 'reddy@gmail.com',\n",
        "      \"location\" : 'Sklm'}"
      ],
      "metadata": {
        "id": "aL4o-dmzWicC"
      },
      "execution_count": null,
      "outputs": []
    },
    {
      "cell_type": "code",
      "source": [
        "dt[\"name\"]"
      ],
      "metadata": {
        "colab": {
          "base_uri": "https://localhost:8080/",
          "height": 35
        },
        "id": "QPt5zukaWsPD",
        "outputId": "db05a04f-15dc-4c56-beba-e8a4d97a6df8"
      },
      "execution_count": null,
      "outputs": [
        {
          "output_type": "execute_result",
          "data": {
            "text/plain": [
              "'Reddy'"
            ],
            "application/vnd.google.colaboratory.intrinsic+json": {
              "type": "string"
            }
          },
          "metadata": {},
          "execution_count": 39
        }
      ]
    },
    {
      "cell_type": "code",
      "source": [
        "# set\n",
        "# ordered collection of unique data\n",
        "\n",
        "st = {'reddy@gmail.com', 'reddy@gmail.com', 'reddy@yahoo.com', 'reddy@yahoo.com'}"
      ],
      "metadata": {
        "id": "tbWs8jZaXvXm"
      },
      "execution_count": null,
      "outputs": []
    },
    {
      "cell_type": "code",
      "source": [
        "st"
      ],
      "metadata": {
        "colab": {
          "base_uri": "https://localhost:8080/"
        },
        "id": "P3awYVa_YWoH",
        "outputId": "800b51ab-ac52-4981-9468-cc0b9ce9e28c"
      },
      "execution_count": null,
      "outputs": [
        {
          "output_type": "execute_result",
          "data": {
            "text/plain": [
              "{'reddy@gmail.com', 'reddy@yahoo.com'}"
            ]
          },
          "metadata": {},
          "execution_count": 41
        }
      ]
    },
    {
      "cell_type": "code",
      "source": [
        "#Tuple\n",
        "\n",
        "tp = ('some important things that does not change', 'AI', 'VR', 'ML')"
      ],
      "metadata": {
        "id": "E3ldAZm6YXP1"
      },
      "execution_count": null,
      "outputs": []
    },
    {
      "cell_type": "code",
      "source": [
        "tp.index('AI')"
      ],
      "metadata": {
        "colab": {
          "base_uri": "https://localhost:8080/"
        },
        "id": "rCIuBs49Y4VP",
        "outputId": "3e6c46d9-63a3-49f5-e6e0-3260371a6315"
      },
      "execution_count": null,
      "outputs": [
        {
          "output_type": "execute_result",
          "data": {
            "text/plain": [
              "1"
            ]
          },
          "metadata": {},
          "execution_count": 44
        }
      ]
    },
    {
      "cell_type": "code",
      "source": [
        "multilineString = \"\"\" This is a\n",
        "multiline\n",
        "string\n",
        "written in 4 lines\"\"\""
      ],
      "metadata": {
        "id": "vaCsdRjuY7qq"
      },
      "execution_count": null,
      "outputs": []
    },
    {
      "cell_type": "code",
      "source": [
        "print(multilineString)"
      ],
      "metadata": {
        "colab": {
          "base_uri": "https://localhost:8080/"
        },
        "id": "v5l3zjhNdLai",
        "outputId": "51694e5c-86f2-4ad8-e981-1bd33b489555"
      },
      "execution_count": null,
      "outputs": [
        {
          "output_type": "stream",
          "name": "stdout",
          "text": [
            " This is a \n",
            "multiline \n",
            "string \n",
            "written in 4 lines\n"
          ]
        }
      ]
    },
    {
      "cell_type": "code",
      "source": [
        "# Builtin methods of list\n",
        "\n",
        "lst = ['Reddy', 24, 'Windows', 'Web dev']"
      ],
      "metadata": {
        "id": "XhxGhxL5dM-8"
      },
      "execution_count": null,
      "outputs": []
    },
    {
      "cell_type": "code",
      "source": [
        "lst"
      ],
      "metadata": {
        "colab": {
          "base_uri": "https://localhost:8080/"
        },
        "id": "9ObMpH_AfDJe",
        "outputId": "8fe1d4e5-3b2c-4cf3-fd0c-1836520ab5dd"
      },
      "execution_count": null,
      "outputs": [
        {
          "output_type": "execute_result",
          "data": {
            "text/plain": [
              "['Reddy', 24, 'Windows', 'Web dev']"
            ]
          },
          "metadata": {},
          "execution_count": 54
        }
      ]
    },
    {
      "cell_type": "code",
      "source": [
        "lst.append(\"Raju\")"
      ],
      "metadata": {
        "id": "m1pKc1FVfEZF"
      },
      "execution_count": null,
      "outputs": []
    },
    {
      "cell_type": "code",
      "source": [
        "lst"
      ],
      "metadata": {
        "colab": {
          "base_uri": "https://localhost:8080/"
        },
        "id": "tY0o9C-EfKFb",
        "outputId": "00f68cc9-6aad-4250-c08a-115b0b2a1154"
      },
      "execution_count": null,
      "outputs": [
        {
          "output_type": "execute_result",
          "data": {
            "text/plain": [
              "['Reddy', 24, 'Windows', 'Web dev', 'Raju']"
            ]
          },
          "metadata": {},
          "execution_count": 56
        }
      ]
    },
    {
      "cell_type": "code",
      "source": [
        "lst.index(\"Raju\")"
      ],
      "metadata": {
        "colab": {
          "base_uri": "https://localhost:8080/"
        },
        "id": "lgXZ24z6fLa-",
        "outputId": "43c692ff-3c2a-48d0-dc31-569a07da2aeb"
      },
      "execution_count": null,
      "outputs": [
        {
          "output_type": "execute_result",
          "data": {
            "text/plain": [
              "4"
            ]
          },
          "metadata": {},
          "execution_count": 57
        }
      ]
    },
    {
      "cell_type": "code",
      "source": [
        "lst.pop() # removes last one in the list"
      ],
      "metadata": {
        "colab": {
          "base_uri": "https://localhost:8080/",
          "height": 35
        },
        "id": "DrlNCzIpfP_g",
        "outputId": "41e42a0f-e6d3-472f-ff57-010fcec17484"
      },
      "execution_count": null,
      "outputs": [
        {
          "output_type": "execute_result",
          "data": {
            "text/plain": [
              "'Raju'"
            ],
            "application/vnd.google.colaboratory.intrinsic+json": {
              "type": "string"
            }
          },
          "metadata": {},
          "execution_count": 59
        }
      ]
    },
    {
      "cell_type": "code",
      "source": [
        "lst"
      ],
      "metadata": {
        "colab": {
          "base_uri": "https://localhost:8080/"
        },
        "id": "Kcxm6WIEfmEP",
        "outputId": "9b61d09d-4fa5-4ab9-975a-1e0ace83bea2"
      },
      "execution_count": null,
      "outputs": [
        {
          "output_type": "execute_result",
          "data": {
            "text/plain": [
              "['Reddy', 24, 'Windows', 'Web dev']"
            ]
          },
          "metadata": {},
          "execution_count": 60
        }
      ]
    },
    {
      "cell_type": "code",
      "source": [
        "lst.remove(24) # removes any data from the list"
      ],
      "metadata": {
        "id": "y9tO82ZcfpAW"
      },
      "execution_count": null,
      "outputs": []
    },
    {
      "cell_type": "code",
      "source": [
        "lst"
      ],
      "metadata": {
        "colab": {
          "base_uri": "https://localhost:8080/"
        },
        "id": "AQkL1n_6froB",
        "outputId": "8625f0aa-1a6c-4f5d-d99f-8ebd5897a2e3"
      },
      "execution_count": null,
      "outputs": [
        {
          "output_type": "execute_result",
          "data": {
            "text/plain": [
              "['Reddy', 'Windows', 'Web dev']"
            ]
          },
          "metadata": {},
          "execution_count": 62
        }
      ]
    },
    {
      "cell_type": "code",
      "source": [
        "lst.insert(2, 'manoj')"
      ],
      "metadata": {
        "id": "TGMasCULfsR5"
      },
      "execution_count": null,
      "outputs": []
    },
    {
      "cell_type": "code",
      "source": [
        "lst"
      ],
      "metadata": {
        "colab": {
          "base_uri": "https://localhost:8080/"
        },
        "id": "4qiHaNWVgBya",
        "outputId": "5697bdd4-4e7f-43fd-d723-11ab0d15ec14"
      },
      "execution_count": null,
      "outputs": [
        {
          "output_type": "execute_result",
          "data": {
            "text/plain": [
              "['Reddy', 'Windows', 'manoj', 'Web dev']"
            ]
          },
          "metadata": {},
          "execution_count": 64
        }
      ]
    },
    {
      "cell_type": "code",
      "source": [
        "dit = {\"name\":\"Reddy\", \"age\":24, \"email\": \"reddy@gmail.com\"}"
      ],
      "metadata": {
        "id": "E7fFwvBDgCUy"
      },
      "execution_count": null,
      "outputs": []
    },
    {
      "cell_type": "code",
      "source": [
        "dit.keys()"
      ],
      "metadata": {
        "colab": {
          "base_uri": "https://localhost:8080/"
        },
        "id": "kwgM15AxgjYx",
        "outputId": "2f62e8fa-b3fb-4156-fc71-41b85ac2756a"
      },
      "execution_count": null,
      "outputs": [
        {
          "output_type": "execute_result",
          "data": {
            "text/plain": [
              "dict_keys(['name', 'age', 'email'])"
            ]
          },
          "metadata": {},
          "execution_count": 66
        }
      ]
    },
    {
      "cell_type": "code",
      "source": [
        "dit.values()"
      ],
      "metadata": {
        "colab": {
          "base_uri": "https://localhost:8080/"
        },
        "id": "9W6oQzRygl6t",
        "outputId": "903cdbf9-3727-4d6e-b7ad-e84289527ee7"
      },
      "execution_count": null,
      "outputs": [
        {
          "output_type": "execute_result",
          "data": {
            "text/plain": [
              "dict_values(['Reddy', 24, 'reddy@gmail.com'])"
            ]
          },
          "metadata": {},
          "execution_count": 67
        }
      ]
    },
    {
      "cell_type": "code",
      "source": [
        "dit.get(\"email\")"
      ],
      "metadata": {
        "colab": {
          "base_uri": "https://localhost:8080/",
          "height": 35
        },
        "id": "Tnyy1xsHgrF2",
        "outputId": "de16b30a-a95d-46b4-bbaa-c92fa1e46364"
      },
      "execution_count": null,
      "outputs": [
        {
          "output_type": "execute_result",
          "data": {
            "text/plain": [
              "'reddy@gmail.com'"
            ],
            "application/vnd.google.colaboratory.intrinsic+json": {
              "type": "string"
            }
          },
          "metadata": {},
          "execution_count": 68
        }
      ]
    },
    {
      "cell_type": "code",
      "source": [
        "dit[\"email\"]"
      ],
      "metadata": {
        "colab": {
          "base_uri": "https://localhost:8080/",
          "height": 35
        },
        "id": "Aj52G6eFgws1",
        "outputId": "b7e51d3e-a57a-46bf-8021-58777de05322"
      },
      "execution_count": null,
      "outputs": [
        {
          "output_type": "execute_result",
          "data": {
            "text/plain": [
              "'reddy@gmail.com'"
            ],
            "application/vnd.google.colaboratory.intrinsic+json": {
              "type": "string"
            }
          },
          "metadata": {},
          "execution_count": 69
        }
      ]
    },
    {
      "cell_type": "code",
      "source": [
        "dit[\"loc\"] # gives error if undefined key is given"
      ],
      "metadata": {
        "colab": {
          "base_uri": "https://localhost:8080/",
          "height": 141
        },
        "id": "3cb4gJ_zg-Da",
        "outputId": "f8ea2cb9-c37e-4813-c669-7911a425026a"
      },
      "execution_count": null,
      "outputs": [
        {
          "output_type": "error",
          "ename": "KeyError",
          "evalue": "'loc'",
          "traceback": [
            "\u001b[0;31m---------------------------------------------------------------------------\u001b[0m",
            "\u001b[0;31mKeyError\u001b[0m                                  Traceback (most recent call last)",
            "\u001b[0;32m<ipython-input-70-75dfc67ccbbd>\u001b[0m in \u001b[0;36m<cell line: 1>\u001b[0;34m()\u001b[0m\n\u001b[0;32m----> 1\u001b[0;31m \u001b[0mdit\u001b[0m\u001b[0;34m[\u001b[0m\u001b[0;34m\"loc\"\u001b[0m\u001b[0;34m]\u001b[0m\u001b[0;34m\u001b[0m\u001b[0;34m\u001b[0m\u001b[0m\n\u001b[0m",
            "\u001b[0;31mKeyError\u001b[0m: 'loc'"
          ]
        }
      ]
    },
    {
      "cell_type": "code",
      "source": [
        "dit.get(\"loc\") # get does not gives error if undefuned key is given"
      ],
      "metadata": {
        "id": "wM9dJXR6hASi"
      },
      "execution_count": null,
      "outputs": []
    },
    {
      "cell_type": "code",
      "source": [
        "dit.clear()"
      ],
      "metadata": {
        "id": "m-N3vYIghEoT"
      },
      "execution_count": null,
      "outputs": []
    },
    {
      "cell_type": "code",
      "source": [
        "dit"
      ],
      "metadata": {
        "colab": {
          "base_uri": "https://localhost:8080/"
        },
        "id": "9k5xzDzthQhe",
        "outputId": "92dde10b-b3ab-40b8-ebc3-e88440a1a16b"
      },
      "execution_count": null,
      "outputs": [
        {
          "output_type": "execute_result",
          "data": {
            "text/plain": [
              "{}"
            ]
          },
          "metadata": {},
          "execution_count": 73
        }
      ]
    },
    {
      "cell_type": "code",
      "source": [
        "dit"
      ],
      "metadata": {
        "colab": {
          "base_uri": "https://localhost:8080/"
        },
        "id": "IR8qYNIjhRX4",
        "outputId": "c9b6c414-2963-434f-dfd3-b0858d89a460"
      },
      "execution_count": null,
      "outputs": [
        {
          "output_type": "execute_result",
          "data": {
            "text/plain": [
              "{'name': 'Reddy', 'age': 24, 'email': 'reddy@gmail.com'}"
            ]
          },
          "metadata": {},
          "execution_count": 75
        }
      ]
    },
    {
      "cell_type": "code",
      "source": [
        "dit.update({\"name\" : \"Rajasekhara Reddy\"})"
      ],
      "metadata": {
        "id": "7MfIWip2h08z"
      },
      "execution_count": null,
      "outputs": []
    },
    {
      "cell_type": "code",
      "source": [
        "dit"
      ],
      "metadata": {
        "colab": {
          "base_uri": "https://localhost:8080/"
        },
        "id": "YnnabylAh63c",
        "outputId": "d9c8fcd4-f37d-4548-b7f2-bc1873573eaa"
      },
      "execution_count": null,
      "outputs": [
        {
          "output_type": "execute_result",
          "data": {
            "text/plain": [
              "{'name': 'Rajasekhara Reddy', 'age': 24, 'email': 'reddy@gmail.com'}"
            ]
          },
          "metadata": {},
          "execution_count": 77
        }
      ]
    },
    {
      "cell_type": "markdown",
      "source": [
        "# Control Flow"
      ],
      "metadata": {
        "id": "oLy0JsfRiIsF"
      }
    },
    {
      "cell_type": "markdown",
      "source": [
        "## Comparision Operatior"
      ],
      "metadata": {
        "id": "0vYUmHuDlu45"
      }
    },
    {
      "cell_type": "code",
      "source": [
        "# Comparision operatior\n",
        "\n",
        "a = 10;\n",
        "b = 20;\n",
        "c = 10;"
      ],
      "metadata": {
        "id": "N02bDnRFh7is"
      },
      "execution_count": null,
      "outputs": []
    },
    {
      "cell_type": "code",
      "source": [
        "(a == c)"
      ],
      "metadata": {
        "colab": {
          "base_uri": "https://localhost:8080/"
        },
        "id": "7ZRT6wAwk_9p",
        "outputId": "ad61046a-0d6c-496a-dd53-ae5f93a260b2"
      },
      "execution_count": null,
      "outputs": [
        {
          "output_type": "execute_result",
          "data": {
            "text/plain": [
              "True"
            ]
          },
          "metadata": {},
          "execution_count": 82
        }
      ]
    },
    {
      "cell_type": "code",
      "source": [
        "(a != b)"
      ],
      "metadata": {
        "colab": {
          "base_uri": "https://localhost:8080/"
        },
        "id": "9SCZynBNlCJl",
        "outputId": "4a30616d-4c9d-45dc-dd6f-c8469ecdae6c"
      },
      "execution_count": null,
      "outputs": [
        {
          "output_type": "execute_result",
          "data": {
            "text/plain": [
              "True"
            ]
          },
          "metadata": {},
          "execution_count": 83
        }
      ]
    },
    {
      "cell_type": "code",
      "source": [
        "(a > b)"
      ],
      "metadata": {
        "colab": {
          "base_uri": "https://localhost:8080/"
        },
        "id": "NYtrqtgElUbj",
        "outputId": "127a76c3-8c6f-41c8-de35-b6de97b875dd"
      },
      "execution_count": null,
      "outputs": [
        {
          "output_type": "execute_result",
          "data": {
            "text/plain": [
              "False"
            ]
          },
          "metadata": {},
          "execution_count": 84
        }
      ]
    },
    {
      "cell_type": "code",
      "source": [
        "(a < b)"
      ],
      "metadata": {
        "colab": {
          "base_uri": "https://localhost:8080/"
        },
        "id": "tCVOVHE1lWun",
        "outputId": "e88e3500-e6be-48d9-b231-10df20127e3f"
      },
      "execution_count": null,
      "outputs": [
        {
          "output_type": "execute_result",
          "data": {
            "text/plain": [
              "True"
            ]
          },
          "metadata": {},
          "execution_count": 85
        }
      ]
    },
    {
      "cell_type": "code",
      "source": [
        "(a <= b)"
      ],
      "metadata": {
        "colab": {
          "base_uri": "https://localhost:8080/"
        },
        "id": "JSIosNEQlYde",
        "outputId": "cf8f01de-dcd2-4ab1-84a4-9bbd35d2cd2b"
      },
      "execution_count": null,
      "outputs": [
        {
          "output_type": "execute_result",
          "data": {
            "text/plain": [
              "True"
            ]
          },
          "metadata": {},
          "execution_count": 86
        }
      ]
    },
    {
      "cell_type": "code",
      "source": [
        "(a>= c)"
      ],
      "metadata": {
        "colab": {
          "base_uri": "https://localhost:8080/"
        },
        "id": "vYQDFfcZlaDz",
        "outputId": "8fdb6ff3-477d-43c4-b5e6-100e5993fa5c"
      },
      "execution_count": null,
      "outputs": [
        {
          "output_type": "execute_result",
          "data": {
            "text/plain": [
              "True"
            ]
          },
          "metadata": {},
          "execution_count": 87
        }
      ]
    },
    {
      "cell_type": "code",
      "source": [
        "# Logical operatiors\n",
        "# AND\n",
        "# OR\n",
        "# NOT"
      ],
      "metadata": {
        "id": "3R-RcEQ6leRQ"
      },
      "execution_count": null,
      "outputs": []
    },
    {
      "cell_type": "code",
      "source": [
        "tf_light = 'green'\n",
        "tf = 'empty'"
      ],
      "metadata": {
        "id": "NEHQwxL0nAWi"
      },
      "execution_count": null,
      "outputs": []
    },
    {
      "cell_type": "code",
      "source": [
        "tf_light == 'green' and tf == 'empty'"
      ],
      "metadata": {
        "colab": {
          "base_uri": "https://localhost:8080/"
        },
        "id": "SOy2TbylnEwQ",
        "outputId": "e6bd2801-91df-40be-c68f-f4dd13820de2"
      },
      "execution_count": null,
      "outputs": [
        {
          "output_type": "execute_result",
          "data": {
            "text/plain": [
              "True"
            ]
          },
          "metadata": {},
          "execution_count": 93
        }
      ]
    },
    {
      "cell_type": "code",
      "source": [
        "tf_light == 'red' and tf == 'empty'"
      ],
      "metadata": {
        "colab": {
          "base_uri": "https://localhost:8080/"
        },
        "id": "r91gX-ZbnJxD",
        "outputId": "44a6000b-b3dd-4647-b568-1d6d78c0b9aa"
      },
      "execution_count": null,
      "outputs": [
        {
          "output_type": "execute_result",
          "data": {
            "text/plain": [
              "False"
            ]
          },
          "metadata": {},
          "execution_count": 94
        }
      ]
    },
    {
      "cell_type": "code",
      "source": [
        "tf_light == 'green' or tf == 'empty'"
      ],
      "metadata": {
        "colab": {
          "base_uri": "https://localhost:8080/"
        },
        "id": "tK3nS-IQnNJT",
        "outputId": "9dd98a2a-7d7e-4222-d5bb-58fc05fef4c0"
      },
      "execution_count": null,
      "outputs": [
        {
          "output_type": "execute_result",
          "data": {
            "text/plain": [
              "True"
            ]
          },
          "metadata": {},
          "execution_count": 95
        }
      ]
    },
    {
      "cell_type": "markdown",
      "source": [
        "# If Else"
      ],
      "metadata": {
        "id": "a_2FbnEBncdk"
      }
    },
    {
      "cell_type": "code",
      "source": [
        "is_hungry = \"Yes\""
      ],
      "metadata": {
        "id": "8VwrJeKCneoI"
      },
      "execution_count": null,
      "outputs": []
    },
    {
      "cell_type": "code",
      "source": [
        "if (is_hungry == \"Yes\"):\n",
        "  print(\"Order food from Zomatio\")\n",
        "  print(\"may be order chicken\")\n",
        "  print(\"Pay using Card\")\n",
        "else:\n",
        "  print(\"Ignore orders\")"
      ],
      "metadata": {
        "colab": {
          "base_uri": "https://localhost:8080/"
        },
        "id": "d4dHipzrnojd",
        "outputId": "5eeafec4-55a5-4e14-899e-826111a21b63"
      },
      "execution_count": null,
      "outputs": [
        {
          "output_type": "stream",
          "name": "stdout",
          "text": [
            "Order food from Zomatio\n",
            "may be order chicken\n",
            "Pay using Card\n"
          ]
        }
      ]
    },
    {
      "cell_type": "code",
      "source": [
        "# if elif else\n",
        "\n",
        "marks = 81"
      ],
      "metadata": {
        "id": "pVPiFkYJoBkE"
      },
      "execution_count": null,
      "outputs": []
    },
    {
      "cell_type": "code",
      "source": [
        "if(marks > 90):\n",
        "  print(\"A+++\")\n",
        "elif marks > 80:\n",
        "  print(\"A++\")\n",
        "elif marks > 70:\n",
        "  print('A+')\n",
        "elif marks > 60:\n",
        "  print('A')\n",
        "else:\n",
        "  print('Ok good')\n"
      ],
      "metadata": {
        "colab": {
          "base_uri": "https://localhost:8080/"
        },
        "id": "WoBuWm97poJX",
        "outputId": "da8b6466-d8e6-493f-d685-3a9d0becffc0"
      },
      "execution_count": null,
      "outputs": [
        {
          "output_type": "stream",
          "name": "stdout",
          "text": [
            "A++\n"
          ]
        }
      ]
    },
    {
      "cell_type": "markdown",
      "source": [
        "# If else Calculator"
      ],
      "metadata": {
        "id": "STIxb6MCs0xq"
      }
    },
    {
      "cell_type": "code",
      "source": [
        "# lets build a calculator\n",
        "\n",
        "num1 = int(input(\"Enter num 1 : \"))\n",
        "num1"
      ],
      "metadata": {
        "colab": {
          "base_uri": "https://localhost:8080/"
        },
        "id": "Ds0j_3s5qRbr",
        "outputId": "078f1dd9-c827-43c4-9b69-3e09fcc5448e"
      },
      "execution_count": null,
      "outputs": [
        {
          "name": "stdout",
          "output_type": "stream",
          "text": [
            "Enter num 1 : 45\n"
          ]
        },
        {
          "output_type": "execute_result",
          "data": {
            "text/plain": [
              "45"
            ]
          },
          "metadata": {},
          "execution_count": 107
        }
      ]
    },
    {
      "cell_type": "code",
      "source": [
        "num2 = int(input(\"Enter num 2 : \"))\n",
        "num2"
      ],
      "metadata": {
        "colab": {
          "base_uri": "https://localhost:8080/"
        },
        "id": "rZT49N9Oqtlu",
        "outputId": "9047aeaf-5182-42b8-a89a-baa2b1d3b6be"
      },
      "execution_count": null,
      "outputs": [
        {
          "name": "stdout",
          "output_type": "stream",
          "text": [
            "Enter num 2 : 55\n"
          ]
        },
        {
          "output_type": "execute_result",
          "data": {
            "text/plain": [
              "55"
            ]
          },
          "metadata": {},
          "execution_count": 108
        }
      ]
    },
    {
      "cell_type": "code",
      "source": [
        "operation = input(\"enter operation (+,-,/,*) : \" )\n",
        "operation"
      ],
      "metadata": {
        "colab": {
          "base_uri": "https://localhost:8080/",
          "height": 53
        },
        "id": "QzYQkn7wrIlB",
        "outputId": "c4f3e785-9eee-43c0-854e-adda884fb89f"
      },
      "execution_count": null,
      "outputs": [
        {
          "name": "stdout",
          "output_type": "stream",
          "text": [
            "enter operation (+,-,/,*) : /\n"
          ]
        },
        {
          "output_type": "execute_result",
          "data": {
            "text/plain": [
              "'/'"
            ],
            "application/vnd.google.colaboratory.intrinsic+json": {
              "type": "string"
            }
          },
          "metadata": {},
          "execution_count": 117
        }
      ]
    },
    {
      "cell_type": "code",
      "source": [
        "if operation == \"-\":\n",
        "  print(num1 - num2)\n",
        "elif operation == \"+\":\n",
        "  print(num1 + num2)\n",
        "elif operation == \"*\":\n",
        "  print(num1 * num2)\n",
        "elif operation == \"/\":\n",
        "  print(num1 / num2)\n",
        "else:\n",
        "  print(\"Invalid input\")"
      ],
      "metadata": {
        "colab": {
          "base_uri": "https://localhost:8080/"
        },
        "id": "dUjeY86Krwjd",
        "outputId": "f70f5f36-92a6-4dff-87b2-9ce0e0e0bcf7"
      },
      "execution_count": null,
      "outputs": [
        {
          "output_type": "stream",
          "name": "stdout",
          "text": [
            "0.8181818181818182\n"
          ]
        }
      ]
    },
    {
      "cell_type": "markdown",
      "source": [
        "# For Loop"
      ],
      "metadata": {
        "id": "5G7FxsyL3GGE"
      }
    },
    {
      "cell_type": "code",
      "source": [
        "lt = ['Reddy', 'Sai', 'Ravi', 'Yadav', 'Suresh']"
      ],
      "metadata": {
        "id": "V3bFb5Rgsghb"
      },
      "execution_count": 119,
      "outputs": []
    },
    {
      "cell_type": "code",
      "source": [
        "lt\n"
      ],
      "metadata": {
        "colab": {
          "base_uri": "https://localhost:8080/"
        },
        "id": "QGjjgNEs5DD8",
        "outputId": "5a4c37ef-5f09-44b5-8ea5-4963fec7f850"
      },
      "execution_count": 120,
      "outputs": [
        {
          "output_type": "execute_result",
          "data": {
            "text/plain": [
              "['Reddy', 'Sai', 'Ravi', 'Yadav', 'Suresh']"
            ]
          },
          "metadata": {},
          "execution_count": 120
        }
      ]
    },
    {
      "cell_type": "code",
      "source": [
        "for temp in lt:\n",
        "  print(temp)"
      ],
      "metadata": {
        "colab": {
          "base_uri": "https://localhost:8080/"
        },
        "id": "8F2A42vK5D4H",
        "outputId": "438c081a-19f5-4426-b95e-e6cb556aa41f"
      },
      "execution_count": 121,
      "outputs": [
        {
          "output_type": "stream",
          "name": "stdout",
          "text": [
            "Reddy\n",
            "Sai\n",
            "Ravi\n",
            "Yadav\n",
            "Suresh\n"
          ]
        }
      ]
    },
    {
      "cell_type": "code",
      "source": [
        "for temp in lt:\n",
        "  print(temp)\n",
        "else:\n",
        "  print(\"We are done with the loop !\")"
      ],
      "metadata": {
        "colab": {
          "base_uri": "https://localhost:8080/"
        },
        "id": "d3W-xwWt5ITf",
        "outputId": "c6cd8c5a-74e1-41aa-db9d-dffa3d8c64e6"
      },
      "execution_count": 122,
      "outputs": [
        {
          "output_type": "stream",
          "name": "stdout",
          "text": [
            "Reddy\n",
            "Sai\n",
            "Ravi\n",
            "Yadav\n",
            "Suresh\n",
            "We are done with the loop !\n"
          ]
        }
      ]
    },
    {
      "cell_type": "code",
      "source": [],
      "metadata": {
        "id": "ED7w6DBb59dd"
      },
      "execution_count": null,
      "outputs": []
    }
  ]
}