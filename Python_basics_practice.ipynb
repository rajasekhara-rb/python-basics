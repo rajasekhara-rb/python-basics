{
  "nbformat": 4,
  "nbformat_minor": 0,
  "metadata": {
    "colab": {
      "provenance": [],
      "toc_visible": true,
      "authorship_tag": "ABX9TyMyP39QpMQ4Pnt1HGblRkR7",
      "include_colab_link": true
    },
    "kernelspec": {
      "name": "python3",
      "display_name": "Python 3"
    },
    "language_info": {
      "name": "python"
    }
  },
  "cells": [
    {
      "cell_type": "markdown",
      "metadata": {
        "id": "view-in-github",
        "colab_type": "text"
      },
      "source": [
        "<a href=\"https://colab.research.google.com/github/rajasekhara-rb/python-basics/blob/main/Python_basics_practice.ipynb\" target=\"_parent\"><img src=\"https://colab.research.google.com/assets/colab-badge.svg\" alt=\"Open In Colab\"/></a>"
      ]
    },
    {
      "cell_type": "code",
      "execution_count": null,
      "metadata": {
        "id": "uhiB9LyQVA3R"
      },
      "outputs": [],
      "source": []
    },
    {
      "cell_type": "markdown",
      "source": [
        "# Python Basics"
      ],
      "metadata": {
        "id": "SqUWdqV_Vpiv"
      }
    },
    {
      "cell_type": "markdown",
      "source": [
        "## Sytax of Python"
      ],
      "metadata": {
        "id": "03d7T6_AaENA"
      }
    },
    {
      "cell_type": "code",
      "source": [
        "print(\"Hello World\")"
      ],
      "metadata": {
        "colab": {
          "base_uri": "https://localhost:8080/"
        },
        "id": "s18OCL6OV_Hb",
        "outputId": "80c4d352-604b-4565-f93f-6a02d1761e16"
      },
      "execution_count": null,
      "outputs": [
        {
          "output_type": "stream",
          "name": "stdout",
          "text": [
            "Hello World\n"
          ]
        }
      ]
    },
    {
      "cell_type": "markdown",
      "source": [
        "## Comments"
      ],
      "metadata": {
        "id": "ZjNZ41ZOagE1"
      }
    },
    {
      "cell_type": "code",
      "source": [
        "# This is a single line comment\n",
        "print(\"Hello\")"
      ],
      "metadata": {
        "colab": {
          "base_uri": "https://localhost:8080/"
        },
        "id": "gxpGSPoAaUd-",
        "outputId": "a6419c61-343c-4379-91c8-f65f3ad3065e"
      },
      "execution_count": null,
      "outputs": [
        {
          "output_type": "stream",
          "name": "stdout",
          "text": [
            "Hello\n"
          ]
        }
      ]
    },
    {
      "cell_type": "code",
      "source": [
        "# this is a\n",
        "# multiline\n",
        "#comment\n",
        "print('multiline comment')"
      ],
      "metadata": {
        "colab": {
          "base_uri": "https://localhost:8080/"
        },
        "id": "XJqREYyjas76",
        "outputId": "7b1f00bd-8a2d-4e56-b46c-a9374aea8548"
      },
      "execution_count": null,
      "outputs": [
        {
          "output_type": "stream",
          "name": "stdout",
          "text": [
            "multiline comment\n"
          ]
        }
      ]
    },
    {
      "cell_type": "code",
      "source": [
        "\"\"\"\n",
        "This is also a\n",
        "multi line\n",
        "comment written,\n",
        "which the program will ignore while execution\n",
        "\"\"\"\n",
        "print(\"comments\")"
      ],
      "metadata": {
        "colab": {
          "base_uri": "https://localhost:8080/"
        },
        "id": "pq-BKvIfa1kE",
        "outputId": "3ae7663e-e292-483c-a27b-da54b6bec81d"
      },
      "execution_count": null,
      "outputs": [
        {
          "output_type": "stream",
          "name": "stdout",
          "text": [
            "comments\n"
          ]
        }
      ]
    },
    {
      "cell_type": "markdown",
      "source": [
        "## Python Variables"
      ],
      "metadata": {
        "id": "vWmtYhT9dGhn"
      }
    },
    {
      "cell_type": "code",
      "source": [
        "x = 5 # int\n",
        "y = 'Reddy' # str\n",
        "z = 5.5 # float"
      ],
      "metadata": {
        "id": "OsR424i9bHF4"
      },
      "execution_count": null,
      "outputs": []
    },
    {
      "cell_type": "code",
      "source": [
        "print(x)\n",
        "print(y)\n",
        "print(z)"
      ],
      "metadata": {
        "colab": {
          "base_uri": "https://localhost:8080/"
        },
        "id": "UkgNfEBpdY5V",
        "outputId": "c85321f3-6c5d-4bdb-b264-ba14318fd5f3"
      },
      "execution_count": null,
      "outputs": [
        {
          "output_type": "stream",
          "name": "stdout",
          "text": [
            "5\n",
            "Reddy\n",
            "5.5\n"
          ]
        }
      ]
    },
    {
      "cell_type": "code",
      "source": [
        "print(type(x))\n",
        "print(type(y))"
      ],
      "metadata": {
        "colab": {
          "base_uri": "https://localhost:8080/"
        },
        "id": "eRrDZYjSdaHi",
        "outputId": "9fc9807b-50b1-4710-d282-9995e4de7122"
      },
      "execution_count": null,
      "outputs": [
        {
          "output_type": "stream",
          "name": "stdout",
          "text": [
            "<class 'int'>\n",
            "<class 'str'>\n"
          ]
        }
      ]
    },
    {
      "cell_type": "code",
      "source": [
        "# type casting\n",
        "\n",
        "print(int(5))\n",
        "print(str(5))\n",
        "print(float(5))"
      ],
      "metadata": {
        "colab": {
          "base_uri": "https://localhost:8080/"
        },
        "id": "_FgSjQmydmjo",
        "outputId": "57b3ff2a-67b9-4330-9a85-b99759962910"
      },
      "execution_count": null,
      "outputs": [
        {
          "output_type": "stream",
          "name": "stdout",
          "text": [
            "5\n",
            "5\n",
            "5.0\n"
          ]
        }
      ]
    },
    {
      "cell_type": "code",
      "source": [
        "# assigning multiple var\n",
        "a , b, c = 1, 10, 55\n",
        "print(a, b, c)"
      ],
      "metadata": {
        "colab": {
          "base_uri": "https://localhost:8080/"
        },
        "id": "UUFcdAqLd7dR",
        "outputId": "e19143db-a799-4bcd-f789-968f538196e4"
      },
      "execution_count": null,
      "outputs": [
        {
          "output_type": "stream",
          "name": "stdout",
          "text": [
            "1 10 55\n"
          ]
        }
      ]
    },
    {
      "cell_type": "markdown",
      "source": [
        "## Python Data Types"
      ],
      "metadata": {
        "id": "TOmk7PDMe35N"
      }
    },
    {
      "cell_type": "markdown",
      "source": [
        "Python has the following data types built-in by default, in these categories:\n",
        "\n",
        "* Text Type:\tstr\n",
        "* Numeric Types:\tint, float, complex\n",
        "* Sequence Types:\tlist, tuple, range\n",
        "* Mapping Type:\tdict\n",
        "* Set Types:\tset, frozenset\n",
        "* Boolean Type:\tbool\n",
        "* Binary Types:\tbytes, bytearray, memoryview\n",
        "* None Type:\tNoneType"
      ],
      "metadata": {
        "id": "t0J11vOlfVfd"
      }
    },
    {
      "cell_type": "markdown",
      "source": [
        "### Text Type"
      ],
      "metadata": {
        "id": "sto76OUfjMGC"
      }
    },
    {
      "cell_type": "markdown",
      "source": [
        "#### Str Data Type"
      ],
      "metadata": {
        "id": "S4O5kddbjSwk"
      }
    },
    {
      "cell_type": "code",
      "source": [
        "# string str\n",
        "x = \"This is a string\"\n",
        "type(x)"
      ],
      "metadata": {
        "colab": {
          "base_uri": "https://localhost:8080/"
        },
        "id": "TJgbWksJhX2R",
        "outputId": "3c2e363b-018d-4047-afa4-8aa2552bb77c"
      },
      "execution_count": null,
      "outputs": [
        {
          "output_type": "execute_result",
          "data": {
            "text/plain": [
              "str"
            ]
          },
          "metadata": {},
          "execution_count": 44
        }
      ]
    },
    {
      "cell_type": "code",
      "source": [
        "# string setting\n",
        "x = str(\"Hello\")\n",
        "print(x)\n",
        "type(x)"
      ],
      "metadata": {
        "colab": {
          "base_uri": "https://localhost:8080/"
        },
        "id": "Vt9HrMvSnOmT",
        "outputId": "e4d30b13-9722-4326-cfae-6b2fb1eb2c1c"
      },
      "execution_count": null,
      "outputs": [
        {
          "output_type": "stream",
          "name": "stdout",
          "text": [
            "Hello\n"
          ]
        },
        {
          "output_type": "execute_result",
          "data": {
            "text/plain": [
              "str"
            ]
          },
          "metadata": {},
          "execution_count": 45
        }
      ]
    },
    {
      "cell_type": "markdown",
      "source": [
        "### Numeric Type"
      ],
      "metadata": {
        "id": "nTsSawSej10y"
      }
    },
    {
      "cell_type": "markdown",
      "source": [
        "#### int Data Type"
      ],
      "metadata": {
        "id": "QFT2fKQ5jdn_"
      }
    },
    {
      "cell_type": "code",
      "source": [
        "# number int\n",
        "x = 5\n",
        "type(x)"
      ],
      "metadata": {
        "colab": {
          "base_uri": "https://localhost:8080/"
        },
        "id": "gFKrOHePe0f-",
        "outputId": "1057f3be-a976-4dca-c2f5-00e2fdc75eee"
      },
      "execution_count": null,
      "outputs": [
        {
          "output_type": "execute_result",
          "data": {
            "text/plain": [
              "int"
            ]
          },
          "metadata": {},
          "execution_count": 39
        }
      ]
    },
    {
      "cell_type": "code",
      "source": [
        "# setting\n",
        "x = int(50)\n",
        "print(x)\n",
        "type(x)"
      ],
      "metadata": {
        "colab": {
          "base_uri": "https://localhost:8080/"
        },
        "id": "4Yo6qgq6mzmF",
        "outputId": "b72bd27b-84c4-4f5a-884d-82a078fb1434"
      },
      "execution_count": null,
      "outputs": [
        {
          "output_type": "stream",
          "name": "stdout",
          "text": [
            "50\n"
          ]
        },
        {
          "output_type": "execute_result",
          "data": {
            "text/plain": [
              "int"
            ]
          },
          "metadata": {},
          "execution_count": 43
        }
      ]
    },
    {
      "cell_type": "markdown",
      "source": [
        "#### float Data Type"
      ],
      "metadata": {
        "id": "GW3tB2FFjpTT"
      }
    },
    {
      "cell_type": "code",
      "source": [
        "# floating numbers or float\n",
        "x = 5.6\n",
        "type(x)"
      ],
      "metadata": {
        "colab": {
          "base_uri": "https://localhost:8080/"
        },
        "id": "IOw2lwEUfM3Y",
        "outputId": "4546e5cd-d1b5-455e-d13f-51ef476f0b89"
      },
      "execution_count": null,
      "outputs": [
        {
          "output_type": "execute_result",
          "data": {
            "text/plain": [
              "float"
            ]
          },
          "metadata": {},
          "execution_count": 24
        }
      ]
    },
    {
      "cell_type": "code",
      "source": [
        "# float setting\n",
        "x = float(5.5)\n",
        "print(x)\n",
        "type(x)"
      ],
      "metadata": {
        "colab": {
          "base_uri": "https://localhost:8080/"
        },
        "id": "ICdQt_w8nX6N",
        "outputId": "fa8e13f5-5d3d-4622-ad50-7948dec57dd5"
      },
      "execution_count": null,
      "outputs": [
        {
          "output_type": "stream",
          "name": "stdout",
          "text": [
            "5.5\n"
          ]
        },
        {
          "output_type": "execute_result",
          "data": {
            "text/plain": [
              "float"
            ]
          },
          "metadata": {},
          "execution_count": 46
        }
      ]
    },
    {
      "cell_type": "markdown",
      "source": [
        "#### Complex Data Type"
      ],
      "metadata": {
        "id": "qdMSddeKjtn7"
      }
    },
    {
      "cell_type": "code",
      "source": [
        "# complex\n",
        "x = 1j\n",
        "type(x)"
      ],
      "metadata": {
        "colab": {
          "base_uri": "https://localhost:8080/"
        },
        "id": "Zd5CnytLhti2",
        "outputId": "fc9f5ccd-38fa-4b91-f5f8-e04183c325fd"
      },
      "execution_count": null,
      "outputs": [
        {
          "output_type": "execute_result",
          "data": {
            "text/plain": [
              "complex"
            ]
          },
          "metadata": {},
          "execution_count": 25
        }
      ]
    },
    {
      "cell_type": "code",
      "source": [
        "# complex data type setting\n",
        "x = complex(1j)\n",
        "print(x)\n",
        "type(x)"
      ],
      "metadata": {
        "colab": {
          "base_uri": "https://localhost:8080/"
        },
        "id": "YWwHs_WonjKt",
        "outputId": "46e33a81-6192-4a53-a697-40e710ac9609"
      },
      "execution_count": null,
      "outputs": [
        {
          "output_type": "stream",
          "name": "stdout",
          "text": [
            "1j\n"
          ]
        },
        {
          "output_type": "execute_result",
          "data": {
            "text/plain": [
              "complex"
            ]
          },
          "metadata": {},
          "execution_count": 47
        }
      ]
    },
    {
      "cell_type": "markdown",
      "source": [
        "### Sequence Type"
      ],
      "metadata": {
        "id": "sAXfsiOzj9r7"
      }
    },
    {
      "cell_type": "markdown",
      "source": [
        "#### List"
      ],
      "metadata": {
        "id": "Jvp8bYXykM8w"
      }
    },
    {
      "cell_type": "code",
      "source": [
        "# list\n",
        "x = [\"apple\", \"mango\", \"guva\", \"grapes\"]\n",
        "type(x)"
      ],
      "metadata": {
        "colab": {
          "base_uri": "https://localhost:8080/"
        },
        "id": "IKIW7jF4h6UO",
        "outputId": "0c2fdd88-a3d7-4621-ae1b-07e0ac26a543"
      },
      "execution_count": null,
      "outputs": [
        {
          "output_type": "execute_result",
          "data": {
            "text/plain": [
              "list"
            ]
          },
          "metadata": {},
          "execution_count": 30
        }
      ]
    },
    {
      "cell_type": "code",
      "source": [
        "# list setting\n",
        "x = list((\"apple\", \"mango\", \"guva\"))\n",
        "print(x)\n",
        "type(x)"
      ],
      "metadata": {
        "colab": {
          "base_uri": "https://localhost:8080/"
        },
        "id": "LCOLPK9Fnvgc",
        "outputId": "08f96489-cfd9-4b58-c012-7c7ac01dc54b"
      },
      "execution_count": null,
      "outputs": [
        {
          "output_type": "stream",
          "name": "stdout",
          "text": [
            "['apple', 'mango', 'guva']\n"
          ]
        },
        {
          "output_type": "execute_result",
          "data": {
            "text/plain": [
              "list"
            ]
          },
          "metadata": {},
          "execution_count": 48
        }
      ]
    },
    {
      "cell_type": "markdown",
      "source": [
        "#### Tuple"
      ],
      "metadata": {
        "id": "c0YtHUpIkHHB"
      }
    },
    {
      "cell_type": "code",
      "source": [
        " # Tuple'\n",
        " x = ('apple', \"mango\", \"cherry\")\n",
        " type(x)"
      ],
      "metadata": {
        "colab": {
          "base_uri": "https://localhost:8080/"
        },
        "id": "AnqFU_ZaiDNq",
        "outputId": "27f94f8a-2b82-4f51-dd47-746fe400f029"
      },
      "execution_count": null,
      "outputs": [
        {
          "output_type": "execute_result",
          "data": {
            "text/plain": [
              "tuple"
            ]
          },
          "metadata": {},
          "execution_count": 31
        }
      ]
    },
    {
      "cell_type": "code",
      "source": [
        "# tuple setting\n",
        "x = tuple((\"apple\", \"mango\", \"cherry\"))\n",
        "print(x)\n",
        "type(x)"
      ],
      "metadata": {
        "colab": {
          "base_uri": "https://localhost:8080/"
        },
        "id": "k1cQkkxBn9xf",
        "outputId": "9e06d301-64c5-4400-a5b5-196621752de3"
      },
      "execution_count": null,
      "outputs": [
        {
          "output_type": "stream",
          "name": "stdout",
          "text": [
            "('apple', 'mango', 'cherry')\n"
          ]
        },
        {
          "output_type": "execute_result",
          "data": {
            "text/plain": [
              "tuple"
            ]
          },
          "metadata": {},
          "execution_count": 49
        }
      ]
    },
    {
      "cell_type": "markdown",
      "source": [
        "#### Range"
      ],
      "metadata": {
        "id": "ks32xf5uk9nt"
      }
    },
    {
      "cell_type": "code",
      "source": [
        "# range\n",
        "x = range(0,6)\n",
        "type(x)"
      ],
      "metadata": {
        "colab": {
          "base_uri": "https://localhost:8080/"
        },
        "id": "1y3LVrA4jHOB",
        "outputId": "e6cd1d88-95a8-443d-9645-ef358d7275c6"
      },
      "execution_count": null,
      "outputs": [
        {
          "output_type": "execute_result",
          "data": {
            "text/plain": [
              "range"
            ]
          },
          "metadata": {},
          "execution_count": 33
        }
      ]
    },
    {
      "cell_type": "markdown",
      "source": [
        "### Mapping Type"
      ],
      "metadata": {
        "id": "A7nAGeXklEna"
      }
    },
    {
      "cell_type": "markdown",
      "source": [
        "dict"
      ],
      "metadata": {
        "id": "mrPBVRcalG8b"
      }
    },
    {
      "cell_type": "code",
      "source": [
        "# dict\n",
        "x = {\"name\":\"Jhon\", \"age\":24}\n",
        "type(x)"
      ],
      "metadata": {
        "colab": {
          "base_uri": "https://localhost:8080/"
        },
        "id": "MtPlBUatk5pD",
        "outputId": "ce22e4ab-f4b7-4361-f7b4-06b2abec06bb"
      },
      "execution_count": null,
      "outputs": [
        {
          "output_type": "execute_result",
          "data": {
            "text/plain": [
              "dict"
            ]
          },
          "metadata": {},
          "execution_count": 34
        }
      ]
    },
    {
      "cell_type": "code",
      "source": [
        "# dict setting\n",
        "x = dict(name=\"Jhon\", age=25)\n",
        "print(x)\n",
        "type(x)"
      ],
      "metadata": {
        "colab": {
          "base_uri": "https://localhost:8080/"
        },
        "id": "VD78uFEzoNHV",
        "outputId": "c6d6a422-cc31-4487-d1ff-f04bbf53f042"
      },
      "execution_count": null,
      "outputs": [
        {
          "output_type": "stream",
          "name": "stdout",
          "text": [
            "{'name': 'Jhon', 'age': 25}\n"
          ]
        },
        {
          "output_type": "execute_result",
          "data": {
            "text/plain": [
              "dict"
            ]
          },
          "metadata": {},
          "execution_count": 50
        }
      ]
    },
    {
      "cell_type": "markdown",
      "source": [
        "### Set Types"
      ],
      "metadata": {
        "id": "QTrMNaB3leDs"
      }
    },
    {
      "cell_type": "markdown",
      "source": [
        "#### Set"
      ],
      "metadata": {
        "id": "FdrZWJ3ilht7"
      }
    },
    {
      "cell_type": "code",
      "source": [
        "#set\n",
        "x = {\"apple\", \"bat\", \"cat\", \"rat\"}\n",
        "type(x)"
      ],
      "metadata": {
        "colab": {
          "base_uri": "https://localhost:8080/"
        },
        "id": "swH1b4EclXGU",
        "outputId": "54fc1619-196f-43d2-8bfd-5f686b040142"
      },
      "execution_count": null,
      "outputs": [
        {
          "output_type": "execute_result",
          "data": {
            "text/plain": [
              "set"
            ]
          },
          "metadata": {},
          "execution_count": 51
        }
      ]
    },
    {
      "cell_type": "code",
      "source": [
        "# set setting\n",
        "x = set((\"apple\", \"apple\", \"bat\", \"cat\"))\n",
        "print(x)\n",
        "type(x)"
      ],
      "metadata": {
        "colab": {
          "base_uri": "https://localhost:8080/"
        },
        "id": "PHjsYVGzoglK",
        "outputId": "2ff48a87-e0f1-4cfd-d891-5753735e6a9f"
      },
      "execution_count": null,
      "outputs": [
        {
          "output_type": "stream",
          "name": "stdout",
          "text": [
            "{'apple', 'bat', 'cat'}\n"
          ]
        },
        {
          "output_type": "execute_result",
          "data": {
            "text/plain": [
              "set"
            ]
          },
          "metadata": {},
          "execution_count": 52
        }
      ]
    },
    {
      "cell_type": "markdown",
      "source": [
        "#### frozenset"
      ],
      "metadata": {
        "id": "mUITyg2VlyzA"
      }
    },
    {
      "cell_type": "code",
      "source": [
        "# frozenset\n",
        "x = frozenset({\"apple\", \"bat\", \"cat\", \"rat\"})\n",
        "type(x)"
      ],
      "metadata": {
        "colab": {
          "base_uri": "https://localhost:8080/"
        },
        "id": "MsSLkGIalozg",
        "outputId": "049f8f78-1874-4a58-fd1e-09cf55fc4a57"
      },
      "execution_count": null,
      "outputs": [
        {
          "output_type": "execute_result",
          "data": {
            "text/plain": [
              "frozenset"
            ]
          },
          "metadata": {},
          "execution_count": 36
        }
      ]
    },
    {
      "cell_type": "code",
      "source": [
        "# frozenset setting\n",
        "x = frozenset((\"apple\", \"apple\", \"bat\", \"cat\"))\n",
        "print(x)\n",
        "type(x)"
      ],
      "metadata": {
        "colab": {
          "base_uri": "https://localhost:8080/"
        },
        "id": "W66snB6ootTY",
        "outputId": "cca63498-7227-4072-d677-6868fe1dbe12"
      },
      "execution_count": null,
      "outputs": [
        {
          "output_type": "stream",
          "name": "stdout",
          "text": [
            "frozenset({'apple', 'bat', 'cat'})\n"
          ]
        },
        {
          "output_type": "execute_result",
          "data": {
            "text/plain": [
              "frozenset"
            ]
          },
          "metadata": {},
          "execution_count": 53
        }
      ]
    },
    {
      "cell_type": "markdown",
      "source": [
        "### Boolean Type"
      ],
      "metadata": {
        "id": "cyzedcSHmAEv"
      }
    },
    {
      "cell_type": "markdown",
      "source": [
        "#### bool"
      ],
      "metadata": {
        "id": "Rv9Vf4rimSiA"
      }
    },
    {
      "cell_type": "code",
      "source": [
        "# bool\n",
        "x = True\n",
        "type(x)"
      ],
      "metadata": {
        "colab": {
          "base_uri": "https://localhost:8080/"
        },
        "id": "5TdqXAXzl30w",
        "outputId": "501a2f03-7f87-40d1-ab16-513fb2a03aab"
      },
      "execution_count": null,
      "outputs": [
        {
          "output_type": "execute_result",
          "data": {
            "text/plain": [
              "bool"
            ]
          },
          "metadata": {},
          "execution_count": 38
        }
      ]
    },
    {
      "cell_type": "code",
      "source": [
        "# bool setting\n",
        "x = bool(5);\n",
        "print(x)\n",
        "type(x)"
      ],
      "metadata": {
        "colab": {
          "base_uri": "https://localhost:8080/"
        },
        "id": "wcUwyP8OpFCd",
        "outputId": "2f49900c-ba2a-4fc9-c9e3-9edbf32d4023"
      },
      "execution_count": null,
      "outputs": [
        {
          "output_type": "stream",
          "name": "stdout",
          "text": [
            "True\n"
          ]
        },
        {
          "output_type": "execute_result",
          "data": {
            "text/plain": [
              "bool"
            ]
          },
          "metadata": {},
          "execution_count": 54
        }
      ]
    },
    {
      "cell_type": "markdown",
      "source": [
        "### Binary Types"
      ],
      "metadata": {
        "id": "G6Rsmi8zpQLV"
      }
    },
    {
      "cell_type": "markdown",
      "source": [
        "#### Bytes"
      ],
      "metadata": {
        "id": "FRXn3n7JpR35"
      }
    },
    {
      "cell_type": "code",
      "source": [
        "# bytes\n",
        "x = b'hello'\n",
        "type(x)"
      ],
      "metadata": {
        "colab": {
          "base_uri": "https://localhost:8080/"
        },
        "id": "HYMq6eeDmEkV",
        "outputId": "ea64e20c-d254-4c04-8b0c-f2265067de5c"
      },
      "execution_count": null,
      "outputs": [
        {
          "output_type": "execute_result",
          "data": {
            "text/plain": [
              "bytes"
            ]
          },
          "metadata": {},
          "execution_count": 55
        }
      ]
    },
    {
      "cell_type": "code",
      "source": [
        "# bytes setting\n",
        "x = bytes(5)\n",
        "print(x)\n",
        "type(x)"
      ],
      "metadata": {
        "colab": {
          "base_uri": "https://localhost:8080/"
        },
        "id": "TN2UTyw9pXiw",
        "outputId": "be387bc0-d6cd-431d-9e29-79bc06dc50fa"
      },
      "execution_count": null,
      "outputs": [
        {
          "output_type": "stream",
          "name": "stdout",
          "text": [
            "b'\\x00\\x00\\x00\\x00\\x00'\n"
          ]
        },
        {
          "output_type": "execute_result",
          "data": {
            "text/plain": [
              "bytes"
            ]
          },
          "metadata": {},
          "execution_count": 56
        }
      ]
    },
    {
      "cell_type": "markdown",
      "source": [
        "#### Bytearray"
      ],
      "metadata": {
        "id": "VELWXoZmpnEQ"
      }
    },
    {
      "cell_type": "code",
      "source": [
        "# bytearray\n",
        "x = bytearray(5)\n",
        "print(x)\n",
        "type(x)"
      ],
      "metadata": {
        "colab": {
          "base_uri": "https://localhost:8080/"
        },
        "id": "cGzUUQ0RpjqX",
        "outputId": "55edc872-d7a9-44c2-a957-8a56c88af9bc"
      },
      "execution_count": null,
      "outputs": [
        {
          "output_type": "stream",
          "name": "stdout",
          "text": [
            "bytearray(b'\\x00\\x00\\x00\\x00\\x00')\n"
          ]
        },
        {
          "output_type": "execute_result",
          "data": {
            "text/plain": [
              "bytearray"
            ]
          },
          "metadata": {},
          "execution_count": 57
        }
      ]
    },
    {
      "cell_type": "markdown",
      "source": [
        "#### memoryview"
      ],
      "metadata": {
        "id": "fPrG_DGkp9k0"
      }
    },
    {
      "cell_type": "code",
      "source": [
        "# memory view\n",
        "x = memoryview(bytes(5))\n",
        "print(x)\n",
        "type(x)"
      ],
      "metadata": {
        "colab": {
          "base_uri": "https://localhost:8080/"
        },
        "id": "vFdzwAEyp0tU",
        "outputId": "9ddb1c95-c8fd-472f-8801-f99a9955fb97"
      },
      "execution_count": null,
      "outputs": [
        {
          "output_type": "stream",
          "name": "stdout",
          "text": [
            "<memory at 0x7ae537e29780>\n"
          ]
        },
        {
          "output_type": "execute_result",
          "data": {
            "text/plain": [
              "memoryview"
            ]
          },
          "metadata": {},
          "execution_count": 58
        }
      ]
    },
    {
      "cell_type": "markdown",
      "source": [
        "### None Type"
      ],
      "metadata": {
        "id": "TXH5yaRIqP32"
      }
    },
    {
      "cell_type": "code",
      "source": [
        "# noneType\n",
        "x = None\n",
        "print(x)\n",
        "type(x)"
      ],
      "metadata": {
        "colab": {
          "base_uri": "https://localhost:8080/"
        },
        "id": "A99MeFp_qFy6",
        "outputId": "7f441ea4-782c-4487-bc8b-31b7f48d947d"
      },
      "execution_count": null,
      "outputs": [
        {
          "output_type": "stream",
          "name": "stdout",
          "text": [
            "None\n"
          ]
        },
        {
          "output_type": "execute_result",
          "data": {
            "text/plain": [
              "NoneType"
            ]
          },
          "metadata": {},
          "execution_count": 59
        }
      ]
    },
    {
      "cell_type": "markdown",
      "source": [
        "## Type Converstion"
      ],
      "metadata": {
        "id": "H3Umx4DVrB90"
      }
    },
    {
      "cell_type": "code",
      "source": [
        "x = 1 # int\n",
        "y = 2.5 # float\n",
        "z = 1j #complex\n",
        "\n",
        "print(x,type(x), y, type(y), z, type(z))"
      ],
      "metadata": {
        "colab": {
          "base_uri": "https://localhost:8080/"
        },
        "id": "XSfeA30CqWUu",
        "outputId": "5bab02d7-5a1c-4e0b-e500-3f49fe43d81a"
      },
      "execution_count": null,
      "outputs": [
        {
          "output_type": "stream",
          "name": "stdout",
          "text": [
            "1 <class 'int'> 2.5 <class 'float'> 1j <class 'complex'>\n"
          ]
        }
      ]
    },
    {
      "cell_type": "code",
      "source": [
        "# int to float\n",
        "a = float(x)\n",
        "print(a, type(a))"
      ],
      "metadata": {
        "colab": {
          "base_uri": "https://localhost:8080/"
        },
        "id": "0B8tD4JIrndm",
        "outputId": "d2349a27-0842-4bcc-c5ad-fd4e381e6dc5"
      },
      "execution_count": null,
      "outputs": [
        {
          "output_type": "stream",
          "name": "stdout",
          "text": [
            "1.0 <class 'float'>\n"
          ]
        }
      ]
    },
    {
      "cell_type": "code",
      "source": [
        "# float to int\n",
        "b = int(y)\n",
        "print(b, type(b))"
      ],
      "metadata": {
        "colab": {
          "base_uri": "https://localhost:8080/"
        },
        "id": "Hm2D7rWTr1iS",
        "outputId": "d39f2848-0c28-417e-b0fd-c1ef0493ad7b"
      },
      "execution_count": null,
      "outputs": [
        {
          "output_type": "stream",
          "name": "stdout",
          "text": [
            "2 <class 'int'>\n"
          ]
        }
      ]
    },
    {
      "cell_type": "code",
      "source": [
        "# int to complex\n",
        "c = complex(x)\n",
        "print(c, type(c))"
      ],
      "metadata": {
        "colab": {
          "base_uri": "https://localhost:8080/"
        },
        "id": "HmM2ytlpsBCs",
        "outputId": "37292dd5-4891-4a81-aaa9-59c27fa7e2e2"
      },
      "execution_count": null,
      "outputs": [
        {
          "output_type": "stream",
          "name": "stdout",
          "text": [
            "(1+0j) <class 'complex'>\n"
          ]
        }
      ]
    },
    {
      "cell_type": "markdown",
      "source": [
        "## Python Casting"
      ],
      "metadata": {
        "id": "k1YjHL2xsvV8"
      }
    },
    {
      "cell_type": "code",
      "source": [
        "# int\n",
        "x = int(1)\n",
        "y = int(2.5)\n",
        "z = int(\"25\")\n",
        "\n",
        "print(x)\n",
        "print(y)\n",
        "print(z)"
      ],
      "metadata": {
        "colab": {
          "base_uri": "https://localhost:8080/"
        },
        "id": "NoYnIMGQsxIu",
        "outputId": "0fe93000-c613-43b8-e768-2bb709148372"
      },
      "execution_count": null,
      "outputs": [
        {
          "output_type": "stream",
          "name": "stdout",
          "text": [
            "1\n",
            "2\n",
            "25\n"
          ]
        }
      ]
    },
    {
      "cell_type": "code",
      "source": [
        "# floats\n",
        "x = float(1)\n",
        "y = float(2.5)\n",
        "z = float('2.5')\n",
        "\n",
        "print(x)\n",
        "print(y)\n",
        "print(z)"
      ],
      "metadata": {
        "id": "fffyMfRKs8of",
        "colab": {
          "base_uri": "https://localhost:8080/"
        },
        "outputId": "fbd7d373-b2c5-49a6-ca03-64565dc3791e"
      },
      "execution_count": null,
      "outputs": [
        {
          "output_type": "stream",
          "name": "stdout",
          "text": [
            "1.0\n",
            "2.5\n",
            "2.5\n"
          ]
        }
      ]
    },
    {
      "cell_type": "code",
      "source": [
        "# strings\n",
        "x = str('string')\n",
        "y = str(25)\n",
        "z = str(2.5)\n",
        "\n",
        "print(x)\n",
        "print(y)\n",
        "print(z)"
      ],
      "metadata": {
        "colab": {
          "base_uri": "https://localhost:8080/"
        },
        "id": "8t7oCyuzFM75",
        "outputId": "12dfa081-5af2-47de-848f-72a288e42c8f"
      },
      "execution_count": null,
      "outputs": [
        {
          "output_type": "stream",
          "name": "stdout",
          "text": [
            "string\n",
            "25\n",
            "2.5\n"
          ]
        }
      ]
    },
    {
      "cell_type": "markdown",
      "source": [
        "## Python Strings"
      ],
      "metadata": {
        "id": "D0KZwzulF30j"
      }
    },
    {
      "cell_type": "code",
      "source": [
        "# string\n",
        "print('this is a string')"
      ],
      "metadata": {
        "colab": {
          "base_uri": "https://localhost:8080/"
        },
        "id": "o6JkO6F8FdnO",
        "outputId": "58e958db-1a28-4d6d-bd49-69ee59deb84c"
      },
      "execution_count": null,
      "outputs": [
        {
          "output_type": "stream",
          "name": "stdout",
          "text": [
            "this is a string\n"
          ]
        }
      ]
    },
    {
      "cell_type": "code",
      "source": [
        "#Quotes Inside Quotes\n",
        "print(\"this is 'very' powerful\")"
      ],
      "metadata": {
        "colab": {
          "base_uri": "https://localhost:8080/"
        },
        "id": "pkaWnzMnF_wT",
        "outputId": "77fcbbfe-88f9-43b4-c69a-9df001f0c455"
      },
      "execution_count": null,
      "outputs": [
        {
          "output_type": "stream",
          "name": "stdout",
          "text": [
            "this is 'very' powerful\n"
          ]
        }
      ]
    },
    {
      "cell_type": "code",
      "source": [
        "#Assign String to a Variable\n",
        "x = \"Hi\"\n",
        "print(x)"
      ],
      "metadata": {
        "colab": {
          "base_uri": "https://localhost:8080/"
        },
        "id": "aYmGIyLHGFyZ",
        "outputId": "9c42edf2-7509-4fbf-96d8-b3240d145754"
      },
      "execution_count": null,
      "outputs": [
        {
          "output_type": "stream",
          "name": "stdout",
          "text": [
            "Hi\n"
          ]
        }
      ]
    },
    {
      "cell_type": "code",
      "source": [
        "# multiline strings\n",
        "a = \"\"\"Lorem ipsum dolor sit amet,\n",
        "consectetur adipiscing elit,\n",
        "sed do eiusmod tempor incididunt\n",
        "ut labore et dolore magna aliqua.\"\"\"\n",
        "print(a)"
      ],
      "metadata": {
        "colab": {
          "base_uri": "https://localhost:8080/"
        },
        "id": "SfkJzZBhGOLc",
        "outputId": "adde83b3-d808-404e-8673-cea8501d7acf"
      },
      "execution_count": null,
      "outputs": [
        {
          "output_type": "stream",
          "name": "stdout",
          "text": [
            "Lorem ipsum dolor sit amet,\n",
            "consectetur adipiscing elit,\n",
            "sed do eiusmod tempor incididunt\n",
            "ut labore et dolore magna aliqua.\n"
          ]
        }
      ]
    },
    {
      "cell_type": "code",
      "source": [
        "# character at postion\n",
        "x = \"hello world\"\n",
        "print(x[1])"
      ],
      "metadata": {
        "colab": {
          "base_uri": "https://localhost:8080/"
        },
        "id": "GTaKhtN1GUP-",
        "outputId": "d456e178-3fa4-47e9-ff9b-ca609aa31650"
      },
      "execution_count": null,
      "outputs": [
        {
          "output_type": "stream",
          "name": "stdout",
          "text": [
            "e\n"
          ]
        }
      ]
    },
    {
      "cell_type": "code",
      "source": [
        "# looping though a string\n",
        "for a in x:\n",
        "  print(a)"
      ],
      "metadata": {
        "colab": {
          "base_uri": "https://localhost:8080/"
        },
        "id": "bHjbCRxeGlwD",
        "outputId": "39655ad0-049d-4a63-d7e3-ec418611c663"
      },
      "execution_count": null,
      "outputs": [
        {
          "output_type": "stream",
          "name": "stdout",
          "text": [
            "h\n",
            "e\n",
            "l\n",
            "l\n",
            "o\n",
            " \n",
            "w\n",
            "o\n",
            "r\n",
            "l\n",
            "d\n"
          ]
        }
      ]
    },
    {
      "cell_type": "code",
      "source": [
        "# string length\n",
        "x = \"Rajasekhara Reddy\"\n",
        "print(len(x))"
      ],
      "metadata": {
        "colab": {
          "base_uri": "https://localhost:8080/"
        },
        "id": "9F4o8Js7G0jE",
        "outputId": "07e09c52-831e-45ba-ed8f-807e5dd708b3"
      },
      "execution_count": null,
      "outputs": [
        {
          "output_type": "stream",
          "name": "stdout",
          "text": [
            "17\n"
          ]
        }
      ]
    },
    {
      "cell_type": "code",
      "source": [
        "# check string\n",
        "# checking if Python is present in the string\n",
        "txt = \"The best thing is Python is free to use\"\n",
        "print(\"Python\" in txt)"
      ],
      "metadata": {
        "colab": {
          "base_uri": "https://localhost:8080/"
        },
        "id": "9m2R57cQG6zH",
        "outputId": "fa8cf539-f11d-49d0-cb2c-4a282f00d57b"
      },
      "execution_count": null,
      "outputs": [
        {
          "output_type": "stream",
          "name": "stdout",
          "text": [
            "True\n"
          ]
        }
      ]
    },
    {
      "cell_type": "code",
      "source": [
        "# using if with in to check\n",
        "if \"Python\" in txt:\n",
        "  print(\"Yes Python is free\")"
      ],
      "metadata": {
        "colab": {
          "base_uri": "https://localhost:8080/"
        },
        "id": "U1cYuU2EHVKd",
        "outputId": "b8a4dcbc-a2e2-44be-9c06-05424b9d4563"
      },
      "execution_count": null,
      "outputs": [
        {
          "output_type": "stream",
          "name": "stdout",
          "text": [
            "Yes Python is free\n"
          ]
        }
      ]
    },
    {
      "cell_type": "code",
      "source": [
        "# check if python is not in txt\n",
        "txt = \"Python is for free\"\n",
        "\"expensive\" not in txt"
      ],
      "metadata": {
        "colab": {
          "base_uri": "https://localhost:8080/"
        },
        "id": "AgWDXopvHx5U",
        "outputId": "d39d7e44-487f-4ff6-8350-76852f656da9"
      },
      "execution_count": null,
      "outputs": [
        {
          "output_type": "execute_result",
          "data": {
            "text/plain": [
              "True"
            ]
          },
          "metadata": {},
          "execution_count": 19
        }
      ]
    },
    {
      "cell_type": "code",
      "source": [
        "# Using if with not in\n",
        "if \"expensive\" not in txt:\n",
        "  print(\"Expensive is not present in txt\")"
      ],
      "metadata": {
        "colab": {
          "base_uri": "https://localhost:8080/"
        },
        "id": "hVxCoGmpIG9H",
        "outputId": "57f6a8d2-d9b3-452d-fbb5-27971f77e5ed"
      },
      "execution_count": null,
      "outputs": [
        {
          "output_type": "stream",
          "name": "stdout",
          "text": [
            "Expensive is not present in txt\n"
          ]
        }
      ]
    },
    {
      "cell_type": "markdown",
      "source": [
        "### Slicing strings"
      ],
      "metadata": {
        "id": "xO9l7ZtvIk_y"
      }
    },
    {
      "cell_type": "code",
      "source": [
        "#Slicing\n",
        "#Get the characters from position 2 to position 5 (not included):\n",
        "a = \"Hello World!\"\n",
        "print(a[2:5])"
      ],
      "metadata": {
        "colab": {
          "base_uri": "https://localhost:8080/"
        },
        "id": "AD1T4xrOIO4L",
        "outputId": "343df372-5420-4e97-fa2f-3e63e06c9081"
      },
      "execution_count": null,
      "outputs": [
        {
          "output_type": "stream",
          "name": "stdout",
          "text": [
            "llo\n"
          ]
        }
      ]
    },
    {
      "cell_type": "code",
      "source": [
        "#Slice From the Start\n",
        "print(a[:5])"
      ],
      "metadata": {
        "colab": {
          "base_uri": "https://localhost:8080/"
        },
        "id": "sSLBQD_3Iwgy",
        "outputId": "bbecafb9-9287-4460-98ba-d71b25021faf"
      },
      "execution_count": null,
      "outputs": [
        {
          "output_type": "stream",
          "name": "stdout",
          "text": [
            "Hello\n"
          ]
        }
      ]
    },
    {
      "cell_type": "code",
      "source": [
        "# Slice to the end\n",
        "print(a[2:])"
      ],
      "metadata": {
        "colab": {
          "base_uri": "https://localhost:8080/"
        },
        "id": "bS9YYin7JAHp",
        "outputId": "fdbf4d1a-2ded-4354-f74c-a626173ade69"
      },
      "execution_count": null,
      "outputs": [
        {
          "output_type": "stream",
          "name": "stdout",
          "text": [
            "llo World!\n"
          ]
        }
      ]
    },
    {
      "cell_type": "code",
      "source": [
        "# negative indexing\n",
        "print(a[-5:-2])"
      ],
      "metadata": {
        "colab": {
          "base_uri": "https://localhost:8080/"
        },
        "id": "ZVZPNrLvJGH4",
        "outputId": "2ab23f91-b8f9-430e-adc6-ad0c87ed9e60"
      },
      "execution_count": null,
      "outputs": [
        {
          "output_type": "stream",
          "name": "stdout",
          "text": [
            "orl\n"
          ]
        }
      ]
    },
    {
      "cell_type": "markdown",
      "source": [
        "### Modify Strings"
      ],
      "metadata": {
        "id": "qmmI19SqJlE5"
      }
    },
    {
      "cell_type": "code",
      "source": [
        "# Upper case\n",
        "x = \"Hello World! \"\n",
        "print(x.upper())"
      ],
      "metadata": {
        "colab": {
          "base_uri": "https://localhost:8080/"
        },
        "id": "nnHLjG21Jd48",
        "outputId": "82ceade2-eca5-4f96-d43b-3cf986582473"
      },
      "execution_count": null,
      "outputs": [
        {
          "output_type": "stream",
          "name": "stdout",
          "text": [
            "HELLO WORLD! \n"
          ]
        }
      ]
    },
    {
      "cell_type": "code",
      "source": [
        "# Lower case\n",
        "print(x.lower())"
      ],
      "metadata": {
        "colab": {
          "base_uri": "https://localhost:8080/"
        },
        "id": "LrqbeP7eJzhA",
        "outputId": "b9d5ea6b-9a95-4375-caaa-1d7e334b5146"
      },
      "execution_count": null,
      "outputs": [
        {
          "output_type": "stream",
          "name": "stdout",
          "text": [
            "hello world! \n"
          ]
        }
      ]
    },
    {
      "cell_type": "code",
      "source": [
        "# remove white spaces\n",
        "print(x.strip())"
      ],
      "metadata": {
        "colab": {
          "base_uri": "https://localhost:8080/"
        },
        "id": "4rVM_Lz1J3ib",
        "outputId": "924356ef-a786-43b9-89a6-0f5647b568ce"
      },
      "execution_count": null,
      "outputs": [
        {
          "output_type": "stream",
          "name": "stdout",
          "text": [
            "Hello World!\n"
          ]
        }
      ]
    },
    {
      "cell_type": "code",
      "source": [
        "# Replace the string\n",
        "print(x.replace('H', \"F\"))"
      ],
      "metadata": {
        "colab": {
          "base_uri": "https://localhost:8080/"
        },
        "id": "shGFfzVyJ9vc",
        "outputId": "285798e5-2b84-4573-e49f-55b46034634f"
      },
      "execution_count": null,
      "outputs": [
        {
          "output_type": "stream",
          "name": "stdout",
          "text": [
            "Fello World! \n"
          ]
        }
      ]
    },
    {
      "cell_type": "code",
      "source": [
        "# Split string\n",
        "x = \"Hellow, World!\"\n",
        "print(x.split(','))"
      ],
      "metadata": {
        "colab": {
          "base_uri": "https://localhost:8080/"
        },
        "id": "pjf90mZFKSF5",
        "outputId": "8a4a0256-3bc8-470b-e3af-a0d1d06198a3"
      },
      "execution_count": null,
      "outputs": [
        {
          "output_type": "stream",
          "name": "stdout",
          "text": [
            "['Hellow', ' World!']\n"
          ]
        }
      ]
    },
    {
      "cell_type": "markdown",
      "source": [
        "### String Concatenation"
      ],
      "metadata": {
        "id": "AuAgD-EwKpxn"
      }
    },
    {
      "cell_type": "code",
      "source": [
        "#String Concatenation\n",
        "a = \"Hello\"\n",
        "b = \"World!\"\n",
        "print(a + \" \" + b)"
      ],
      "metadata": {
        "colab": {
          "base_uri": "https://localhost:8080/"
        },
        "id": "dG0QfgLGKdG0",
        "outputId": "d84d8d3c-a8d7-4370-bbe0-5d097f47322c"
      },
      "execution_count": null,
      "outputs": [
        {
          "output_type": "stream",
          "name": "stdout",
          "text": [
            "Hello World!\n"
          ]
        }
      ]
    },
    {
      "cell_type": "markdown",
      "source": [
        "### Format Strings"
      ],
      "metadata": {
        "id": "F3XjMNsYK8ih"
      }
    },
    {
      "cell_type": "code",
      "source": [
        "# We cannot add strings and numbers like this\n",
        "age = 25\n",
        "txt = \"My age is \"+ age\n",
        "print(txt)"
      ],
      "metadata": {
        "colab": {
          "base_uri": "https://localhost:8080/",
          "height": 193
        },
        "id": "7QeNAH6bKxj_",
        "outputId": "338f3b0e-9083-4e1a-b5a3-334fe198adb0"
      },
      "execution_count": null,
      "outputs": [
        {
          "output_type": "error",
          "ename": "TypeError",
          "evalue": "can only concatenate str (not \"int\") to str",
          "traceback": [
            "\u001b[0;31m---------------------------------------------------------------------------\u001b[0m",
            "\u001b[0;31mTypeError\u001b[0m                                 Traceback (most recent call last)",
            "\u001b[0;32m<ipython-input-40-1aaf4c171ee8>\u001b[0m in \u001b[0;36m<cell line: 3>\u001b[0;34m()\u001b[0m\n\u001b[1;32m      1\u001b[0m \u001b[0;31m# We cannot add strings and numbers like this\u001b[0m\u001b[0;34m\u001b[0m\u001b[0;34m\u001b[0m\u001b[0m\n\u001b[1;32m      2\u001b[0m \u001b[0mage\u001b[0m \u001b[0;34m=\u001b[0m \u001b[0;36m25\u001b[0m\u001b[0;34m\u001b[0m\u001b[0;34m\u001b[0m\u001b[0m\n\u001b[0;32m----> 3\u001b[0;31m \u001b[0mtxt\u001b[0m \u001b[0;34m=\u001b[0m \u001b[0;34m\"My age is \"\u001b[0m\u001b[0;34m+\u001b[0m \u001b[0mage\u001b[0m\u001b[0;34m\u001b[0m\u001b[0;34m\u001b[0m\u001b[0m\n\u001b[0m\u001b[1;32m      4\u001b[0m \u001b[0mprint\u001b[0m\u001b[0;34m(\u001b[0m\u001b[0mtxt\u001b[0m\u001b[0;34m)\u001b[0m\u001b[0;34m\u001b[0m\u001b[0;34m\u001b[0m\u001b[0m\n",
            "\u001b[0;31mTypeError\u001b[0m: can only concatenate str (not \"int\") to str"
          ]
        }
      ]
    },
    {
      "cell_type": "code",
      "source": [
        "# We can add using F-strings\n",
        "txt = f\"My age is {age}\" # age is a place holder\n",
        "print(txt)"
      ],
      "metadata": {
        "colab": {
          "base_uri": "https://localhost:8080/"
        },
        "id": "iKD_D-hBLMjy",
        "outputId": "da929921-c5c4-4f11-8f68-715c630d5a99"
      },
      "execution_count": null,
      "outputs": [
        {
          "output_type": "stream",
          "name": "stdout",
          "text": [
            "My age is 25\n"
          ]
        }
      ]
    },
    {
      "cell_type": "code",
      "source": [
        "price = 56\n",
        "txt = f\"The price is {price} dollars\"\n",
        "print(txt)"
      ],
      "metadata": {
        "colab": {
          "base_uri": "https://localhost:8080/"
        },
        "id": "-QZwRu0cLkoy",
        "outputId": "fb41ef7e-c720-4d85-ec59-db2a90069b45"
      },
      "execution_count": 43,
      "outputs": [
        {
          "output_type": "stream",
          "name": "stdout",
          "text": [
            "The price is 56 dollars\n"
          ]
        }
      ]
    },
    {
      "cell_type": "code",
      "source": [
        "# Displaying price in 2 decimals Using point decimals .2f in f-strings\n",
        "txt = f\"The price is {price:.2f} dollars\"\n",
        "print(txt)"
      ],
      "metadata": {
        "id": "6-doUyygL1cH",
        "colab": {
          "base_uri": "https://localhost:8080/"
        },
        "outputId": "b93c744e-5ed2-4189-aeeb-669ce4664970"
      },
      "execution_count": 44,
      "outputs": [
        {
          "output_type": "stream",
          "name": "stdout",
          "text": [
            "The price is 56.00 dollars\n"
          ]
        }
      ]
    },
    {
      "cell_type": "markdown",
      "source": [
        "### Escape Characters"
      ],
      "metadata": {
        "id": "BRv2kPDUNRm6"
      }
    },
    {
      "cell_type": "code",
      "source": [
        "# escape char\n",
        "txt = \"This is very \"powerful\" thing\" # this is an error\n",
        "print(txt)"
      ],
      "metadata": {
        "id": "cezyJff-MA08",
        "colab": {
          "base_uri": "https://localhost:8080/",
          "height": 106
        },
        "outputId": "c4fe6d7c-6fc2-422d-9b01-da9624cb29b3"
      },
      "execution_count": 45,
      "outputs": [
        {
          "output_type": "error",
          "ename": "SyntaxError",
          "evalue": "invalid syntax (<ipython-input-45-ba6da9e73412>, line 2)",
          "traceback": [
            "\u001b[0;36m  File \u001b[0;32m\"<ipython-input-45-ba6da9e73412>\"\u001b[0;36m, line \u001b[0;32m2\u001b[0m\n\u001b[0;31m    txt = \"This is very \"powerful\" thing\"\u001b[0m\n\u001b[0m                         ^\u001b[0m\n\u001b[0;31mSyntaxError\u001b[0m\u001b[0;31m:\u001b[0m invalid syntax\n"
          ]
        }
      ]
    },
    {
      "cell_type": "code",
      "source": [
        "txt = \"This is very  \\\"powerful\\\" thing.\"\n",
        "print(txt)"
      ],
      "metadata": {
        "colab": {
          "base_uri": "https://localhost:8080/"
        },
        "id": "IAK0wgHUNlLw",
        "outputId": "e52e7286-b4f3-451f-c1aa-96b9fc97aace"
      },
      "execution_count": 60,
      "outputs": [
        {
          "output_type": "stream",
          "name": "stdout",
          "text": [
            "This is very  \"powerful\" thing.\n"
          ]
        }
      ]
    },
    {
      "cell_type": "markdown",
      "source": [
        "## Python Booleans"
      ],
      "metadata": {
        "id": "tmMa4gYxPOKZ"
      }
    },
    {
      "cell_type": "code",
      "source": [
        "#  Boolean values\n",
        "print(10 > 9)\n",
        "print(10 < 9)"
      ],
      "metadata": {
        "colab": {
          "base_uri": "https://localhost:8080/"
        },
        "id": "NS7b8pOqNvZh",
        "outputId": "fc89e49a-0517-49ec-a328-38769dc7d124"
      },
      "execution_count": 61,
      "outputs": [
        {
          "output_type": "stream",
          "name": "stdout",
          "text": [
            "True\n",
            "False\n"
          ]
        }
      ]
    },
    {
      "cell_type": "code",
      "source": [
        "# almost all values and variables are true\n",
        "print(bool(\"Hello\"))\n",
        "print(bool(5))\n",
        "print(bool(2.5))\n",
        "print(bool([\"apple\",\"bananna\", \"cherry\"]))\n",
        "print(bool({\"name\":\"xyz\", age:50}))\n",
        "print(bool((\"apple\", \"bananna\")))"
      ],
      "metadata": {
        "colab": {
          "base_uri": "https://localhost:8080/"
        },
        "id": "9VmBRw6QPiFr",
        "outputId": "d4abc4a7-2c6d-447e-c990-5d198ab88ffb"
      },
      "execution_count": 65,
      "outputs": [
        {
          "output_type": "stream",
          "name": "stdout",
          "text": [
            "True\n",
            "True\n",
            "True\n",
            "True\n",
            "True\n",
            "True\n"
          ]
        }
      ]
    },
    {
      "cell_type": "code",
      "source": [
        "# empty ones are false\n",
        "print(bool(\"\"))\n",
        "print(bool(0))\n",
        "print(bool(0.0))\n",
        "print(bool({}))\n",
        "print(bool(()))\n",
        "print(bool([]))\n"
      ],
      "metadata": {
        "colab": {
          "base_uri": "https://localhost:8080/"
        },
        "id": "drk6hb3UQalx",
        "outputId": "9429933e-609a-4302-97b5-14f7c7c085f4"
      },
      "execution_count": 67,
      "outputs": [
        {
          "output_type": "stream",
          "name": "stdout",
          "text": [
            "False\n",
            "False\n",
            "False\n",
            "False\n",
            "False\n",
            "False\n"
          ]
        }
      ]
    },
    {
      "cell_type": "markdown",
      "source": [
        "## Python operators"
      ],
      "metadata": {
        "id": "EyXNOSL7RqzT"
      }
    },
    {
      "cell_type": "code",
      "source": [],
      "metadata": {
        "id": "Z5gM59xZQ9dL"
      },
      "execution_count": null,
      "outputs": []
    }
  ]
}