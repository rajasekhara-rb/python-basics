{
  "nbformat": 4,
  "nbformat_minor": 0,
  "metadata": {
    "colab": {
      "provenance": [],
      "toc_visible": true,
      "authorship_tag": "ABX9TyOk2UiMm9i3COhktTeTiB4I",
      "include_colab_link": true
    },
    "kernelspec": {
      "name": "python3",
      "display_name": "Python 3"
    },
    "language_info": {
      "name": "python"
    }
  },
  "cells": [
    {
      "cell_type": "markdown",
      "metadata": {
        "id": "view-in-github",
        "colab_type": "text"
      },
      "source": [
        "<a href=\"https://colab.research.google.com/github/rajasekhara-rb/python-basics/blob/main/Python_basics_practice.ipynb\" target=\"_parent\"><img src=\"https://colab.research.google.com/assets/colab-badge.svg\" alt=\"Open In Colab\"/></a>"
      ]
    },
    {
      "cell_type": "code",
      "execution_count": null,
      "metadata": {
        "id": "uhiB9LyQVA3R"
      },
      "outputs": [],
      "source": []
    },
    {
      "cell_type": "markdown",
      "source": [
        "# Python Basics"
      ],
      "metadata": {
        "id": "SqUWdqV_Vpiv"
      }
    },
    {
      "cell_type": "markdown",
      "source": [
        "## Sytax of Python"
      ],
      "metadata": {
        "id": "03d7T6_AaENA"
      }
    },
    {
      "cell_type": "code",
      "source": [
        "print(\"Hello World\")"
      ],
      "metadata": {
        "colab": {
          "base_uri": "https://localhost:8080/"
        },
        "id": "s18OCL6OV_Hb",
        "outputId": "80c4d352-604b-4565-f93f-6a02d1761e16"
      },
      "execution_count": null,
      "outputs": [
        {
          "output_type": "stream",
          "name": "stdout",
          "text": [
            "Hello World\n"
          ]
        }
      ]
    },
    {
      "cell_type": "markdown",
      "source": [
        "## Comments"
      ],
      "metadata": {
        "id": "ZjNZ41ZOagE1"
      }
    },
    {
      "cell_type": "code",
      "source": [
        "# This is a single line comment\n",
        "print(\"Hello\")"
      ],
      "metadata": {
        "colab": {
          "base_uri": "https://localhost:8080/"
        },
        "id": "gxpGSPoAaUd-",
        "outputId": "a6419c61-343c-4379-91c8-f65f3ad3065e"
      },
      "execution_count": null,
      "outputs": [
        {
          "output_type": "stream",
          "name": "stdout",
          "text": [
            "Hello\n"
          ]
        }
      ]
    },
    {
      "cell_type": "code",
      "source": [
        "# this is a\n",
        "# multiline\n",
        "#comment\n",
        "print('multiline comment')"
      ],
      "metadata": {
        "colab": {
          "base_uri": "https://localhost:8080/"
        },
        "id": "XJqREYyjas76",
        "outputId": "7b1f00bd-8a2d-4e56-b46c-a9374aea8548"
      },
      "execution_count": null,
      "outputs": [
        {
          "output_type": "stream",
          "name": "stdout",
          "text": [
            "multiline comment\n"
          ]
        }
      ]
    },
    {
      "cell_type": "code",
      "source": [
        "\"\"\"\n",
        "This is also a\n",
        "multi line\n",
        "comment written,\n",
        "which the program will ignore while execution\n",
        "\"\"\"\n",
        "print(\"comments\")"
      ],
      "metadata": {
        "colab": {
          "base_uri": "https://localhost:8080/"
        },
        "id": "pq-BKvIfa1kE",
        "outputId": "3ae7663e-e292-483c-a27b-da54b6bec81d"
      },
      "execution_count": null,
      "outputs": [
        {
          "output_type": "stream",
          "name": "stdout",
          "text": [
            "comments\n"
          ]
        }
      ]
    },
    {
      "cell_type": "markdown",
      "source": [
        "## Python Variables"
      ],
      "metadata": {
        "id": "vWmtYhT9dGhn"
      }
    },
    {
      "cell_type": "code",
      "source": [
        "x = 5 # int\n",
        "y = 'Reddy' # str\n",
        "z = 5.5 # float"
      ],
      "metadata": {
        "id": "OsR424i9bHF4"
      },
      "execution_count": null,
      "outputs": []
    },
    {
      "cell_type": "code",
      "source": [
        "print(x)\n",
        "print(y)\n",
        "print(z)"
      ],
      "metadata": {
        "colab": {
          "base_uri": "https://localhost:8080/"
        },
        "id": "UkgNfEBpdY5V",
        "outputId": "c85321f3-6c5d-4bdb-b264-ba14318fd5f3"
      },
      "execution_count": null,
      "outputs": [
        {
          "output_type": "stream",
          "name": "stdout",
          "text": [
            "5\n",
            "Reddy\n",
            "5.5\n"
          ]
        }
      ]
    },
    {
      "cell_type": "code",
      "source": [
        "print(type(x))\n",
        "print(type(y))"
      ],
      "metadata": {
        "colab": {
          "base_uri": "https://localhost:8080/"
        },
        "id": "eRrDZYjSdaHi",
        "outputId": "9fc9807b-50b1-4710-d282-9995e4de7122"
      },
      "execution_count": null,
      "outputs": [
        {
          "output_type": "stream",
          "name": "stdout",
          "text": [
            "<class 'int'>\n",
            "<class 'str'>\n"
          ]
        }
      ]
    },
    {
      "cell_type": "code",
      "source": [
        "# type casting\n",
        "\n",
        "print(int(5))\n",
        "print(str(5))\n",
        "print(float(5))"
      ],
      "metadata": {
        "colab": {
          "base_uri": "https://localhost:8080/"
        },
        "id": "_FgSjQmydmjo",
        "outputId": "57b3ff2a-67b9-4330-9a85-b99759962910"
      },
      "execution_count": null,
      "outputs": [
        {
          "output_type": "stream",
          "name": "stdout",
          "text": [
            "5\n",
            "5\n",
            "5.0\n"
          ]
        }
      ]
    },
    {
      "cell_type": "code",
      "source": [
        "# assigning multiple var\n",
        "a , b, c = 1, 10, 55\n",
        "print(a, b, c)"
      ],
      "metadata": {
        "colab": {
          "base_uri": "https://localhost:8080/"
        },
        "id": "UUFcdAqLd7dR",
        "outputId": "e19143db-a799-4bcd-f789-968f538196e4"
      },
      "execution_count": null,
      "outputs": [
        {
          "output_type": "stream",
          "name": "stdout",
          "text": [
            "1 10 55\n"
          ]
        }
      ]
    },
    {
      "cell_type": "markdown",
      "source": [
        "## Python Data Types"
      ],
      "metadata": {
        "id": "TOmk7PDMe35N"
      }
    },
    {
      "cell_type": "markdown",
      "source": [
        "Python has the following data types built-in by default, in these categories:\n",
        "\n",
        "* Text Type:\tstr\n",
        "* Numeric Types:\tint, float, complex\n",
        "* Sequence Types:\tlist, tuple, range\n",
        "* Mapping Type:\tdict\n",
        "* Set Types:\tset, frozenset\n",
        "* Boolean Type:\tbool\n",
        "* Binary Types:\tbytes, bytearray, memoryview\n",
        "* None Type:\tNoneType"
      ],
      "metadata": {
        "id": "t0J11vOlfVfd"
      }
    },
    {
      "cell_type": "markdown",
      "source": [
        "### Text Type"
      ],
      "metadata": {
        "id": "sto76OUfjMGC"
      }
    },
    {
      "cell_type": "markdown",
      "source": [
        "#### Str Data Type"
      ],
      "metadata": {
        "id": "S4O5kddbjSwk"
      }
    },
    {
      "cell_type": "code",
      "source": [
        "# string str\n",
        "x = \"This is a string\"\n",
        "type(x)"
      ],
      "metadata": {
        "colab": {
          "base_uri": "https://localhost:8080/"
        },
        "id": "TJgbWksJhX2R",
        "outputId": "3c2e363b-018d-4047-afa4-8aa2552bb77c"
      },
      "execution_count": null,
      "outputs": [
        {
          "output_type": "execute_result",
          "data": {
            "text/plain": [
              "str"
            ]
          },
          "metadata": {},
          "execution_count": 44
        }
      ]
    },
    {
      "cell_type": "code",
      "source": [
        "# string setting\n",
        "x = str(\"Hello\")\n",
        "print(x)\n",
        "type(x)"
      ],
      "metadata": {
        "colab": {
          "base_uri": "https://localhost:8080/"
        },
        "id": "Vt9HrMvSnOmT",
        "outputId": "e4d30b13-9722-4326-cfae-6b2fb1eb2c1c"
      },
      "execution_count": null,
      "outputs": [
        {
          "output_type": "stream",
          "name": "stdout",
          "text": [
            "Hello\n"
          ]
        },
        {
          "output_type": "execute_result",
          "data": {
            "text/plain": [
              "str"
            ]
          },
          "metadata": {},
          "execution_count": 45
        }
      ]
    },
    {
      "cell_type": "markdown",
      "source": [
        "### Numeric Type"
      ],
      "metadata": {
        "id": "nTsSawSej10y"
      }
    },
    {
      "cell_type": "markdown",
      "source": [
        "#### int Data Type"
      ],
      "metadata": {
        "id": "QFT2fKQ5jdn_"
      }
    },
    {
      "cell_type": "code",
      "source": [
        "# number int\n",
        "x = 5\n",
        "type(x)"
      ],
      "metadata": {
        "colab": {
          "base_uri": "https://localhost:8080/"
        },
        "id": "gFKrOHePe0f-",
        "outputId": "1057f3be-a976-4dca-c2f5-00e2fdc75eee"
      },
      "execution_count": null,
      "outputs": [
        {
          "output_type": "execute_result",
          "data": {
            "text/plain": [
              "int"
            ]
          },
          "metadata": {},
          "execution_count": 39
        }
      ]
    },
    {
      "cell_type": "code",
      "source": [
        "# setting\n",
        "x = int(50)\n",
        "print(x)\n",
        "type(x)"
      ],
      "metadata": {
        "colab": {
          "base_uri": "https://localhost:8080/"
        },
        "id": "4Yo6qgq6mzmF",
        "outputId": "b72bd27b-84c4-4f5a-884d-82a078fb1434"
      },
      "execution_count": null,
      "outputs": [
        {
          "output_type": "stream",
          "name": "stdout",
          "text": [
            "50\n"
          ]
        },
        {
          "output_type": "execute_result",
          "data": {
            "text/plain": [
              "int"
            ]
          },
          "metadata": {},
          "execution_count": 43
        }
      ]
    },
    {
      "cell_type": "markdown",
      "source": [
        "#### float Data Type"
      ],
      "metadata": {
        "id": "GW3tB2FFjpTT"
      }
    },
    {
      "cell_type": "code",
      "source": [
        "# floating numbers or float\n",
        "x = 5.6\n",
        "type(x)"
      ],
      "metadata": {
        "colab": {
          "base_uri": "https://localhost:8080/"
        },
        "id": "IOw2lwEUfM3Y",
        "outputId": "4546e5cd-d1b5-455e-d13f-51ef476f0b89"
      },
      "execution_count": null,
      "outputs": [
        {
          "output_type": "execute_result",
          "data": {
            "text/plain": [
              "float"
            ]
          },
          "metadata": {},
          "execution_count": 24
        }
      ]
    },
    {
      "cell_type": "code",
      "source": [
        "# float setting\n",
        "x = float(5.5)\n",
        "print(x)\n",
        "type(x)"
      ],
      "metadata": {
        "colab": {
          "base_uri": "https://localhost:8080/"
        },
        "id": "ICdQt_w8nX6N",
        "outputId": "fa8e13f5-5d3d-4622-ad50-7948dec57dd5"
      },
      "execution_count": null,
      "outputs": [
        {
          "output_type": "stream",
          "name": "stdout",
          "text": [
            "5.5\n"
          ]
        },
        {
          "output_type": "execute_result",
          "data": {
            "text/plain": [
              "float"
            ]
          },
          "metadata": {},
          "execution_count": 46
        }
      ]
    },
    {
      "cell_type": "markdown",
      "source": [
        "#### Complex Data Type"
      ],
      "metadata": {
        "id": "qdMSddeKjtn7"
      }
    },
    {
      "cell_type": "code",
      "source": [
        "# complex\n",
        "x = 1j\n",
        "type(x)"
      ],
      "metadata": {
        "colab": {
          "base_uri": "https://localhost:8080/"
        },
        "id": "Zd5CnytLhti2",
        "outputId": "fc9f5ccd-38fa-4b91-f5f8-e04183c325fd"
      },
      "execution_count": null,
      "outputs": [
        {
          "output_type": "execute_result",
          "data": {
            "text/plain": [
              "complex"
            ]
          },
          "metadata": {},
          "execution_count": 25
        }
      ]
    },
    {
      "cell_type": "code",
      "source": [
        "# complex data type setting\n",
        "x = complex(1j)\n",
        "print(x)\n",
        "type(x)"
      ],
      "metadata": {
        "colab": {
          "base_uri": "https://localhost:8080/"
        },
        "id": "YWwHs_WonjKt",
        "outputId": "46e33a81-6192-4a53-a697-40e710ac9609"
      },
      "execution_count": null,
      "outputs": [
        {
          "output_type": "stream",
          "name": "stdout",
          "text": [
            "1j\n"
          ]
        },
        {
          "output_type": "execute_result",
          "data": {
            "text/plain": [
              "complex"
            ]
          },
          "metadata": {},
          "execution_count": 47
        }
      ]
    },
    {
      "cell_type": "markdown",
      "source": [
        "### Sequence Type"
      ],
      "metadata": {
        "id": "sAXfsiOzj9r7"
      }
    },
    {
      "cell_type": "markdown",
      "source": [
        "#### List"
      ],
      "metadata": {
        "id": "Jvp8bYXykM8w"
      }
    },
    {
      "cell_type": "code",
      "source": [
        "# list\n",
        "x = [\"apple\", \"mango\", \"guva\", \"grapes\"]\n",
        "type(x)"
      ],
      "metadata": {
        "colab": {
          "base_uri": "https://localhost:8080/"
        },
        "id": "IKIW7jF4h6UO",
        "outputId": "0c2fdd88-a3d7-4621-ae1b-07e0ac26a543"
      },
      "execution_count": null,
      "outputs": [
        {
          "output_type": "execute_result",
          "data": {
            "text/plain": [
              "list"
            ]
          },
          "metadata": {},
          "execution_count": 30
        }
      ]
    },
    {
      "cell_type": "code",
      "source": [
        "# list setting\n",
        "x = list((\"apple\", \"mango\", \"guva\"))\n",
        "print(x)\n",
        "type(x)"
      ],
      "metadata": {
        "colab": {
          "base_uri": "https://localhost:8080/"
        },
        "id": "LCOLPK9Fnvgc",
        "outputId": "08f96489-cfd9-4b58-c012-7c7ac01dc54b"
      },
      "execution_count": null,
      "outputs": [
        {
          "output_type": "stream",
          "name": "stdout",
          "text": [
            "['apple', 'mango', 'guva']\n"
          ]
        },
        {
          "output_type": "execute_result",
          "data": {
            "text/plain": [
              "list"
            ]
          },
          "metadata": {},
          "execution_count": 48
        }
      ]
    },
    {
      "cell_type": "markdown",
      "source": [
        "#### Tuple"
      ],
      "metadata": {
        "id": "c0YtHUpIkHHB"
      }
    },
    {
      "cell_type": "code",
      "source": [
        " # Tuple'\n",
        " x = ('apple', \"mango\", \"cherry\")\n",
        " type(x)"
      ],
      "metadata": {
        "colab": {
          "base_uri": "https://localhost:8080/"
        },
        "id": "AnqFU_ZaiDNq",
        "outputId": "27f94f8a-2b82-4f51-dd47-746fe400f029"
      },
      "execution_count": null,
      "outputs": [
        {
          "output_type": "execute_result",
          "data": {
            "text/plain": [
              "tuple"
            ]
          },
          "metadata": {},
          "execution_count": 31
        }
      ]
    },
    {
      "cell_type": "code",
      "source": [
        "# tuple setting\n",
        "x = tuple((\"apple\", \"mango\", \"cherry\"))\n",
        "print(x)\n",
        "type(x)"
      ],
      "metadata": {
        "colab": {
          "base_uri": "https://localhost:8080/"
        },
        "id": "k1cQkkxBn9xf",
        "outputId": "9e06d301-64c5-4400-a5b5-196621752de3"
      },
      "execution_count": null,
      "outputs": [
        {
          "output_type": "stream",
          "name": "stdout",
          "text": [
            "('apple', 'mango', 'cherry')\n"
          ]
        },
        {
          "output_type": "execute_result",
          "data": {
            "text/plain": [
              "tuple"
            ]
          },
          "metadata": {},
          "execution_count": 49
        }
      ]
    },
    {
      "cell_type": "markdown",
      "source": [
        "#### Range"
      ],
      "metadata": {
        "id": "ks32xf5uk9nt"
      }
    },
    {
      "cell_type": "code",
      "source": [
        "# range\n",
        "x = range(0,6)\n",
        "type(x)"
      ],
      "metadata": {
        "colab": {
          "base_uri": "https://localhost:8080/"
        },
        "id": "1y3LVrA4jHOB",
        "outputId": "e6cd1d88-95a8-443d-9645-ef358d7275c6"
      },
      "execution_count": null,
      "outputs": [
        {
          "output_type": "execute_result",
          "data": {
            "text/plain": [
              "range"
            ]
          },
          "metadata": {},
          "execution_count": 33
        }
      ]
    },
    {
      "cell_type": "markdown",
      "source": [
        "### Mapping Type"
      ],
      "metadata": {
        "id": "A7nAGeXklEna"
      }
    },
    {
      "cell_type": "markdown",
      "source": [
        "dict"
      ],
      "metadata": {
        "id": "mrPBVRcalG8b"
      }
    },
    {
      "cell_type": "code",
      "source": [
        "# dict\n",
        "x = {\"name\":\"Jhon\", \"age\":24}\n",
        "type(x)"
      ],
      "metadata": {
        "colab": {
          "base_uri": "https://localhost:8080/"
        },
        "id": "MtPlBUatk5pD",
        "outputId": "ce22e4ab-f4b7-4361-f7b4-06b2abec06bb"
      },
      "execution_count": null,
      "outputs": [
        {
          "output_type": "execute_result",
          "data": {
            "text/plain": [
              "dict"
            ]
          },
          "metadata": {},
          "execution_count": 34
        }
      ]
    },
    {
      "cell_type": "code",
      "source": [
        "# dict setting\n",
        "x = dict(name=\"Jhon\", age=25)\n",
        "print(x)\n",
        "type(x)"
      ],
      "metadata": {
        "colab": {
          "base_uri": "https://localhost:8080/"
        },
        "id": "VD78uFEzoNHV",
        "outputId": "c6d6a422-cc31-4487-d1ff-f04bbf53f042"
      },
      "execution_count": null,
      "outputs": [
        {
          "output_type": "stream",
          "name": "stdout",
          "text": [
            "{'name': 'Jhon', 'age': 25}\n"
          ]
        },
        {
          "output_type": "execute_result",
          "data": {
            "text/plain": [
              "dict"
            ]
          },
          "metadata": {},
          "execution_count": 50
        }
      ]
    },
    {
      "cell_type": "markdown",
      "source": [
        "### Set Types"
      ],
      "metadata": {
        "id": "QTrMNaB3leDs"
      }
    },
    {
      "cell_type": "markdown",
      "source": [
        "#### Set"
      ],
      "metadata": {
        "id": "FdrZWJ3ilht7"
      }
    },
    {
      "cell_type": "code",
      "source": [
        "#set\n",
        "x = {\"apple\", \"bat\", \"cat\", \"rat\"}\n",
        "type(x)"
      ],
      "metadata": {
        "colab": {
          "base_uri": "https://localhost:8080/"
        },
        "id": "swH1b4EclXGU",
        "outputId": "54fc1619-196f-43d2-8bfd-5f686b040142"
      },
      "execution_count": null,
      "outputs": [
        {
          "output_type": "execute_result",
          "data": {
            "text/plain": [
              "set"
            ]
          },
          "metadata": {},
          "execution_count": 51
        }
      ]
    },
    {
      "cell_type": "code",
      "source": [
        "# set setting\n",
        "x = set((\"apple\", \"apple\", \"bat\", \"cat\"))\n",
        "print(x)\n",
        "type(x)"
      ],
      "metadata": {
        "colab": {
          "base_uri": "https://localhost:8080/"
        },
        "id": "PHjsYVGzoglK",
        "outputId": "2ff48a87-e0f1-4cfd-d891-5753735e6a9f"
      },
      "execution_count": null,
      "outputs": [
        {
          "output_type": "stream",
          "name": "stdout",
          "text": [
            "{'apple', 'bat', 'cat'}\n"
          ]
        },
        {
          "output_type": "execute_result",
          "data": {
            "text/plain": [
              "set"
            ]
          },
          "metadata": {},
          "execution_count": 52
        }
      ]
    },
    {
      "cell_type": "markdown",
      "source": [
        "#### frozenset"
      ],
      "metadata": {
        "id": "mUITyg2VlyzA"
      }
    },
    {
      "cell_type": "code",
      "source": [
        "# frozenset\n",
        "x = frozenset({\"apple\", \"bat\", \"cat\", \"rat\"})\n",
        "type(x)"
      ],
      "metadata": {
        "colab": {
          "base_uri": "https://localhost:8080/"
        },
        "id": "MsSLkGIalozg",
        "outputId": "049f8f78-1874-4a58-fd1e-09cf55fc4a57"
      },
      "execution_count": null,
      "outputs": [
        {
          "output_type": "execute_result",
          "data": {
            "text/plain": [
              "frozenset"
            ]
          },
          "metadata": {},
          "execution_count": 36
        }
      ]
    },
    {
      "cell_type": "code",
      "source": [
        "# frozenset setting\n",
        "x = frozenset((\"apple\", \"apple\", \"bat\", \"cat\"))\n",
        "print(x)\n",
        "type(x)"
      ],
      "metadata": {
        "colab": {
          "base_uri": "https://localhost:8080/"
        },
        "id": "W66snB6ootTY",
        "outputId": "cca63498-7227-4072-d677-6868fe1dbe12"
      },
      "execution_count": null,
      "outputs": [
        {
          "output_type": "stream",
          "name": "stdout",
          "text": [
            "frozenset({'apple', 'bat', 'cat'})\n"
          ]
        },
        {
          "output_type": "execute_result",
          "data": {
            "text/plain": [
              "frozenset"
            ]
          },
          "metadata": {},
          "execution_count": 53
        }
      ]
    },
    {
      "cell_type": "markdown",
      "source": [
        "### Boolean Type"
      ],
      "metadata": {
        "id": "cyzedcSHmAEv"
      }
    },
    {
      "cell_type": "markdown",
      "source": [
        "#### bool"
      ],
      "metadata": {
        "id": "Rv9Vf4rimSiA"
      }
    },
    {
      "cell_type": "code",
      "source": [
        "# bool\n",
        "x = True\n",
        "type(x)"
      ],
      "metadata": {
        "colab": {
          "base_uri": "https://localhost:8080/"
        },
        "id": "5TdqXAXzl30w",
        "outputId": "501a2f03-7f87-40d1-ab16-513fb2a03aab"
      },
      "execution_count": null,
      "outputs": [
        {
          "output_type": "execute_result",
          "data": {
            "text/plain": [
              "bool"
            ]
          },
          "metadata": {},
          "execution_count": 38
        }
      ]
    },
    {
      "cell_type": "code",
      "source": [
        "# bool setting\n",
        "x = bool(5);\n",
        "print(x)\n",
        "type(x)"
      ],
      "metadata": {
        "colab": {
          "base_uri": "https://localhost:8080/"
        },
        "id": "wcUwyP8OpFCd",
        "outputId": "2f49900c-ba2a-4fc9-c9e3-9edbf32d4023"
      },
      "execution_count": null,
      "outputs": [
        {
          "output_type": "stream",
          "name": "stdout",
          "text": [
            "True\n"
          ]
        },
        {
          "output_type": "execute_result",
          "data": {
            "text/plain": [
              "bool"
            ]
          },
          "metadata": {},
          "execution_count": 54
        }
      ]
    },
    {
      "cell_type": "markdown",
      "source": [
        "### Binary Types"
      ],
      "metadata": {
        "id": "G6Rsmi8zpQLV"
      }
    },
    {
      "cell_type": "markdown",
      "source": [
        "#### Bytes"
      ],
      "metadata": {
        "id": "FRXn3n7JpR35"
      }
    },
    {
      "cell_type": "code",
      "source": [
        "# bytes\n",
        "x = b'hello'\n",
        "type(x)"
      ],
      "metadata": {
        "colab": {
          "base_uri": "https://localhost:8080/"
        },
        "id": "HYMq6eeDmEkV",
        "outputId": "ea64e20c-d254-4c04-8b0c-f2265067de5c"
      },
      "execution_count": null,
      "outputs": [
        {
          "output_type": "execute_result",
          "data": {
            "text/plain": [
              "bytes"
            ]
          },
          "metadata": {},
          "execution_count": 55
        }
      ]
    },
    {
      "cell_type": "code",
      "source": [
        "# bytes setting\n",
        "x = bytes(5)\n",
        "print(x)\n",
        "type(x)"
      ],
      "metadata": {
        "colab": {
          "base_uri": "https://localhost:8080/"
        },
        "id": "TN2UTyw9pXiw",
        "outputId": "be387bc0-d6cd-431d-9e29-79bc06dc50fa"
      },
      "execution_count": null,
      "outputs": [
        {
          "output_type": "stream",
          "name": "stdout",
          "text": [
            "b'\\x00\\x00\\x00\\x00\\x00'\n"
          ]
        },
        {
          "output_type": "execute_result",
          "data": {
            "text/plain": [
              "bytes"
            ]
          },
          "metadata": {},
          "execution_count": 56
        }
      ]
    },
    {
      "cell_type": "markdown",
      "source": [
        "#### Bytearray"
      ],
      "metadata": {
        "id": "VELWXoZmpnEQ"
      }
    },
    {
      "cell_type": "code",
      "source": [
        "# bytearray\n",
        "x = bytearray(5)\n",
        "print(x)\n",
        "type(x)"
      ],
      "metadata": {
        "colab": {
          "base_uri": "https://localhost:8080/"
        },
        "id": "cGzUUQ0RpjqX",
        "outputId": "55edc872-d7a9-44c2-a957-8a56c88af9bc"
      },
      "execution_count": null,
      "outputs": [
        {
          "output_type": "stream",
          "name": "stdout",
          "text": [
            "bytearray(b'\\x00\\x00\\x00\\x00\\x00')\n"
          ]
        },
        {
          "output_type": "execute_result",
          "data": {
            "text/plain": [
              "bytearray"
            ]
          },
          "metadata": {},
          "execution_count": 57
        }
      ]
    },
    {
      "cell_type": "markdown",
      "source": [
        "#### memoryview"
      ],
      "metadata": {
        "id": "fPrG_DGkp9k0"
      }
    },
    {
      "cell_type": "code",
      "source": [
        "# memory view\n",
        "x = memoryview(bytes(5))\n",
        "print(x)\n",
        "type(x)"
      ],
      "metadata": {
        "colab": {
          "base_uri": "https://localhost:8080/"
        },
        "id": "vFdzwAEyp0tU",
        "outputId": "9ddb1c95-c8fd-472f-8801-f99a9955fb97"
      },
      "execution_count": null,
      "outputs": [
        {
          "output_type": "stream",
          "name": "stdout",
          "text": [
            "<memory at 0x7ae537e29780>\n"
          ]
        },
        {
          "output_type": "execute_result",
          "data": {
            "text/plain": [
              "memoryview"
            ]
          },
          "metadata": {},
          "execution_count": 58
        }
      ]
    },
    {
      "cell_type": "markdown",
      "source": [
        "### None Type"
      ],
      "metadata": {
        "id": "TXH5yaRIqP32"
      }
    },
    {
      "cell_type": "code",
      "source": [
        "# noneType\n",
        "x = None\n",
        "print(x)\n",
        "type(x)"
      ],
      "metadata": {
        "colab": {
          "base_uri": "https://localhost:8080/"
        },
        "id": "A99MeFp_qFy6",
        "outputId": "7f441ea4-782c-4487-bc8b-31b7f48d947d"
      },
      "execution_count": null,
      "outputs": [
        {
          "output_type": "stream",
          "name": "stdout",
          "text": [
            "None\n"
          ]
        },
        {
          "output_type": "execute_result",
          "data": {
            "text/plain": [
              "NoneType"
            ]
          },
          "metadata": {},
          "execution_count": 59
        }
      ]
    },
    {
      "cell_type": "markdown",
      "source": [
        "## Type Converstion"
      ],
      "metadata": {
        "id": "H3Umx4DVrB90"
      }
    },
    {
      "cell_type": "code",
      "source": [
        "x = 1 # int\n",
        "y = 2.5 # float\n",
        "z = 1j #complex\n",
        "\n",
        "print(x,type(x), y, type(y), z, type(z))"
      ],
      "metadata": {
        "colab": {
          "base_uri": "https://localhost:8080/"
        },
        "id": "XSfeA30CqWUu",
        "outputId": "5bab02d7-5a1c-4e0b-e500-3f49fe43d81a"
      },
      "execution_count": null,
      "outputs": [
        {
          "output_type": "stream",
          "name": "stdout",
          "text": [
            "1 <class 'int'> 2.5 <class 'float'> 1j <class 'complex'>\n"
          ]
        }
      ]
    },
    {
      "cell_type": "code",
      "source": [
        "# int to float\n",
        "a = float(x)\n",
        "print(a, type(a))"
      ],
      "metadata": {
        "colab": {
          "base_uri": "https://localhost:8080/"
        },
        "id": "0B8tD4JIrndm",
        "outputId": "d2349a27-0842-4bcc-c5ad-fd4e381e6dc5"
      },
      "execution_count": null,
      "outputs": [
        {
          "output_type": "stream",
          "name": "stdout",
          "text": [
            "1.0 <class 'float'>\n"
          ]
        }
      ]
    },
    {
      "cell_type": "code",
      "source": [
        "# float to int\n",
        "b = int(y)\n",
        "print(b, type(b))"
      ],
      "metadata": {
        "colab": {
          "base_uri": "https://localhost:8080/"
        },
        "id": "Hm2D7rWTr1iS",
        "outputId": "d39f2848-0c28-417e-b0fd-c1ef0493ad7b"
      },
      "execution_count": null,
      "outputs": [
        {
          "output_type": "stream",
          "name": "stdout",
          "text": [
            "2 <class 'int'>\n"
          ]
        }
      ]
    },
    {
      "cell_type": "code",
      "source": [
        "# int to complex\n",
        "c = complex(x)\n",
        "print(c, type(c))"
      ],
      "metadata": {
        "colab": {
          "base_uri": "https://localhost:8080/"
        },
        "id": "HmM2ytlpsBCs",
        "outputId": "37292dd5-4891-4a81-aaa9-59c27fa7e2e2"
      },
      "execution_count": null,
      "outputs": [
        {
          "output_type": "stream",
          "name": "stdout",
          "text": [
            "(1+0j) <class 'complex'>\n"
          ]
        }
      ]
    },
    {
      "cell_type": "markdown",
      "source": [
        "## Python Casting"
      ],
      "metadata": {
        "id": "k1YjHL2xsvV8"
      }
    },
    {
      "cell_type": "code",
      "source": [
        "# int\n",
        "x = int(1)\n",
        "y = int(2.5)\n",
        "z = int(\"25\")\n",
        "\n",
        "print(x)\n",
        "print(y)\n",
        "print(z)"
      ],
      "metadata": {
        "colab": {
          "base_uri": "https://localhost:8080/"
        },
        "id": "NoYnIMGQsxIu",
        "outputId": "0fe93000-c613-43b8-e768-2bb709148372"
      },
      "execution_count": null,
      "outputs": [
        {
          "output_type": "stream",
          "name": "stdout",
          "text": [
            "1\n",
            "2\n",
            "25\n"
          ]
        }
      ]
    },
    {
      "cell_type": "code",
      "source": [
        "# floats\n",
        "x = float(1)\n",
        "y = float(2.5)\n",
        "z = float('2.5')\n",
        "\n",
        "print(x)\n",
        "print(y)\n",
        "print(z)"
      ],
      "metadata": {
        "id": "fffyMfRKs8of",
        "colab": {
          "base_uri": "https://localhost:8080/"
        },
        "outputId": "fbd7d373-b2c5-49a6-ca03-64565dc3791e"
      },
      "execution_count": null,
      "outputs": [
        {
          "output_type": "stream",
          "name": "stdout",
          "text": [
            "1.0\n",
            "2.5\n",
            "2.5\n"
          ]
        }
      ]
    },
    {
      "cell_type": "code",
      "source": [
        "# strings\n",
        "x = str('string')\n",
        "y = str(25)\n",
        "z = str(2.5)\n",
        "\n",
        "print(x)\n",
        "print(y)\n",
        "print(z)"
      ],
      "metadata": {
        "colab": {
          "base_uri": "https://localhost:8080/"
        },
        "id": "8t7oCyuzFM75",
        "outputId": "12dfa081-5af2-47de-848f-72a288e42c8f"
      },
      "execution_count": null,
      "outputs": [
        {
          "output_type": "stream",
          "name": "stdout",
          "text": [
            "string\n",
            "25\n",
            "2.5\n"
          ]
        }
      ]
    },
    {
      "cell_type": "markdown",
      "source": [
        "## Python Strings"
      ],
      "metadata": {
        "id": "D0KZwzulF30j"
      }
    },
    {
      "cell_type": "code",
      "source": [
        "# string\n",
        "print('this is a string')"
      ],
      "metadata": {
        "colab": {
          "base_uri": "https://localhost:8080/"
        },
        "id": "o6JkO6F8FdnO",
        "outputId": "58e958db-1a28-4d6d-bd49-69ee59deb84c"
      },
      "execution_count": null,
      "outputs": [
        {
          "output_type": "stream",
          "name": "stdout",
          "text": [
            "this is a string\n"
          ]
        }
      ]
    },
    {
      "cell_type": "code",
      "source": [
        "#Quotes Inside Quotes\n",
        "print(\"this is 'very' powerful\")"
      ],
      "metadata": {
        "colab": {
          "base_uri": "https://localhost:8080/"
        },
        "id": "pkaWnzMnF_wT",
        "outputId": "77fcbbfe-88f9-43b4-c69a-9df001f0c455"
      },
      "execution_count": null,
      "outputs": [
        {
          "output_type": "stream",
          "name": "stdout",
          "text": [
            "this is 'very' powerful\n"
          ]
        }
      ]
    },
    {
      "cell_type": "code",
      "source": [
        "#Assign String to a Variable\n",
        "x = \"Hi\"\n",
        "print(x)"
      ],
      "metadata": {
        "colab": {
          "base_uri": "https://localhost:8080/"
        },
        "id": "aYmGIyLHGFyZ",
        "outputId": "9c42edf2-7509-4fbf-96d8-b3240d145754"
      },
      "execution_count": null,
      "outputs": [
        {
          "output_type": "stream",
          "name": "stdout",
          "text": [
            "Hi\n"
          ]
        }
      ]
    },
    {
      "cell_type": "code",
      "source": [
        "# multiline strings\n",
        "a = \"\"\"Lorem ipsum dolor sit amet,\n",
        "consectetur adipiscing elit,\n",
        "sed do eiusmod tempor incididunt\n",
        "ut labore et dolore magna aliqua.\"\"\"\n",
        "print(a)"
      ],
      "metadata": {
        "colab": {
          "base_uri": "https://localhost:8080/"
        },
        "id": "SfkJzZBhGOLc",
        "outputId": "adde83b3-d808-404e-8673-cea8501d7acf"
      },
      "execution_count": null,
      "outputs": [
        {
          "output_type": "stream",
          "name": "stdout",
          "text": [
            "Lorem ipsum dolor sit amet,\n",
            "consectetur adipiscing elit,\n",
            "sed do eiusmod tempor incididunt\n",
            "ut labore et dolore magna aliqua.\n"
          ]
        }
      ]
    },
    {
      "cell_type": "code",
      "source": [
        "# character at postion\n",
        "x = \"hello world\"\n",
        "print(x[1])"
      ],
      "metadata": {
        "colab": {
          "base_uri": "https://localhost:8080/"
        },
        "id": "GTaKhtN1GUP-",
        "outputId": "d456e178-3fa4-47e9-ff9b-ca609aa31650"
      },
      "execution_count": null,
      "outputs": [
        {
          "output_type": "stream",
          "name": "stdout",
          "text": [
            "e\n"
          ]
        }
      ]
    },
    {
      "cell_type": "code",
      "source": [
        "# looping though a string\n",
        "for a in x:\n",
        "  print(a)"
      ],
      "metadata": {
        "colab": {
          "base_uri": "https://localhost:8080/"
        },
        "id": "bHjbCRxeGlwD",
        "outputId": "39655ad0-049d-4a63-d7e3-ec418611c663"
      },
      "execution_count": null,
      "outputs": [
        {
          "output_type": "stream",
          "name": "stdout",
          "text": [
            "h\n",
            "e\n",
            "l\n",
            "l\n",
            "o\n",
            " \n",
            "w\n",
            "o\n",
            "r\n",
            "l\n",
            "d\n"
          ]
        }
      ]
    },
    {
      "cell_type": "code",
      "source": [
        "# string length\n",
        "x = \"Rajasekhara Reddy\"\n",
        "print(len(x))"
      ],
      "metadata": {
        "colab": {
          "base_uri": "https://localhost:8080/"
        },
        "id": "9F4o8Js7G0jE",
        "outputId": "07e09c52-831e-45ba-ed8f-807e5dd708b3"
      },
      "execution_count": null,
      "outputs": [
        {
          "output_type": "stream",
          "name": "stdout",
          "text": [
            "17\n"
          ]
        }
      ]
    },
    {
      "cell_type": "code",
      "source": [
        "# check string\n",
        "# checking if Python is present in the string\n",
        "txt = \"The best thing is Python is free to use\"\n",
        "print(\"Python\" in txt)"
      ],
      "metadata": {
        "colab": {
          "base_uri": "https://localhost:8080/"
        },
        "id": "9m2R57cQG6zH",
        "outputId": "fa8cf539-f11d-49d0-cb2c-4a282f00d57b"
      },
      "execution_count": null,
      "outputs": [
        {
          "output_type": "stream",
          "name": "stdout",
          "text": [
            "True\n"
          ]
        }
      ]
    },
    {
      "cell_type": "code",
      "source": [
        "# using if with in to check\n",
        "if \"Python\" in txt:\n",
        "  print(\"Yes Python is free\")"
      ],
      "metadata": {
        "colab": {
          "base_uri": "https://localhost:8080/"
        },
        "id": "U1cYuU2EHVKd",
        "outputId": "b8a4dcbc-a2e2-44be-9c06-05424b9d4563"
      },
      "execution_count": null,
      "outputs": [
        {
          "output_type": "stream",
          "name": "stdout",
          "text": [
            "Yes Python is free\n"
          ]
        }
      ]
    },
    {
      "cell_type": "code",
      "source": [
        "# check if python is not in txt\n",
        "txt = \"Python is for free\"\n",
        "\"expensive\" not in txt"
      ],
      "metadata": {
        "colab": {
          "base_uri": "https://localhost:8080/"
        },
        "id": "AgWDXopvHx5U",
        "outputId": "d39d7e44-487f-4ff6-8350-76852f656da9"
      },
      "execution_count": null,
      "outputs": [
        {
          "output_type": "execute_result",
          "data": {
            "text/plain": [
              "True"
            ]
          },
          "metadata": {},
          "execution_count": 19
        }
      ]
    },
    {
      "cell_type": "code",
      "source": [
        "# Using if with not in\n",
        "if \"expensive\" not in txt:\n",
        "  print(\"Expensive is not present in txt\")"
      ],
      "metadata": {
        "colab": {
          "base_uri": "https://localhost:8080/"
        },
        "id": "hVxCoGmpIG9H",
        "outputId": "57f6a8d2-d9b3-452d-fbb5-27971f77e5ed"
      },
      "execution_count": null,
      "outputs": [
        {
          "output_type": "stream",
          "name": "stdout",
          "text": [
            "Expensive is not present in txt\n"
          ]
        }
      ]
    },
    {
      "cell_type": "markdown",
      "source": [
        "### Slicing strings"
      ],
      "metadata": {
        "id": "xO9l7ZtvIk_y"
      }
    },
    {
      "cell_type": "code",
      "source": [
        "#Slicing\n",
        "#Get the characters from position 2 to position 5 (not included):\n",
        "a = \"Hello World!\"\n",
        "print(a[2:5])"
      ],
      "metadata": {
        "colab": {
          "base_uri": "https://localhost:8080/"
        },
        "id": "AD1T4xrOIO4L",
        "outputId": "343df372-5420-4e97-fa2f-3e63e06c9081"
      },
      "execution_count": null,
      "outputs": [
        {
          "output_type": "stream",
          "name": "stdout",
          "text": [
            "llo\n"
          ]
        }
      ]
    },
    {
      "cell_type": "code",
      "source": [
        "#Slice From the Start\n",
        "print(a[:5])"
      ],
      "metadata": {
        "colab": {
          "base_uri": "https://localhost:8080/"
        },
        "id": "sSLBQD_3Iwgy",
        "outputId": "bbecafb9-9287-4460-98ba-d71b25021faf"
      },
      "execution_count": null,
      "outputs": [
        {
          "output_type": "stream",
          "name": "stdout",
          "text": [
            "Hello\n"
          ]
        }
      ]
    },
    {
      "cell_type": "code",
      "source": [
        "# Slice to the end\n",
        "print(a[2:])"
      ],
      "metadata": {
        "colab": {
          "base_uri": "https://localhost:8080/"
        },
        "id": "bS9YYin7JAHp",
        "outputId": "fdbf4d1a-2ded-4354-f74c-a626173ade69"
      },
      "execution_count": null,
      "outputs": [
        {
          "output_type": "stream",
          "name": "stdout",
          "text": [
            "llo World!\n"
          ]
        }
      ]
    },
    {
      "cell_type": "code",
      "source": [
        "# negative indexing\n",
        "print(a[-5:-2])"
      ],
      "metadata": {
        "colab": {
          "base_uri": "https://localhost:8080/"
        },
        "id": "ZVZPNrLvJGH4",
        "outputId": "2ab23f91-b8f9-430e-adc6-ad0c87ed9e60"
      },
      "execution_count": null,
      "outputs": [
        {
          "output_type": "stream",
          "name": "stdout",
          "text": [
            "orl\n"
          ]
        }
      ]
    },
    {
      "cell_type": "markdown",
      "source": [
        "### Modify Strings"
      ],
      "metadata": {
        "id": "qmmI19SqJlE5"
      }
    },
    {
      "cell_type": "code",
      "source": [
        "# Upper case\n",
        "x = \"Hello World! \"\n",
        "print(x.upper())"
      ],
      "metadata": {
        "colab": {
          "base_uri": "https://localhost:8080/"
        },
        "id": "nnHLjG21Jd48",
        "outputId": "82ceade2-eca5-4f96-d43b-3cf986582473"
      },
      "execution_count": null,
      "outputs": [
        {
          "output_type": "stream",
          "name": "stdout",
          "text": [
            "HELLO WORLD! \n"
          ]
        }
      ]
    },
    {
      "cell_type": "code",
      "source": [
        "# Lower case\n",
        "print(x.lower())"
      ],
      "metadata": {
        "colab": {
          "base_uri": "https://localhost:8080/"
        },
        "id": "LrqbeP7eJzhA",
        "outputId": "b9d5ea6b-9a95-4375-caaa-1d7e334b5146"
      },
      "execution_count": null,
      "outputs": [
        {
          "output_type": "stream",
          "name": "stdout",
          "text": [
            "hello world! \n"
          ]
        }
      ]
    },
    {
      "cell_type": "code",
      "source": [
        "# remove white spaces\n",
        "print(x.strip())"
      ],
      "metadata": {
        "colab": {
          "base_uri": "https://localhost:8080/"
        },
        "id": "4rVM_Lz1J3ib",
        "outputId": "924356ef-a786-43b9-89a6-0f5647b568ce"
      },
      "execution_count": null,
      "outputs": [
        {
          "output_type": "stream",
          "name": "stdout",
          "text": [
            "Hello World!\n"
          ]
        }
      ]
    },
    {
      "cell_type": "code",
      "source": [
        "# Replace the string\n",
        "print(x.replace('H', \"F\"))"
      ],
      "metadata": {
        "colab": {
          "base_uri": "https://localhost:8080/"
        },
        "id": "shGFfzVyJ9vc",
        "outputId": "285798e5-2b84-4573-e49f-55b46034634f"
      },
      "execution_count": null,
      "outputs": [
        {
          "output_type": "stream",
          "name": "stdout",
          "text": [
            "Fello World! \n"
          ]
        }
      ]
    },
    {
      "cell_type": "code",
      "source": [
        "# Split string\n",
        "x = \"Hellow, World!\"\n",
        "print(x.split(','))"
      ],
      "metadata": {
        "colab": {
          "base_uri": "https://localhost:8080/"
        },
        "id": "pjf90mZFKSF5",
        "outputId": "8a4a0256-3bc8-470b-e3af-a0d1d06198a3"
      },
      "execution_count": null,
      "outputs": [
        {
          "output_type": "stream",
          "name": "stdout",
          "text": [
            "['Hellow', ' World!']\n"
          ]
        }
      ]
    },
    {
      "cell_type": "markdown",
      "source": [
        "### String Concatenation"
      ],
      "metadata": {
        "id": "AuAgD-EwKpxn"
      }
    },
    {
      "cell_type": "code",
      "source": [
        "#String Concatenation\n",
        "a = \"Hello\"\n",
        "b = \"World!\"\n",
        "print(a + \" \" + b)"
      ],
      "metadata": {
        "colab": {
          "base_uri": "https://localhost:8080/"
        },
        "id": "dG0QfgLGKdG0",
        "outputId": "d84d8d3c-a8d7-4370-bbe0-5d097f47322c"
      },
      "execution_count": null,
      "outputs": [
        {
          "output_type": "stream",
          "name": "stdout",
          "text": [
            "Hello World!\n"
          ]
        }
      ]
    },
    {
      "cell_type": "markdown",
      "source": [
        "### Format Strings"
      ],
      "metadata": {
        "id": "F3XjMNsYK8ih"
      }
    },
    {
      "cell_type": "code",
      "source": [
        "# We cannot add strings and numbers like this\n",
        "age = 25\n",
        "txt = \"My age is \"+ age\n",
        "print(txt)"
      ],
      "metadata": {
        "colab": {
          "base_uri": "https://localhost:8080/",
          "height": 193
        },
        "id": "7QeNAH6bKxj_",
        "outputId": "338f3b0e-9083-4e1a-b5a3-334fe198adb0"
      },
      "execution_count": null,
      "outputs": [
        {
          "output_type": "error",
          "ename": "TypeError",
          "evalue": "can only concatenate str (not \"int\") to str",
          "traceback": [
            "\u001b[0;31m---------------------------------------------------------------------------\u001b[0m",
            "\u001b[0;31mTypeError\u001b[0m                                 Traceback (most recent call last)",
            "\u001b[0;32m<ipython-input-40-1aaf4c171ee8>\u001b[0m in \u001b[0;36m<cell line: 3>\u001b[0;34m()\u001b[0m\n\u001b[1;32m      1\u001b[0m \u001b[0;31m# We cannot add strings and numbers like this\u001b[0m\u001b[0;34m\u001b[0m\u001b[0;34m\u001b[0m\u001b[0m\n\u001b[1;32m      2\u001b[0m \u001b[0mage\u001b[0m \u001b[0;34m=\u001b[0m \u001b[0;36m25\u001b[0m\u001b[0;34m\u001b[0m\u001b[0;34m\u001b[0m\u001b[0m\n\u001b[0;32m----> 3\u001b[0;31m \u001b[0mtxt\u001b[0m \u001b[0;34m=\u001b[0m \u001b[0;34m\"My age is \"\u001b[0m\u001b[0;34m+\u001b[0m \u001b[0mage\u001b[0m\u001b[0;34m\u001b[0m\u001b[0;34m\u001b[0m\u001b[0m\n\u001b[0m\u001b[1;32m      4\u001b[0m \u001b[0mprint\u001b[0m\u001b[0;34m(\u001b[0m\u001b[0mtxt\u001b[0m\u001b[0;34m)\u001b[0m\u001b[0;34m\u001b[0m\u001b[0;34m\u001b[0m\u001b[0m\n",
            "\u001b[0;31mTypeError\u001b[0m: can only concatenate str (not \"int\") to str"
          ]
        }
      ]
    },
    {
      "cell_type": "code",
      "source": [
        "# We can add using F-strings\n",
        "txt = f\"My age is {age}\" # age is a place holder\n",
        "print(txt)"
      ],
      "metadata": {
        "colab": {
          "base_uri": "https://localhost:8080/"
        },
        "id": "iKD_D-hBLMjy",
        "outputId": "da929921-c5c4-4f11-8f68-715c630d5a99"
      },
      "execution_count": null,
      "outputs": [
        {
          "output_type": "stream",
          "name": "stdout",
          "text": [
            "My age is 25\n"
          ]
        }
      ]
    },
    {
      "cell_type": "code",
      "source": [
        "price = 56\n",
        "txt = f\"The price is {price} dollars\"\n",
        "print(txt)"
      ],
      "metadata": {
        "colab": {
          "base_uri": "https://localhost:8080/"
        },
        "id": "-QZwRu0cLkoy",
        "outputId": "fb41ef7e-c720-4d85-ec59-db2a90069b45"
      },
      "execution_count": null,
      "outputs": [
        {
          "output_type": "stream",
          "name": "stdout",
          "text": [
            "The price is 56 dollars\n"
          ]
        }
      ]
    },
    {
      "cell_type": "code",
      "source": [
        "# Displaying price in 2 decimals Using point decimals .2f in f-strings\n",
        "txt = f\"The price is {price:.2f} dollars\"\n",
        "print(txt)"
      ],
      "metadata": {
        "id": "6-doUyygL1cH",
        "colab": {
          "base_uri": "https://localhost:8080/"
        },
        "outputId": "b93c744e-5ed2-4189-aeeb-669ce4664970"
      },
      "execution_count": null,
      "outputs": [
        {
          "output_type": "stream",
          "name": "stdout",
          "text": [
            "The price is 56.00 dollars\n"
          ]
        }
      ]
    },
    {
      "cell_type": "markdown",
      "source": [
        "### Escape Characters"
      ],
      "metadata": {
        "id": "BRv2kPDUNRm6"
      }
    },
    {
      "cell_type": "code",
      "source": [
        "# escape char\n",
        "txt = \"This is very \"powerful\" thing\" # this is an error\n",
        "print(txt)"
      ],
      "metadata": {
        "id": "cezyJff-MA08",
        "colab": {
          "base_uri": "https://localhost:8080/",
          "height": 106
        },
        "outputId": "c4fe6d7c-6fc2-422d-9b01-da9624cb29b3"
      },
      "execution_count": null,
      "outputs": [
        {
          "output_type": "error",
          "ename": "SyntaxError",
          "evalue": "invalid syntax (<ipython-input-45-ba6da9e73412>, line 2)",
          "traceback": [
            "\u001b[0;36m  File \u001b[0;32m\"<ipython-input-45-ba6da9e73412>\"\u001b[0;36m, line \u001b[0;32m2\u001b[0m\n\u001b[0;31m    txt = \"This is very \"powerful\" thing\"\u001b[0m\n\u001b[0m                         ^\u001b[0m\n\u001b[0;31mSyntaxError\u001b[0m\u001b[0;31m:\u001b[0m invalid syntax\n"
          ]
        }
      ]
    },
    {
      "cell_type": "code",
      "source": [
        "txt = \"This is very  \\\"powerful\\\" thing.\"\n",
        "print(txt)"
      ],
      "metadata": {
        "colab": {
          "base_uri": "https://localhost:8080/"
        },
        "id": "IAK0wgHUNlLw",
        "outputId": "e52e7286-b4f3-451f-c1aa-96b9fc97aace"
      },
      "execution_count": null,
      "outputs": [
        {
          "output_type": "stream",
          "name": "stdout",
          "text": [
            "This is very  \"powerful\" thing.\n"
          ]
        }
      ]
    },
    {
      "cell_type": "markdown",
      "source": [
        "## Python Booleans"
      ],
      "metadata": {
        "id": "tmMa4gYxPOKZ"
      }
    },
    {
      "cell_type": "code",
      "source": [
        "#  Boolean values\n",
        "print(10 > 9)\n",
        "print(10 < 9)"
      ],
      "metadata": {
        "colab": {
          "base_uri": "https://localhost:8080/"
        },
        "id": "NS7b8pOqNvZh",
        "outputId": "fc89e49a-0517-49ec-a328-38769dc7d124"
      },
      "execution_count": null,
      "outputs": [
        {
          "output_type": "stream",
          "name": "stdout",
          "text": [
            "True\n",
            "False\n"
          ]
        }
      ]
    },
    {
      "cell_type": "code",
      "source": [
        "# almost all values and variables are true\n",
        "print(bool(\"Hello\"))\n",
        "print(bool(5))\n",
        "print(bool(2.5))\n",
        "print(bool([\"apple\",\"bananna\", \"cherry\"]))\n",
        "print(bool({\"name\":\"xyz\", age:50}))\n",
        "print(bool((\"apple\", \"bananna\")))"
      ],
      "metadata": {
        "colab": {
          "base_uri": "https://localhost:8080/"
        },
        "id": "9VmBRw6QPiFr",
        "outputId": "d4abc4a7-2c6d-447e-c990-5d198ab88ffb"
      },
      "execution_count": null,
      "outputs": [
        {
          "output_type": "stream",
          "name": "stdout",
          "text": [
            "True\n",
            "True\n",
            "True\n",
            "True\n",
            "True\n",
            "True\n"
          ]
        }
      ]
    },
    {
      "cell_type": "code",
      "source": [
        "# empty ones are false\n",
        "print(bool(\"\"))\n",
        "print(bool(0))\n",
        "print(bool(0.0))\n",
        "print(bool({}))\n",
        "print(bool(()))\n",
        "print(bool([]))\n"
      ],
      "metadata": {
        "colab": {
          "base_uri": "https://localhost:8080/"
        },
        "id": "drk6hb3UQalx",
        "outputId": "9429933e-609a-4302-97b5-14f7c7c085f4"
      },
      "execution_count": null,
      "outputs": [
        {
          "output_type": "stream",
          "name": "stdout",
          "text": [
            "False\n",
            "False\n",
            "False\n",
            "False\n",
            "False\n",
            "False\n"
          ]
        }
      ]
    },
    {
      "cell_type": "markdown",
      "source": [
        "## Python operators"
      ],
      "metadata": {
        "id": "EyXNOSL7RqzT"
      }
    },
    {
      "cell_type": "markdown",
      "source": [
        "### Arithmetic Operators"
      ],
      "metadata": {
        "id": "awByIETrTCqD"
      }
    },
    {
      "cell_type": "code",
      "source": [
        "#Arithmetic Operators\n",
        "x = 15\n",
        "y = 2\n",
        "# +\tAddition\tx + y\n",
        "print(x + y)\n",
        "# -\tSubtraction\tx - y\n",
        "print(x - y)\n",
        "# *\tMultiplication\tx * y\n",
        "print(x * y)\n",
        "# /\tDivision\tx / y\n",
        "print(x / y)\n",
        "# %\tModulus\tx % y\n",
        "print(x % y)\n",
        "# **\tExponentiation\tx ** y\n",
        "print(x ** y)\n",
        "# //\tFloor division x // y\n",
        "print(x // y)"
      ],
      "metadata": {
        "colab": {
          "base_uri": "https://localhost:8080/"
        },
        "id": "Z5gM59xZQ9dL",
        "outputId": "be3b5e2c-f2df-4d0f-d61d-0ab17443a830"
      },
      "execution_count": null,
      "outputs": [
        {
          "output_type": "stream",
          "name": "stdout",
          "text": [
            "17\n",
            "13\n",
            "30\n",
            "7.5\n",
            "1\n",
            "225\n",
            "7\n"
          ]
        }
      ]
    },
    {
      "cell_type": "markdown",
      "source": [
        "### Assignment Operators"
      ],
      "metadata": {
        "id": "RtP4yD8-UEUW"
      }
    },
    {
      "cell_type": "code",
      "source": [
        "# operator          eg.       same as\n",
        "#     =\t        x = 5\t          x = 5\n",
        "x = 5\n",
        "#     +=\t      x += 3\t        x = x + 3\n",
        "x += 3\n",
        "print(x)\n",
        "#     -=\t      x -= 3\t        x = x - 3\n",
        "x -= 3\n",
        "print(x)\n",
        "#     *=\t      x *= 3\t        x = x * 3\n",
        "x *= 3\n",
        "print(x)\n",
        "#     /=\t      x /= 3\t        x = x / 3\n",
        "x /= 3\n",
        "print(x)\n",
        "#     %=\t      x %= 3\t        x = x % 3\n",
        "#     //=\t      x //= 3       \tx = x // 3\n",
        "#     **=\t      x **= 3       \tx = x ** 3\n",
        "#     &=\t      x &= 3\t        x = x & 3\n",
        "#     |=\t      x |= 3\t        x = x | 3\n",
        "#     ^=\t      x ^= 3\t        x = x ^ 3\n",
        "#     >>=\t      x >>= 3       \tx = x >> 3\n",
        "#     <<=\t      x <<= 3       \tx = x << 3\n",
        "#     :=\t      print(x := 3)\t  x = 3\n",
        "#                                 print(x)"
      ],
      "metadata": {
        "colab": {
          "base_uri": "https://localhost:8080/"
        },
        "id": "eGJ1BaMFTctu",
        "outputId": "0bf0c36b-baaf-4587-8212-9e9453cae101"
      },
      "execution_count": null,
      "outputs": [
        {
          "output_type": "stream",
          "name": "stdout",
          "text": [
            "8\n",
            "5\n",
            "15\n",
            "5.0\n"
          ]
        }
      ]
    },
    {
      "cell_type": "markdown",
      "source": [
        "### Comparison Operators"
      ],
      "metadata": {
        "id": "ouuhGsc4VQje"
      }
    },
    {
      "cell_type": "code",
      "source": [
        "x = 5\n",
        "y = 10\n",
        "# ==\t  Equal\tx == y\n",
        "print(x == y)\n",
        "# !=\t  Not equal\tx != y\n",
        "print(x != y)\n",
        "# >\t    Greater than\tx > y\n",
        "print(x > y)\n",
        "# <\t    Less than\tx < y\n",
        "print(x < y)\n",
        "# >=\t  Greater than or equal to\tx >= y\n",
        "print(x >= y)\n",
        "# <=\t  Less than or equal to\tx <= y\n",
        "print(x <= y)"
      ],
      "metadata": {
        "colab": {
          "base_uri": "https://localhost:8080/"
        },
        "id": "B4uIu-apVSOJ",
        "outputId": "e2413b86-4068-4b63-be75-1a7cbebf28fb"
      },
      "execution_count": null,
      "outputs": [
        {
          "output_type": "stream",
          "name": "stdout",
          "text": [
            "False\n",
            "True\n",
            "False\n",
            "True\n",
            "False\n",
            "True\n"
          ]
        }
      ]
    },
    {
      "cell_type": "markdown",
      "source": [
        "###Logical Operators"
      ],
      "metadata": {
        "id": "87rt5UkKVc3A"
      }
    },
    {
      "cell_type": "code",
      "source": [
        "# and\n",
        "print(True and True)\n",
        "print(True and False)\n",
        "print(5<10 and 11 > 10)"
      ],
      "metadata": {
        "colab": {
          "base_uri": "https://localhost:8080/"
        },
        "id": "W_QeYVNxVs3J",
        "outputId": "c0f0db42-4753-41df-e79e-78913c3d799b"
      },
      "execution_count": null,
      "outputs": [
        {
          "output_type": "stream",
          "name": "stdout",
          "text": [
            "True\n",
            "False\n",
            "True\n"
          ]
        }
      ]
    },
    {
      "cell_type": "code",
      "source": [
        "# or\n",
        "print(True or False)\n",
        "print(5 < 10 or 10 < 5)"
      ],
      "metadata": {
        "colab": {
          "base_uri": "https://localhost:8080/"
        },
        "id": "14IDcrmaWToS",
        "outputId": "0c24744b-37f7-4a42-f2c9-bb547edf61f4"
      },
      "execution_count": null,
      "outputs": [
        {
          "output_type": "stream",
          "name": "stdout",
          "text": [
            "True\n",
            "True\n"
          ]
        }
      ]
    },
    {
      "cell_type": "code",
      "source": [
        "# not\n",
        "print(not(True))"
      ],
      "metadata": {
        "colab": {
          "base_uri": "https://localhost:8080/"
        },
        "id": "UecsOOFtWTYA",
        "outputId": "bc43ed25-9c94-4d82-8bb6-3cbd724c0155"
      },
      "execution_count": null,
      "outputs": [
        {
          "output_type": "stream",
          "name": "stdout",
          "text": [
            "False\n"
          ]
        }
      ]
    },
    {
      "cell_type": "markdown",
      "source": [
        "### Identity Operators"
      ],
      "metadata": {
        "id": "F-ug2VcTVeC3"
      }
    },
    {
      "cell_type": "code",
      "source": [
        "# is\n",
        "x = 10\n",
        "y = 5\n",
        "print(x is y)"
      ],
      "metadata": {
        "colab": {
          "base_uri": "https://localhost:8080/"
        },
        "id": "h2eoGtY9Wn_E",
        "outputId": "ea91c1d8-9b07-4b75-cc3e-c75420a1542a"
      },
      "execution_count": null,
      "outputs": [
        {
          "output_type": "stream",
          "name": "stdout",
          "text": [
            "False\n"
          ]
        }
      ]
    },
    {
      "cell_type": "code",
      "source": [
        "# is not\n",
        "print(x is not y)"
      ],
      "metadata": {
        "colab": {
          "base_uri": "https://localhost:8080/"
        },
        "id": "xoCZYlpCWsfV",
        "outputId": "a66092cf-e4f4-45bc-e5dd-bd5c141039ec"
      },
      "execution_count": null,
      "outputs": [
        {
          "output_type": "stream",
          "name": "stdout",
          "text": [
            "True\n"
          ]
        }
      ]
    },
    {
      "cell_type": "markdown",
      "source": [
        "### Membership Operators"
      ],
      "metadata": {
        "id": "eGGzSII9VlGx"
      }
    },
    {
      "cell_type": "code",
      "source": [
        "# in\n",
        "x = ['apple', 'bananna']\n",
        "print('apple' in x)"
      ],
      "metadata": {
        "colab": {
          "base_uri": "https://localhost:8080/"
        },
        "id": "sq9NHvGqW2w5",
        "outputId": "cda0aa0d-7ecd-4504-8daa-985439a57a87"
      },
      "execution_count": null,
      "outputs": [
        {
          "output_type": "stream",
          "name": "stdout",
          "text": [
            "True\n"
          ]
        }
      ]
    },
    {
      "cell_type": "code",
      "source": [
        "# not in\n",
        "print('cherry' not in x)"
      ],
      "metadata": {
        "colab": {
          "base_uri": "https://localhost:8080/"
        },
        "id": "yyIMpja6XJsB",
        "outputId": "2bee8bd8-4f70-42c3-876c-65ab2e0bf2db"
      },
      "execution_count": null,
      "outputs": [
        {
          "output_type": "stream",
          "name": "stdout",
          "text": [
            "True\n"
          ]
        }
      ]
    },
    {
      "cell_type": "markdown",
      "source": [
        "### Bitwise Operators"
      ],
      "metadata": {
        "id": "9M0vZ2l-Vm2d"
      }
    },
    {
      "cell_type": "code",
      "source": [
        "# & \tAND\tSets each bit to 1 if both bits are 1\tx & y\n",
        "# |\tOR\tSets each bit to 1 if one of two bits is 1\tx | y\n",
        "# ^\tXOR\tSets each bit to 1 if only one of two bits is 1\tx ^ y\n",
        "# ~\tNOT\tInverts all the bits\t~x\n",
        "# <<\tZero fill left shift\tShift left by pushing zeros in from the right and let the leftmost bits fall off\tx << 2\n",
        "# >>\tSigned right shift\tShift right by pushing copies of the leftmost bit in from the left, and let the rightmost bits fall off\tx >> 2"
      ],
      "metadata": {
        "id": "MnGmrBNPhua5"
      },
      "execution_count": null,
      "outputs": []
    },
    {
      "cell_type": "markdown",
      "source": [
        "## Python Lists"
      ],
      "metadata": {
        "id": "mtr54MfQjCc-"
      }
    },
    {
      "cell_type": "code",
      "source": [
        "# list\n",
        "myList = ['apple', 'bananna', 'cherry']\n",
        "print(myList)"
      ],
      "metadata": {
        "colab": {
          "base_uri": "https://localhost:8080/"
        },
        "id": "hp0RvZQsjEgF",
        "outputId": "4cb4f565-7b69-469f-cdab-f9b1706a1e33"
      },
      "execution_count": null,
      "outputs": [
        {
          "output_type": "stream",
          "name": "stdout",
          "text": [
            "['apple', 'bananna', 'cherry']\n"
          ]
        }
      ]
    },
    {
      "cell_type": "code",
      "source": [
        "# length of the list\n",
        "print(len(myList))"
      ],
      "metadata": {
        "colab": {
          "base_uri": "https://localhost:8080/"
        },
        "id": "DFgabz7rjUQc",
        "outputId": "57bd8522-2438-4b30-abdf-992a163b8358"
      },
      "execution_count": null,
      "outputs": [
        {
          "output_type": "stream",
          "name": "stdout",
          "text": [
            "3\n"
          ]
        }
      ]
    },
    {
      "cell_type": "code",
      "source": [
        "# Data type of list\n",
        "print(type(myList))"
      ],
      "metadata": {
        "colab": {
          "base_uri": "https://localhost:8080/"
        },
        "id": "4XO4JuJZjcdx",
        "outputId": "7ca8682d-75e3-430c-866d-d9e6a2f57914"
      },
      "execution_count": null,
      "outputs": [
        {
          "output_type": "stream",
          "name": "stdout",
          "text": [
            "<class 'list'>\n"
          ]
        }
      ]
    },
    {
      "cell_type": "code",
      "source": [
        "# The list constructor\n",
        "list1 = list(('apple', \"bananna\", \"123\", True, 2.5, 2005 ))\n",
        "print(list1)"
      ],
      "metadata": {
        "colab": {
          "base_uri": "https://localhost:8080/"
        },
        "id": "KAeVtjDMjplN",
        "outputId": "328ced36-89fe-4686-d071-7f31891e80a8"
      },
      "execution_count": null,
      "outputs": [
        {
          "output_type": "stream",
          "name": "stdout",
          "text": [
            "['apple', 'bananna', '123', True, 2.5, 2005]\n"
          ]
        }
      ]
    },
    {
      "cell_type": "markdown",
      "source": [
        "### Access the item"
      ],
      "metadata": {
        "id": "cm9jOkMVmGFy"
      }
    },
    {
      "cell_type": "code",
      "source": [
        "# Access items from the list\n",
        "print(myList[0])\n",
        "print(myList[1])\n",
        "# negative indexing\n",
        "print(myList[-1]) # negative index is from right to left"
      ],
      "metadata": {
        "colab": {
          "base_uri": "https://localhost:8080/"
        },
        "id": "rIm-aoZnj5jw",
        "outputId": "3218152f-c4a3-4582-edfa-af7fc18e8b73"
      },
      "execution_count": null,
      "outputs": [
        {
          "output_type": "stream",
          "name": "stdout",
          "text": [
            "apple\n",
            "bananna\n",
            "cherry\n"
          ]
        }
      ]
    },
    {
      "cell_type": "code",
      "source": [
        "# Range of indexes\n",
        "thislist = [\"apple\", \"banana\", \"cherry\", \"orange\", \"kiwi\", \"melon\", \"mango\"]\n",
        "print(thislist[2:5]) # index 2 to 4, 5 not included\n",
        "print(thislist[:5]) # begining to 4, 5 not included\n",
        "print(thislist[5:]) # index 5 to last"
      ],
      "metadata": {
        "colab": {
          "base_uri": "https://localhost:8080/"
        },
        "id": "lnZOAlS1kxYD",
        "outputId": "0cc3e67b-446e-4f67-a9d4-dd7a39f9a70a"
      },
      "execution_count": null,
      "outputs": [
        {
          "output_type": "stream",
          "name": "stdout",
          "text": [
            "['cherry', 'orange', 'kiwi']\n",
            "['apple', 'banana', 'cherry', 'orange', 'kiwi']\n",
            "['melon', 'mango']\n"
          ]
        }
      ]
    },
    {
      "cell_type": "code",
      "source": [
        "# check if exist in the list\n",
        "'apple' in thislist"
      ],
      "metadata": {
        "colab": {
          "base_uri": "https://localhost:8080/"
        },
        "id": "rm2DF-TLkOh7",
        "outputId": "051a1c46-ba78-482a-d1c4-59225effc5de"
      },
      "execution_count": null,
      "outputs": [
        {
          "output_type": "execute_result",
          "data": {
            "text/plain": [
              "True"
            ]
          },
          "metadata": {},
          "execution_count": 103
        }
      ]
    },
    {
      "cell_type": "markdown",
      "source": [
        "### Change the items in list"
      ],
      "metadata": {
        "id": "70tpoa2jmJP5"
      }
    },
    {
      "cell_type": "code",
      "source": [
        "# change 2 index item\n",
        "thislist = ['apple', 'bananna', 'cherry', \"orange\", 'kiwi', 'mango' ]\n",
        "print(thislist)\n",
        "thislist[2] = \"berry\"\n",
        "print(thislist)"
      ],
      "metadata": {
        "colab": {
          "base_uri": "https://localhost:8080/"
        },
        "id": "jRdB8Hzol342",
        "outputId": "020d82e3-bd5a-4fba-ca3d-500bfadba0be"
      },
      "execution_count": null,
      "outputs": [
        {
          "output_type": "stream",
          "name": "stdout",
          "text": [
            "['apple', 'bananna', 'cherry', 'orange', 'kiwi', 'mango']\n",
            "['apple', 'bananna', 'berry', 'orange', 'kiwi', 'mango']\n"
          ]
        }
      ]
    },
    {
      "cell_type": "code",
      "source": [
        "# change the range of items\n",
        "print(thislist)\n",
        "thislist[2:5] = ['cherry', 'watermelon', 'guva']\n",
        "print(thislist)"
      ],
      "metadata": {
        "colab": {
          "base_uri": "https://localhost:8080/"
        },
        "id": "DsYpJjZomivj",
        "outputId": "a4574029-8b53-40b8-f19c-0f8d3d0adef6"
      },
      "execution_count": null,
      "outputs": [
        {
          "output_type": "stream",
          "name": "stdout",
          "text": [
            "['apple', 'bananna', 'berry', 'orange', 'kiwi', 'mango']\n",
            "['apple', 'bananna', 'cherry', 'watermelon', 'guva', 'mango']\n"
          ]
        }
      ]
    },
    {
      "cell_type": "code",
      "source": [
        "# insert items\n",
        "thislist = ['apple', 'bananna', 'cherry']\n",
        "print(thislist)\n",
        "thislist.insert(2,'watermelon')\n",
        "print(thislist)"
      ],
      "metadata": {
        "colab": {
          "base_uri": "https://localhost:8080/"
        },
        "id": "6cquSmv1m6AF",
        "outputId": "402185d7-68b8-4b79-9aea-b31adfa4a274"
      },
      "execution_count": null,
      "outputs": [
        {
          "output_type": "stream",
          "name": "stdout",
          "text": [
            "['apple', 'bananna', 'cherry']\n",
            "['apple', 'bananna', 'watermelon', 'cherry']\n"
          ]
        }
      ]
    },
    {
      "cell_type": "markdown",
      "source": [
        "### Add list items"
      ],
      "metadata": {
        "id": "d1i10MIbn6ic"
      }
    },
    {
      "cell_type": "code",
      "source": [
        "# add items\n",
        "print(thislist)\n",
        "thislist.append('orange')\n",
        "print(thislist)"
      ],
      "metadata": {
        "colab": {
          "base_uri": "https://localhost:8080/"
        },
        "id": "rM9oCiKHnhK-",
        "outputId": "24eecb02-618e-44a3-8982-a352f45a1731"
      },
      "execution_count": null,
      "outputs": [
        {
          "output_type": "stream",
          "name": "stdout",
          "text": [
            "['apple', 'bananna', 'watermelon', 'cherry']\n",
            "['apple', 'bananna', 'watermelon', 'cherry', 'orange']\n"
          ]
        }
      ]
    },
    {
      "cell_type": "code",
      "source": [
        "# extend the list\n",
        "list1 = ['apple', 'bananna']\n",
        "list2 = ['cherry', 'berry']\n",
        "print(list1)\n",
        "list1.extend(list2)\n",
        "print(list1)\n",
        "print(list2)"
      ],
      "metadata": {
        "colab": {
          "base_uri": "https://localhost:8080/"
        },
        "id": "QCUySZlToBWH",
        "outputId": "1660e398-1ef0-4bce-b191-f5562b51b088"
      },
      "execution_count": null,
      "outputs": [
        {
          "output_type": "stream",
          "name": "stdout",
          "text": [
            "['apple', 'bananna']\n",
            "['apple', 'bananna', 'cherry', 'berry']\n",
            "['cherry', 'berry']\n"
          ]
        }
      ]
    },
    {
      "cell_type": "markdown",
      "source": [
        "### Remove list item"
      ],
      "metadata": {
        "id": "X8cSfoRhqIl2"
      }
    },
    {
      "cell_type": "code",
      "source": [
        "# remove specified item using remove\n",
        "list1 = ['apple', 'bananna', \"cherry\", 'bananna']\n",
        "list1.remove('bananna')\n",
        "print(list1)"
      ],
      "metadata": {
        "colab": {
          "base_uri": "https://localhost:8080/"
        },
        "id": "mD5w0msBopJ8",
        "outputId": "63879596-3ea0-4d4f-c984-98b52446ca03"
      },
      "execution_count": null,
      "outputs": [
        {
          "output_type": "stream",
          "name": "stdout",
          "text": [
            "['apple', 'cherry', 'bananna']\n"
          ]
        }
      ]
    },
    {
      "cell_type": "code",
      "source": [
        "# remove specified index using pop\n",
        "list1.pop(1)\n",
        "print(list1)"
      ],
      "metadata": {
        "colab": {
          "base_uri": "https://localhost:8080/"
        },
        "id": "Vj64Ao9Aqazw",
        "outputId": "4aa64be7-eb1e-4af3-9acb-e9c51fb3e243"
      },
      "execution_count": null,
      "outputs": [
        {
          "output_type": "stream",
          "name": "stdout",
          "text": [
            "['apple', 'bananna']\n"
          ]
        }
      ]
    },
    {
      "cell_type": "code",
      "source": [
        "# remove the last item\n",
        "list1.pop()\n",
        "print(list1)"
      ],
      "metadata": {
        "colab": {
          "base_uri": "https://localhost:8080/"
        },
        "id": "r7IGZ10iqxlo",
        "outputId": "3a7f78e7-41b6-4b93-8866-ce6d7b23d1e0"
      },
      "execution_count": null,
      "outputs": [
        {
          "output_type": "stream",
          "name": "stdout",
          "text": [
            "['apple']\n"
          ]
        }
      ]
    },
    {
      "cell_type": "code",
      "source": [
        "# del keyword also removes\n",
        "list1 = ['apple', 'bananna', \"cherry\", 'bananna']\n",
        "del list1[0]\n",
        "print(list1)"
      ],
      "metadata": {
        "colab": {
          "base_uri": "https://localhost:8080/"
        },
        "id": "ng1RcF4Tq90N",
        "outputId": "c0329627-05ef-4597-b887-a34f1981429f"
      },
      "execution_count": null,
      "outputs": [
        {
          "output_type": "stream",
          "name": "stdout",
          "text": [
            "['bananna', 'cherry', 'bananna']\n"
          ]
        }
      ]
    },
    {
      "cell_type": "code",
      "source": [
        "# clear method clears the list but keeps empty list\n",
        "list1 = ['apple', 'bananna', \"cherry\", 'bananna']\n",
        "list1.clear()\n",
        "print(list1)"
      ],
      "metadata": {
        "colab": {
          "base_uri": "https://localhost:8080/"
        },
        "id": "1lJUjYNzrK3B",
        "outputId": "3ce6e1cb-fd2a-472d-b7cd-eabf09abaf73"
      },
      "execution_count": null,
      "outputs": [
        {
          "output_type": "stream",
          "name": "stdout",
          "text": [
            "[]\n"
          ]
        }
      ]
    },
    {
      "cell_type": "code",
      "source": [
        "# del the entire list\n",
        "list1 = ['apple', 'bananna', \"cherry\", 'bananna']\n",
        "del list1"
      ],
      "metadata": {
        "id": "Cf0ZzRqJrW-o"
      },
      "execution_count": null,
      "outputs": []
    },
    {
      "cell_type": "markdown",
      "source": [
        "### Loop List"
      ],
      "metadata": {
        "id": "iJwhKFaAr8br"
      }
    },
    {
      "cell_type": "code",
      "source": [
        "# looping through a list\n",
        "list1 = ['apple', 'bananna', \"cherry\", 'bananna']\n",
        "for x in list1:\n",
        "  print(x)\n"
      ],
      "metadata": {
        "colab": {
          "base_uri": "https://localhost:8080/"
        },
        "id": "s7NAxn6brd2l",
        "outputId": "eee0775c-a548-4e94-fc0c-0009bb7a35d1"
      },
      "execution_count": null,
      "outputs": [
        {
          "output_type": "stream",
          "name": "stdout",
          "text": [
            "apple\n",
            "bananna\n",
            "cherry\n",
            "bananna\n"
          ]
        }
      ]
    },
    {
      "cell_type": "code",
      "source": [
        "# looping through the index of the lsit\n",
        "for i in range(len(list1)):\n",
        "  print(list1[i])"
      ],
      "metadata": {
        "colab": {
          "base_uri": "https://localhost:8080/"
        },
        "id": "y7MySB_CsCpv",
        "outputId": "df5621e7-935c-4f8c-d2bc-3d5f2a32ef98"
      },
      "execution_count": null,
      "outputs": [
        {
          "output_type": "stream",
          "name": "stdout",
          "text": [
            "apple\n",
            "bananna\n",
            "cherry\n",
            "bananna\n"
          ]
        }
      ]
    },
    {
      "cell_type": "code",
      "source": [
        "# while loop in the list\n",
        "i = 0\n",
        "while i < len(list1):\n",
        "  print(list1[i])\n",
        "  i = i + 1\n"
      ],
      "metadata": {
        "colab": {
          "base_uri": "https://localhost:8080/"
        },
        "id": "SCrR2ly3sTeZ",
        "outputId": "b6738740-64de-4da9-cf6f-949d19e747ee"
      },
      "execution_count": null,
      "outputs": [
        {
          "output_type": "stream",
          "name": "stdout",
          "text": [
            "apple\n",
            "bananna\n",
            "cherry\n",
            "bananna\n"
          ]
        }
      ]
    },
    {
      "cell_type": "code",
      "source": [
        "# Looping using list comprehension\n",
        "list1 = ['apple', 'bananna', 'cherry']\n",
        "[print(x) for x in list1]"
      ],
      "metadata": {
        "colab": {
          "base_uri": "https://localhost:8080/"
        },
        "id": "hHvIJPMTtCX4",
        "outputId": "fea5c0f1-64a9-45b7-c98d-4acb04173bc2"
      },
      "execution_count": null,
      "outputs": [
        {
          "output_type": "stream",
          "name": "stdout",
          "text": [
            "apple\n",
            "bananna\n",
            "cherry\n"
          ]
        },
        {
          "output_type": "execute_result",
          "data": {
            "text/plain": [
              "[None, None, None]"
            ]
          },
          "metadata": {},
          "execution_count": 138
        }
      ]
    },
    {
      "cell_type": "markdown",
      "source": [
        "### List Comprehension"
      ],
      "metadata": {
        "id": "OKp6KksvuDP4"
      }
    },
    {
      "cell_type": "code",
      "source": [
        "# general\n",
        "# Based on a list of fruits, you want a new list, containing only the fruits with the letter \"a\" in the name.\n",
        "fruits = [\"apple\", \"banana\", \"cherry\", \"kiwi\", \"mango\"]\n",
        "newlist = [] # want a new list if a is present in it\n",
        "\n",
        "for x in fruits:\n",
        "  if \"a\" in x:\n",
        "    newlist.append(x)\n",
        "print(newlist)"
      ],
      "metadata": {
        "colab": {
          "base_uri": "https://localhost:8080/"
        },
        "id": "jXuxTbCntlZs",
        "outputId": "f309f25e-0310-4495-a925-fdeede18f908"
      },
      "execution_count": null,
      "outputs": [
        {
          "output_type": "stream",
          "name": "stdout",
          "text": [
            "['apple', 'banana', 'mango']\n"
          ]
        }
      ]
    },
    {
      "cell_type": "code",
      "source": [
        "# with list comprehesion\n",
        "newlist2 = [x for x in fruits if \"a\" in x] # done the above code in single line\n",
        "print(newlist2)\n"
      ],
      "metadata": {
        "colab": {
          "base_uri": "https://localhost:8080/"
        },
        "id": "pVL5x2XjuZYF",
        "outputId": "50ed3035-5f45-4f18-8c2a-b1101b15b46d"
      },
      "execution_count": null,
      "outputs": [
        {
          "output_type": "stream",
          "name": "stdout",
          "text": [
            "['apple', 'banana', 'mango']\n"
          ]
        }
      ]
    },
    {
      "cell_type": "code",
      "source": [
        "# using range\n",
        "newlist3 = [x for x in range(100) if x < 25]\n",
        "print(newlist3)"
      ],
      "metadata": {
        "colab": {
          "base_uri": "https://localhost:8080/"
        },
        "id": "hlM5NwA2u0wv",
        "outputId": "ea48bf95-9d42-4869-9e38-bbf4c2f55128"
      },
      "execution_count": null,
      "outputs": [
        {
          "output_type": "stream",
          "name": "stdout",
          "text": [
            "[0, 1, 2, 3, 4, 5, 6, 7, 8, 9, 10, 11, 12, 13, 14, 15, 16, 17, 18, 19, 20, 21, 22, 23, 24]\n"
          ]
        }
      ]
    },
    {
      "cell_type": "code",
      "source": [
        "# setting all the items in the list to upper case\n",
        "newlist4 = [x.upper() for x in fruits]\n",
        "print(newlist4)"
      ],
      "metadata": {
        "colab": {
          "base_uri": "https://localhost:8080/"
        },
        "id": "45B41yvpvdW1",
        "outputId": "12ad71f4-677a-4064-c3f1-439823477eb7"
      },
      "execution_count": null,
      "outputs": [
        {
          "output_type": "stream",
          "name": "stdout",
          "text": [
            "['APPLE', 'BANANA', 'CHERRY', 'KIWI', 'MANGO']\n"
          ]
        }
      ]
    },
    {
      "cell_type": "markdown",
      "source": [
        "### Sort List"
      ],
      "metadata": {
        "id": "Fh0mO5GVwQxs"
      }
    },
    {
      "cell_type": "code",
      "source": [
        "# sorting alphabatically ascending order\n",
        "list1 = [\"orange\", \"mango\", \"kiwi\", \"pineapple\", \"banana\"]\n",
        "list1.sort()\n",
        "print(list1)"
      ],
      "metadata": {
        "colab": {
          "base_uri": "https://localhost:8080/"
        },
        "id": "VuD3C3Txv73f",
        "outputId": "e5ede15a-479f-4cd6-a52d-34cae44852f6"
      },
      "execution_count": null,
      "outputs": [
        {
          "output_type": "stream",
          "name": "stdout",
          "text": [
            "['banana', 'kiwi', 'mango', 'orange', 'pineapple']\n"
          ]
        }
      ]
    },
    {
      "cell_type": "code",
      "source": [
        "# sorting in descending order\n",
        "list1.sort(reverse=True)\n",
        "print(list1)"
      ],
      "metadata": {
        "colab": {
          "base_uri": "https://localhost:8080/"
        },
        "id": "kna4mbLdwadq",
        "outputId": "ddb52a91-1050-4178-d5e2-b2d4afb03b0e"
      },
      "execution_count": null,
      "outputs": [
        {
          "output_type": "stream",
          "name": "stdout",
          "text": [
            "['pineapple', 'orange', 'mango', 'kiwi', 'banana']\n"
          ]
        }
      ]
    },
    {
      "cell_type": "code",
      "source": [
        "# sorting numerically\n",
        "list1 = [100, 50, 65, 82, 23]\n",
        "list1.sort()\n",
        "print(list1)\n",
        "list1.sort(reverse=True)\n",
        "print(list1)\n"
      ],
      "metadata": {
        "colab": {
          "base_uri": "https://localhost:8080/"
        },
        "id": "YfQY-iLAwr7K",
        "outputId": "558afb9e-f0fd-4170-83d4-4b8b593d8ddb"
      },
      "execution_count": null,
      "outputs": [
        {
          "output_type": "stream",
          "name": "stdout",
          "text": [
            "[23, 50, 65, 82, 100]\n",
            "[100, 82, 65, 50, 23]\n"
          ]
        }
      ]
    },
    {
      "cell_type": "code",
      "source": [
        "# case sensitive sorting\n",
        "list1 = ['apple', 'Bananna', \"cherry\", \"Guava\"]\n",
        "list1.sort() # starting with capitals comes first\n",
        "print(list1)"
      ],
      "metadata": {
        "colab": {
          "base_uri": "https://localhost:8080/"
        },
        "id": "Auo4csJcw_XI",
        "outputId": "005b3281-2d23-4199-a03c-07f75f6511b2"
      },
      "execution_count": null,
      "outputs": [
        {
          "output_type": "stream",
          "name": "stdout",
          "text": [
            "['Bananna', 'Guava', 'apple', 'cherry']\n"
          ]
        }
      ]
    },
    {
      "cell_type": "code",
      "source": [
        "# case insensitive sorting\n",
        "list1.sort(key=str.lower) # gives sorting irrespective of the first letter case\n",
        "print(list1)"
      ],
      "metadata": {
        "colab": {
          "base_uri": "https://localhost:8080/"
        },
        "id": "knnvvHJ1x66y",
        "outputId": "93eb8663-b4c1-48ca-94e1-3ad8dec17662"
      },
      "execution_count": null,
      "outputs": [
        {
          "output_type": "stream",
          "name": "stdout",
          "text": [
            "['apple', 'Bananna', 'cherry', 'Guava']\n"
          ]
        }
      ]
    },
    {
      "cell_type": "code",
      "source": [
        "# Reerse order of list\n",
        "list1.reverse()\n",
        "print(list1)"
      ],
      "metadata": {
        "colab": {
          "base_uri": "https://localhost:8080/"
        },
        "id": "K8UMtlcJyM-A",
        "outputId": "21337b1b-2a11-421f-8e68-a90bd9fd9eb4"
      },
      "execution_count": null,
      "outputs": [
        {
          "output_type": "stream",
          "name": "stdout",
          "text": [
            "['Guava', 'cherry', 'Bananna', 'apple']\n"
          ]
        }
      ]
    },
    {
      "cell_type": "code",
      "source": [
        "# Customized sorting\n",
        "# sort based on how close the number is to 50\n",
        "list1 = [100, 50, 65, 82, 23, 69]\n",
        "\n",
        "def myfun(n):\n",
        "  return abs(n -50)\n",
        "\n",
        "list1.sort(key = myfun)\n",
        "print(list1)\n"
      ],
      "metadata": {
        "colab": {
          "base_uri": "https://localhost:8080/"
        },
        "id": "8kVcxCunyegn",
        "outputId": "4b84ebca-635e-4c67-8b94-fad3e673c333"
      },
      "execution_count": null,
      "outputs": [
        {
          "output_type": "stream",
          "name": "stdout",
          "text": [
            "[50, 65, 69, 23, 82, 100]\n"
          ]
        }
      ]
    },
    {
      "cell_type": "markdown",
      "source": [
        "### Copy a List"
      ],
      "metadata": {
        "id": "dLXLPEY3zGT0"
      }
    },
    {
      "cell_type": "code",
      "source": [
        "# copy a list using built in method copy\n",
        "list1 = ['apple', 'bananna', 'cherry']\n",
        "# list2 = list1  this is just a referece changing values in list1 chages in list2 also\n",
        "list2 = list1.copy()\n",
        "print(list2)"
      ],
      "metadata": {
        "colab": {
          "base_uri": "https://localhost:8080/"
        },
        "id": "wQEGqDdiy9Yv",
        "outputId": "f05d2216-0df4-4d60-f51a-495ee3edfbb8"
      },
      "execution_count": null,
      "outputs": [
        {
          "output_type": "stream",
          "name": "stdout",
          "text": [
            "['apple', 'bananna', 'cherry']\n"
          ]
        }
      ]
    },
    {
      "cell_type": "code",
      "source": [
        "# copyin using list\n",
        "list2 = list(list1)\n",
        "print(list2)"
      ],
      "metadata": {
        "colab": {
          "base_uri": "https://localhost:8080/"
        },
        "id": "9AUApSmjzZHc",
        "outputId": "4efb1855-b564-439e-8f6d-4f94ea41cede"
      },
      "execution_count": null,
      "outputs": [
        {
          "output_type": "stream",
          "name": "stdout",
          "text": [
            "['apple', 'bananna', 'cherry']\n"
          ]
        }
      ]
    },
    {
      "cell_type": "markdown",
      "source": [
        "### Join Lists"
      ],
      "metadata": {
        "id": "t5kmYTOxzxL0"
      }
    },
    {
      "cell_type": "code",
      "source": [
        "# jointin[g lists\n",
        "list1 = ['a', 'b', 'c', 'd']\n",
        "list2 = [1, 2,3, 4, 5]\n",
        "\n",
        "list3 = list1 + list2 # one method\n",
        "print(list3)"
      ],
      "metadata": {
        "colab": {
          "base_uri": "https://localhost:8080/"
        },
        "id": "HtTtxepfztRe",
        "outputId": "e13ad481-b990-4fae-c6a1-e4fea60cf439"
      },
      "execution_count": null,
      "outputs": [
        {
          "output_type": "stream",
          "name": "stdout",
          "text": [
            "['a', 'b', 'c', 'd', 1, 2, 3, 4, 5]\n"
          ]
        }
      ]
    },
    {
      "cell_type": "code",
      "source": [
        "# using append\n",
        "for x in list2:\n",
        "  list1.append(x) # using append\n",
        "print(list1)"
      ],
      "metadata": {
        "colab": {
          "base_uri": "https://localhost:8080/"
        },
        "id": "WWw6ohc50EQ7",
        "outputId": "21877049-d9d0-45df-a741-f9cba2e05e14"
      },
      "execution_count": null,
      "outputs": [
        {
          "output_type": "stream",
          "name": "stdout",
          "text": [
            "['a', 'b', 'c', 'd', 1, 2, 3, 4, 5]\n"
          ]
        }
      ]
    },
    {
      "cell_type": "code",
      "source": [
        "# using extend\n",
        "list1 = ['a', 'b', 'c', 'd']\n",
        "list2 = [1, 2,3, 4, 5]\n",
        "list1.extend(list2)\n",
        "print(list1)"
      ],
      "metadata": {
        "colab": {
          "base_uri": "https://localhost:8080/"
        },
        "id": "DCT_S04j0hAi",
        "outputId": "49f4613d-9eec-4801-f59c-ac03750537e1"
      },
      "execution_count": null,
      "outputs": [
        {
          "output_type": "stream",
          "name": "stdout",
          "text": [
            "['a', 'b', 'c', 'd', 1, 2, 3, 4, 5]\n"
          ]
        }
      ]
    },
    {
      "cell_type": "markdown",
      "source": [
        "## Python Tuple"
      ],
      "metadata": {
        "id": "F4I-lIFV09cr"
      }
    },
    {
      "cell_type": "code",
      "source": [
        "# tuples\n",
        "tp1 = (\"apple\", \"bananna\", \"cherry\")\n",
        "print(type(tp1))"
      ],
      "metadata": {
        "colab": {
          "base_uri": "https://localhost:8080/"
        },
        "id": "XQ5tyISW0pMj",
        "outputId": "6063cf68-2bd7-49d3-e285-e1ffc31ec560"
      },
      "execution_count": null,
      "outputs": [
        {
          "output_type": "stream",
          "name": "stdout",
          "text": [
            "<class 'tuple'>\n"
          ]
        }
      ]
    },
    {
      "cell_type": "code",
      "source": [
        "tp2 = (\"apple\") # not a tuple if one item\n",
        "print(type(tp2))\n",
        "\n",
        "tp3 = ('apple',) # creating a tuple with one item => \",\" comma\n",
        "print(type(tp3))"
      ],
      "metadata": {
        "colab": {
          "base_uri": "https://localhost:8080/"
        },
        "id": "xvIBsIYC1iFL",
        "outputId": "2177a027-b9b5-4fca-9d39-cd7fd317962b"
      },
      "execution_count": null,
      "outputs": [
        {
          "output_type": "stream",
          "name": "stdout",
          "text": [
            "<class 'str'>\n",
            "<class 'tuple'>\n"
          ]
        }
      ]
    },
    {
      "cell_type": "code",
      "source": [
        "# tuple constructor\n",
        "tp1 = tuple((\"apple\", \"bananna\"))\n",
        "print(tp1, type(tp1))"
      ],
      "metadata": {
        "colab": {
          "base_uri": "https://localhost:8080/"
        },
        "id": "k429PNiE1mRL",
        "outputId": "a044dfd9-e876-40cd-8137-1fa5d7abd634"
      },
      "execution_count": null,
      "outputs": [
        {
          "output_type": "stream",
          "name": "stdout",
          "text": [
            "('apple', 'bananna') <class 'tuple'>\n"
          ]
        }
      ]
    },
    {
      "cell_type": "code",
      "source": [
        "# tuple length\n",
        "print(len(tp1))"
      ],
      "metadata": {
        "colab": {
          "base_uri": "https://localhost:8080/"
        },
        "id": "fTFfaQX-2EuI",
        "outputId": "3e833b56-9f57-4e7e-9715-03d76f39ebc9"
      },
      "execution_count": null,
      "outputs": [
        {
          "output_type": "stream",
          "name": "stdout",
          "text": [
            "2\n"
          ]
        }
      ]
    },
    {
      "cell_type": "markdown",
      "source": [
        "### Access Tuple"
      ],
      "metadata": {
        "id": "xX74yYf4_U1i"
      }
    },
    {
      "cell_type": "code",
      "source": [
        "# accessing tuple items\n",
        "tp1 =(\"apple\", \"banana\", \"cherry\", \"orange\", \"kiwi\", \"melon\", \"mango\")\n",
        "print(tp1[0])"
      ],
      "metadata": {
        "colab": {
          "base_uri": "https://localhost:8080/"
        },
        "id": "NAQQakPP2XMw",
        "outputId": "d0ab9ab6-3f9f-4970-a89d-e968078b032c"
      },
      "execution_count": null,
      "outputs": [
        {
          "output_type": "stream",
          "name": "stdout",
          "text": [
            "apple\n"
          ]
        }
      ]
    },
    {
      "cell_type": "code",
      "source": [
        "# negative indexing\n",
        "print(tp1[-1])"
      ],
      "metadata": {
        "colab": {
          "base_uri": "https://localhost:8080/"
        },
        "id": "elP3U_Ov_nLn",
        "outputId": "a062bee8-e8d2-46d9-da8a-860d83cdbeed"
      },
      "execution_count": null,
      "outputs": [
        {
          "output_type": "stream",
          "name": "stdout",
          "text": [
            "mango\n"
          ]
        }
      ]
    },
    {
      "cell_type": "code",
      "source": [
        "# range of items\n",
        "print(tp1[2:6]) # positive\n",
        "print(tp1[-4: -1]) # range of negative indexes"
      ],
      "metadata": {
        "colab": {
          "base_uri": "https://localhost:8080/"
        },
        "id": "oD5493Qu_yWm",
        "outputId": "5520832e-7518-4c21-df28-d9ed63f51b65"
      },
      "execution_count": null,
      "outputs": [
        {
          "output_type": "stream",
          "name": "stdout",
          "text": [
            "('cherry', 'orange', 'kiwi', 'melon')\n",
            "('orange', 'kiwi', 'melon')\n"
          ]
        }
      ]
    },
    {
      "cell_type": "code",
      "source": [
        "print(tp1[:5]) # starting to 4 , excluding 5\n",
        "print(tp1[5:]) # starting form 5 to last"
      ],
      "metadata": {
        "colab": {
          "base_uri": "https://localhost:8080/"
        },
        "id": "G_OQXkOd_8eM",
        "outputId": "ac42353c-cd1c-49f5-c2a0-102b60b61df6"
      },
      "execution_count": null,
      "outputs": [
        {
          "output_type": "stream",
          "name": "stdout",
          "text": [
            "('apple', 'banana', 'cherry', 'orange', 'kiwi')\n",
            "('melon', 'mango')\n"
          ]
        }
      ]
    },
    {
      "cell_type": "code",
      "source": [
        "# check if item exitst\n",
        "'apple' in tp1"
      ],
      "metadata": {
        "colab": {
          "base_uri": "https://localhost:8080/"
        },
        "id": "3FmC5l4zAV0Y",
        "outputId": "b280f236-8f21-4515-8dfd-62499c99f8e5"
      },
      "execution_count": null,
      "outputs": [
        {
          "output_type": "execute_result",
          "data": {
            "text/plain": [
              "True"
            ]
          },
          "metadata": {},
          "execution_count": 190
        }
      ]
    },
    {
      "cell_type": "markdown",
      "source": [
        "### Update Tuples"
      ],
      "metadata": {
        "id": "y46OAMF8A7oX"
      }
    },
    {
      "cell_type": "code",
      "source": [
        "# tuples are immutable or unchangable once created\n",
        "# to change need to convert tuples to lists and change back\n",
        "x = (\"apple\", \"bananna\", \"cherry\")\n",
        "y = list(x) # converted tuple to list\n",
        "y[1] = \"kiwi\" # changed the value of index 1\n",
        "x = tuple(y) # converted list back to tuple\n",
        "print(x) # printed"
      ],
      "metadata": {
        "colab": {
          "base_uri": "https://localhost:8080/"
        },
        "id": "HguExAODA0_I",
        "outputId": "5688dcc7-b890-47aa-c48c-46c4c017bbc6"
      },
      "execution_count": null,
      "outputs": [
        {
          "output_type": "stream",
          "name": "stdout",
          "text": [
            "('apple', 'kiwi', 'cherry')\n"
          ]
        }
      ]
    },
    {
      "cell_type": "code",
      "source": [
        "# add titems to a tuple\n",
        "x = ('apple', 'bananna', 'cherry')\n",
        "y = list(x)  # converted to list\n",
        "y.append(\"orange\") # appended item to list\n",
        "x = tuple(y) # converted back to tuple\n",
        "print(x)"
      ],
      "metadata": {
        "colab": {
          "base_uri": "https://localhost:8080/"
        },
        "id": "LC2-W5HLBj_0",
        "outputId": "417a478d-d880-4d67-a160-09ab1ff9023b"
      },
      "execution_count": null,
      "outputs": [
        {
          "output_type": "stream",
          "name": "stdout",
          "text": [
            "('apple', 'bananna', 'cherry', 'orange')\n"
          ]
        }
      ]
    },
    {
      "cell_type": "code",
      "source": [
        "# adding tuple to a tuple\n",
        "y = ('guva',)\n",
        "z = x +y\n",
        "print(z)"
      ],
      "metadata": {
        "colab": {
          "base_uri": "https://localhost:8080/"
        },
        "id": "pd80PMLVMc9s",
        "outputId": "c8d19525-4341-4530-8c63-4643345b54fb"
      },
      "execution_count": null,
      "outputs": [
        {
          "output_type": "stream",
          "name": "stdout",
          "text": [
            "('apple', 'bananna', 'orange', 'guva')\n"
          ]
        }
      ]
    },
    {
      "cell_type": "code",
      "source": [
        "# Removing item form tuple\n",
        "y = list(x)\n",
        "y.remove(\"cherry\")\n",
        "x = tuple(y)\n",
        "print(x)\n"
      ],
      "metadata": {
        "colab": {
          "base_uri": "https://localhost:8080/"
        },
        "id": "x8e2e0SjM_uw",
        "outputId": "81eb27ae-1068-4e03-ae1b-880fa88bc87d"
      },
      "execution_count": null,
      "outputs": [
        {
          "output_type": "stream",
          "name": "stdout",
          "text": [
            "('apple', 'bananna', 'orange')\n"
          ]
        }
      ]
    },
    {
      "cell_type": "code",
      "source": [
        "# delete tuple\n",
        "x = ('apple', 'bananna', 'cherry')\n",
        "del x\n"
      ],
      "metadata": {
        "id": "vbMRyFpRNNpR"
      },
      "execution_count": null,
      "outputs": []
    },
    {
      "cell_type": "markdown",
      "source": [
        "### Unpacking Tuples"
      ],
      "metadata": {
        "id": "nX9Qke-NNsW8"
      }
    },
    {
      "cell_type": "code",
      "source": [
        "# packing a typle\n",
        "tpl = ('apple', \"bananna\", 'cherry')\n",
        "print(tpl)"
      ],
      "metadata": {
        "colab": {
          "base_uri": "https://localhost:8080/"
        },
        "id": "Gv6DUOrwNj2B",
        "outputId": "6c6a5c2d-6391-4bac-d34c-8c46ffd75af1"
      },
      "execution_count": null,
      "outputs": [
        {
          "output_type": "stream",
          "name": "stdout",
          "text": [
            "('apple', 'bananna', 'cherry')\n"
          ]
        }
      ]
    },
    {
      "cell_type": "code",
      "source": [
        "# unpacking tuple\n",
        "(red, green, yellow)  = tpl\n",
        "print(red)\n",
        "print(green)\n",
        "print(yellow)"
      ],
      "metadata": {
        "colab": {
          "base_uri": "https://localhost:8080/"
        },
        "id": "030jJQrkN_eI",
        "outputId": "5f5f8ecc-f03a-41d2-acb5-e5728b44994a"
      },
      "execution_count": null,
      "outputs": [
        {
          "output_type": "stream",
          "name": "stdout",
          "text": [
            "apple\n",
            "bananna\n",
            "cherry\n"
          ]
        }
      ]
    },
    {
      "cell_type": "code",
      "source": [
        "# if no. of var is less than values use astrick *\n",
        "fruits = (\"apple\", \"banana\", \"cherry\", \"strawberry\", \"raspberry\")\n",
        "(a, b, *c) = fruits\n",
        "print(a)\n",
        "print(b)\n",
        "print(c)"
      ],
      "metadata": {
        "colab": {
          "base_uri": "https://localhost:8080/"
        },
        "id": "NjFNCRl-OJ_T",
        "outputId": "e4bae354-895a-41a2-c380-c241963bea37"
      },
      "execution_count": null,
      "outputs": [
        {
          "output_type": "stream",
          "name": "stdout",
          "text": [
            "apple\n",
            "banana\n",
            "['cherry', 'strawberry', 'raspberry']\n"
          ]
        }
      ]
    },
    {
      "cell_type": "markdown",
      "source": [
        "### Loop Tuples"
      ],
      "metadata": {
        "id": "dAyp7e2uOqGe"
      }
    },
    {
      "cell_type": "code",
      "source": [
        "# looping the tuple\n",
        "tpl = ('apple', 'bananna', 'cherry')\n",
        "for x in tpl:\n",
        "  print(x)"
      ],
      "metadata": {
        "colab": {
          "base_uri": "https://localhost:8080/"
        },
        "id": "x5xLYjxPOZ9s",
        "outputId": "e56ce92f-1d9f-4a74-8387-1604e1a6662d"
      },
      "execution_count": null,
      "outputs": [
        {
          "output_type": "stream",
          "name": "stdout",
          "text": [
            "apple\n",
            "bananna\n",
            "cherry\n"
          ]
        }
      ]
    },
    {
      "cell_type": "code",
      "source": [
        "# loop through the indexes\n",
        "for i in range(len(tpl)):\n",
        "  print(tpl[i])"
      ],
      "metadata": {
        "colab": {
          "base_uri": "https://localhost:8080/"
        },
        "id": "h5jGMRajO4ma",
        "outputId": "6d1d1f75-94da-47ef-e4a4-45ca0d580a7d"
      },
      "execution_count": null,
      "outputs": [
        {
          "output_type": "stream",
          "name": "stdout",
          "text": [
            "apple\n",
            "bananna\n",
            "cherry\n",
            "apple\n",
            "bananna\n",
            "cherry\n"
          ]
        }
      ]
    },
    {
      "cell_type": "code",
      "source": [
        "# using a while loop\n",
        "i = 0\n",
        "while i < len(tpl):\n",
        "  print(tpl[i])\n",
        "  i += 1"
      ],
      "metadata": {
        "colab": {
          "base_uri": "https://localhost:8080/"
        },
        "id": "1KVd1gZnPBnS",
        "outputId": "ace996ae-d4b1-4f01-9b73-10f5fa770f4e"
      },
      "execution_count": null,
      "outputs": [
        {
          "output_type": "stream",
          "name": "stdout",
          "text": [
            "apple\n",
            "bananna\n",
            "cherry\n"
          ]
        }
      ]
    },
    {
      "cell_type": "markdown",
      "source": [
        "### Join Tuples"
      ],
      "metadata": {
        "id": "oMS97Y7QPggG"
      }
    },
    {
      "cell_type": "code",
      "source": [
        "# joining tuples\n",
        "tpl1 = ('a', 'b', 'c')\n",
        "tpl2 = (1, 2, 3)\n",
        "\n",
        "tpl3 = tpl1 + tpl2\n",
        "print(tpl3)"
      ],
      "metadata": {
        "colab": {
          "base_uri": "https://localhost:8080/"
        },
        "id": "Z27GaVH2Pb-k",
        "outputId": "e8a22794-45b9-4879-82a2-5e5a258aab3e"
      },
      "execution_count": null,
      "outputs": [
        {
          "output_type": "stream",
          "name": "stdout",
          "text": [
            "('a', 'b', 'c', 1, 2, 3)\n"
          ]
        }
      ]
    },
    {
      "cell_type": "code",
      "source": [
        "# multiply tuples\n",
        "fruits = ('apple', 'bananna', 'cherry')\n",
        "tpl = fruits * 2\n",
        "print(tpl)"
      ],
      "metadata": {
        "colab": {
          "base_uri": "https://localhost:8080/"
        },
        "id": "_Sie_r2jQAts",
        "outputId": "9bb69089-624b-4332-cb06-1b9a26bfc5b2"
      },
      "execution_count": null,
      "outputs": [
        {
          "output_type": "stream",
          "name": "stdout",
          "text": [
            "('apple', 'bananna', 'cherry', 'apple', 'bananna', 'cherry')\n"
          ]
        }
      ]
    },
    {
      "cell_type": "markdown",
      "source": [
        "## Python Sets"
      ],
      "metadata": {
        "id": "w6sflYoGQl7i"
      }
    },
    {
      "cell_type": "code",
      "source": [
        "# set , set items are unordered and unchangable\n",
        "# duplicates are not allowed\n",
        "myset = {'apple', 'bananna', 'cherry', 'apple'}\n",
        "print(myset)"
      ],
      "metadata": {
        "id": "pKz7D4IJQZuH",
        "colab": {
          "base_uri": "https://localhost:8080/"
        },
        "outputId": "d0bacf50-67c0-4f1d-9457-2e4175a58bae"
      },
      "execution_count": null,
      "outputs": [
        {
          "output_type": "stream",
          "name": "stdout",
          "text": [
            "{'bananna', 'apple', 'cherry'}\n"
          ]
        }
      ]
    },
    {
      "cell_type": "code",
      "source": [
        "# True and 1 considered same values in set\n",
        "set1 = {True, 1, False, 0}\n",
        "print(set1)"
      ],
      "metadata": {
        "colab": {
          "base_uri": "https://localhost:8080/"
        },
        "id": "Aoi2zF7fWOcq",
        "outputId": "0ede7944-3d3a-485e-d97e-d6d1f271c603"
      },
      "execution_count": null,
      "outputs": [
        {
          "output_type": "stream",
          "name": "stdout",
          "text": [
            "{False, True}\n"
          ]
        }
      ]
    },
    {
      "cell_type": "code",
      "source": [
        "# length of a set\n",
        "print(len(myset))\n",
        "print(type(myset))"
      ],
      "metadata": {
        "colab": {
          "base_uri": "https://localhost:8080/"
        },
        "id": "_jur_KCDWxjp",
        "outputId": "873f7c3c-bd32-4eb2-b04f-ed83b20a8e61"
      },
      "execution_count": null,
      "outputs": [
        {
          "output_type": "stream",
          "name": "stdout",
          "text": [
            "3\n",
            "<class 'set'>\n"
          ]
        }
      ]
    },
    {
      "cell_type": "code",
      "source": [
        "# the set constructor\n",
        "myset = set(('apple', 'bananna'))\n",
        "print(myset)"
      ],
      "metadata": {
        "colab": {
          "base_uri": "https://localhost:8080/"
        },
        "id": "iKVF5gf-XAGY",
        "outputId": "7591929e-125d-4472-edea-6ccdb04872de"
      },
      "execution_count": null,
      "outputs": [
        {
          "output_type": "stream",
          "name": "stdout",
          "text": [
            "{'bananna', 'apple'}\n"
          ]
        }
      ]
    },
    {
      "cell_type": "markdown",
      "source": [
        "### Access set items"
      ],
      "metadata": {
        "id": "5IT99cfwZPKH"
      }
    },
    {
      "cell_type": "code",
      "source": [
        "# cannot access set items by index but can loop using for loop\n",
        "myset = {'apple', 'bananna', 'cherry'}\n",
        "\n",
        "for x in myset:\n",
        "  print(x)"
      ],
      "metadata": {
        "colab": {
          "base_uri": "https://localhost:8080/"
        },
        "id": "skP4hHLGZEd3",
        "outputId": "51ce275a-63cc-4e0a-9067-2bf1b93c1e20"
      },
      "execution_count": null,
      "outputs": [
        {
          "output_type": "stream",
          "name": "stdout",
          "text": [
            "bananna\n",
            "apple\n",
            "cherry\n"
          ]
        }
      ]
    },
    {
      "cell_type": "code",
      "source": [
        "# check if bananna present\n",
        "print('bananna' in myset)"
      ],
      "metadata": {
        "colab": {
          "base_uri": "https://localhost:8080/"
        },
        "id": "-TST8JZSZj2L",
        "outputId": "5f655446-78d9-4458-f265-c20334861c55"
      },
      "execution_count": null,
      "outputs": [
        {
          "output_type": "stream",
          "name": "stdout",
          "text": [
            "True\n"
          ]
        }
      ]
    },
    {
      "cell_type": "code",
      "source": [
        "print('bananna' not in myset)"
      ],
      "metadata": {
        "colab": {
          "base_uri": "https://localhost:8080/"
        },
        "id": "hQMBzCEQZtFQ",
        "outputId": "e9de92a3-ab01-4f69-88c7-6da250e9b2ab"
      },
      "execution_count": null,
      "outputs": [
        {
          "output_type": "stream",
          "name": "stdout",
          "text": [
            "False\n"
          ]
        }
      ]
    },
    {
      "cell_type": "markdown",
      "source": [
        "### Adding set items"
      ],
      "metadata": {
        "id": "YnRmwvfjZ5bU"
      }
    },
    {
      "cell_type": "code",
      "source": [
        "# to add items to a set use add method\n",
        "set1 = {'apple', 'bananna', 'cherry'}\n",
        "print(set1)\n",
        "set1.add(\"orange\")\n",
        "print(set1)"
      ],
      "metadata": {
        "colab": {
          "base_uri": "https://localhost:8080/"
        },
        "id": "Bjk34nb-Z0Hi",
        "outputId": "7b82c2c5-575b-4fff-d8a8-eac58ca94b4e"
      },
      "execution_count": null,
      "outputs": [
        {
          "output_type": "stream",
          "name": "stdout",
          "text": [
            "{'bananna', 'apple', 'cherry'}\n",
            "{'bananna', 'orange', 'apple', 'cherry'}\n"
          ]
        }
      ]
    },
    {
      "cell_type": "code",
      "source": [
        "# add two sets\n",
        "set2 = {'mango', 'guva'}\n",
        "set1.update(set2)\n",
        "print(set1)"
      ],
      "metadata": {
        "colab": {
          "base_uri": "https://localhost:8080/"
        },
        "id": "Y_cHNsE7aJ5_",
        "outputId": "3cc0cc64-6118-47a6-e6c3-aa7ca98575d0"
      },
      "execution_count": null,
      "outputs": [
        {
          "output_type": "stream",
          "name": "stdout",
          "text": [
            "{'mango', 'apple', 'cherry', 'bananna', 'guva', 'orange'}\n"
          ]
        }
      ]
    },
    {
      "cell_type": "code",
      "source": [
        "# add elemets of the list to a set\n",
        "lst = ['bat', 'cat', 'rat' ]\n",
        "set1.update(lst)\n",
        "print(set1)"
      ],
      "metadata": {
        "colab": {
          "base_uri": "https://localhost:8080/"
        },
        "id": "h1-VJC2Tam1G",
        "outputId": "92bae23f-38d2-4496-eea7-cc33b7de57bb"
      },
      "execution_count": null,
      "outputs": [
        {
          "output_type": "stream",
          "name": "stdout",
          "text": [
            "{'mango', 'apple', 'bananna', 'guva', 'orange', 'cat', 'cherry', 'bat', 'rat'}\n"
          ]
        }
      ]
    },
    {
      "cell_type": "markdown",
      "source": [
        "### Remove items from set"
      ],
      "metadata": {
        "id": "RqvidxjDbEfa"
      }
    },
    {
      "cell_type": "code",
      "source": [
        "# remove items using remove\n",
        "set1 = {\"apple\", \"banana\", \"cherry\"}\n",
        "set1.remove('banana') # if item to remove does not exits it raise error\n",
        "print(set1)"
      ],
      "metadata": {
        "colab": {
          "base_uri": "https://localhost:8080/"
        },
        "id": "Z23504xXa-j3",
        "outputId": "c52d70b5-c3e9-4212-9828-cc9e7347077d"
      },
      "execution_count": null,
      "outputs": [
        {
          "output_type": "stream",
          "name": "stdout",
          "text": [
            "{'apple', 'cherry'}\n"
          ]
        }
      ]
    },
    {
      "cell_type": "code",
      "source": [
        "# remove items using discard\n",
        "set1 = {\"apple\", \"banana\", \"cherry\"}\n",
        "set1.discard('banana') # if item to remove does not exits discard does not raise error\n",
        "print(set1)"
      ],
      "metadata": {
        "colab": {
          "base_uri": "https://localhost:8080/"
        },
        "id": "6dkphcaobSAZ",
        "outputId": "03671172-a4b4-42eb-eef2-14b35baf006a"
      },
      "execution_count": null,
      "outputs": [
        {
          "output_type": "stream",
          "name": "stdout",
          "text": [
            "{'apple', 'cherry'}\n"
          ]
        }
      ]
    },
    {
      "cell_type": "code",
      "source": [
        "# remove a random item\n",
        "set1 = {\"apple\", \"banana\", \"cherry\"}\n",
        "set1.pop() # dont know which item gets removed / random item removed\n",
        "print(set1)"
      ],
      "metadata": {
        "colab": {
          "base_uri": "https://localhost:8080/"
        },
        "id": "WxXXTNehbe5a",
        "outputId": "51e3b64a-3a15-4063-9c5e-6f4ce82fe274"
      },
      "execution_count": null,
      "outputs": [
        {
          "output_type": "stream",
          "name": "stdout",
          "text": [
            "{'apple', 'cherry'}\n"
          ]
        }
      ]
    },
    {
      "cell_type": "code",
      "source": [
        "#  clear set\n",
        "set1 = {\"apple\", \"banana\", \"cherry\"}\n",
        "set1.clear()\n",
        "print(set1)"
      ],
      "metadata": {
        "colab": {
          "base_uri": "https://localhost:8080/"
        },
        "id": "NFGMnC9Mb-2r",
        "outputId": "208ec8ac-db28-4146-d190-f17d41a7b35d"
      },
      "execution_count": null,
      "outputs": [
        {
          "output_type": "stream",
          "name": "stdout",
          "text": [
            "set()\n"
          ]
        }
      ]
    },
    {
      "cell_type": "code",
      "source": [
        "# delete the set completely\n",
        "del set1\n",
        "print(set1)"
      ],
      "metadata": {
        "colab": {
          "base_uri": "https://localhost:8080/",
          "height": 176
        },
        "id": "S30VW-zIcQ6M",
        "outputId": "e0d55a7e-171c-4afa-cc7a-9fdd5d157b55"
      },
      "execution_count": null,
      "outputs": [
        {
          "output_type": "error",
          "ename": "NameError",
          "evalue": "name 'set1' is not defined",
          "traceback": [
            "\u001b[0;31m---------------------------------------------------------------------------\u001b[0m",
            "\u001b[0;31mNameError\u001b[0m                                 Traceback (most recent call last)",
            "\u001b[0;32m<ipython-input-237-86fcce3ed9dd>\u001b[0m in \u001b[0;36m<cell line: 2>\u001b[0;34m()\u001b[0m\n\u001b[1;32m      1\u001b[0m \u001b[0;31m# delete the set completely\u001b[0m\u001b[0;34m\u001b[0m\u001b[0;34m\u001b[0m\u001b[0m\n\u001b[0;32m----> 2\u001b[0;31m \u001b[0;32mdel\u001b[0m \u001b[0mset1\u001b[0m\u001b[0;34m\u001b[0m\u001b[0;34m\u001b[0m\u001b[0m\n\u001b[0m\u001b[1;32m      3\u001b[0m \u001b[0mprint\u001b[0m\u001b[0;34m(\u001b[0m\u001b[0mset1\u001b[0m\u001b[0;34m)\u001b[0m\u001b[0;34m\u001b[0m\u001b[0;34m\u001b[0m\u001b[0m\n",
            "\u001b[0;31mNameError\u001b[0m: name 'set1' is not defined"
          ]
        }
      ]
    },
    {
      "cell_type": "markdown",
      "source": [
        "### Loop Sets"
      ],
      "metadata": {
        "id": "HM1yw3g0cjbG"
      }
    },
    {
      "cell_type": "code",
      "source": [
        "# looping through the set items\n",
        "set1 = {\"apple\", \"banana\", \"cherry\"}\n",
        "\n",
        "for x in set1:\n",
        "  print(x)"
      ],
      "metadata": {
        "colab": {
          "base_uri": "https://localhost:8080/"
        },
        "id": "5rApfkuNcYmv",
        "outputId": "368ed2e2-0e2e-46fb-9529-2ad5dc864c78"
      },
      "execution_count": null,
      "outputs": [
        {
          "output_type": "stream",
          "name": "stdout",
          "text": [
            "banana\n",
            "apple\n",
            "cherry\n"
          ]
        }
      ]
    },
    {
      "cell_type": "markdown",
      "source": [
        "### Join sets"
      ],
      "metadata": {
        "id": "3NqVm5Lac2lU"
      }
    },
    {
      "cell_type": "code",
      "source": [
        "# Joining sets\n",
        "# The union() and update() methods joins all items from both sets.\n",
        "# The intersection() method keeps ONLY the duplicates.\n",
        "# The difference() method keeps the items from the first set that are not in the other set(s).\n",
        "# The symmetric_difference() method keeps all items EXCEPT the duplicates."
      ],
      "metadata": {
        "id": "RVftCa7PczaV"
      },
      "execution_count": null,
      "outputs": []
    },
    {
      "cell_type": "markdown",
      "source": [
        "#### UNION"
      ],
      "metadata": {
        "id": "fdFU-sBgftxm"
      }
    },
    {
      "cell_type": "code",
      "source": [
        "# UNION\n",
        "set1 = {'a', 'b', 'c', 'd'}\n",
        "set2 = {1, 2, 3, 4}\n",
        "set3 = set1.union(set2)\n",
        "print(set3)"
      ],
      "metadata": {
        "colab": {
          "base_uri": "https://localhost:8080/"
        },
        "id": "DOOCHOZIdnDh",
        "outputId": "2b61a997-ac88-474a-e7ef-00d924464cfb"
      },
      "execution_count": null,
      "outputs": [
        {
          "output_type": "stream",
          "name": "stdout",
          "text": [
            "{1, 'a', 2, 3, 4, 'c', 'd', 'b'}\n"
          ]
        }
      ]
    },
    {
      "cell_type": "code",
      "source": [
        "# using the | operator gives the same result as union but can join only sets with sets\n",
        "set3 = set1 | set2\n",
        "print(set3)"
      ],
      "metadata": {
        "colab": {
          "base_uri": "https://localhost:8080/"
        },
        "id": "J64w5N1-dvxd",
        "outputId": "0581b57c-bb3a-446c-a6bf-c3fc89ac3021"
      },
      "execution_count": null,
      "outputs": [
        {
          "output_type": "stream",
          "name": "stdout",
          "text": [
            "{1, 'a', 2, 3, 4, 'c', 'd', 'b'}\n"
          ]
        }
      ]
    },
    {
      "cell_type": "code",
      "source": [
        "# Joining multiple sets\n",
        "set1 = {\"a\", \"b\", \"c\"}\n",
        "set2 = {1, 2, 3}\n",
        "set3 = {\"John\", \"Elena\"}\n",
        "set4 = {\"apple\", \"bananas\", \"cherry\"}\n",
        "\n",
        "set5 = set1.union(set2, set3, set4)\n",
        "print(set5)"
      ],
      "metadata": {
        "colab": {
          "base_uri": "https://localhost:8080/"
        },
        "id": "-or5nrkNd86r",
        "outputId": "49882bfc-e0c4-40de-9e2e-06411ade365a"
      },
      "execution_count": null,
      "outputs": [
        {
          "output_type": "stream",
          "name": "stdout",
          "text": [
            "{1, 'a', 2, 3, 'cherry', 'c', 'John', 'b', 'apple', 'Elena', 'bananas'}\n"
          ]
        }
      ]
    },
    {
      "cell_type": "code",
      "source": [
        "# joining multiple sets uisng | operator\n",
        "set5 = set1 | set2 | set3 | set4\n",
        "print(set5)"
      ],
      "metadata": {
        "colab": {
          "base_uri": "https://localhost:8080/"
        },
        "id": "aBhKZM_xeQNx",
        "outputId": "32ecfaa7-acd1-46bb-c5dc-0cece2a75fc4"
      },
      "execution_count": null,
      "outputs": [
        {
          "output_type": "stream",
          "name": "stdout",
          "text": [
            "{1, 'a', 2, 3, 'cherry', 'c', 'John', 'b', 'apple', 'Elena', 'bananas'}\n"
          ]
        }
      ]
    },
    {
      "cell_type": "code",
      "source": [
        "# Join set and a tuple\n",
        "x = {'a', 'b', 'c'}\n",
        "y = (1, 3, 4)\n",
        "z = x.union(y) # joining a set with tuple. Not possible with | operator\n",
        "print(z)"
      ],
      "metadata": {
        "colab": {
          "base_uri": "https://localhost:8080/"
        },
        "id": "QWo2raaDe03Y",
        "outputId": "800ce7f0-601a-4a1a-a9de-986122ffcd61"
      },
      "execution_count": null,
      "outputs": [
        {
          "output_type": "stream",
          "name": "stdout",
          "text": [
            "{1, 'a', 3, 4, 'c', 'b'}\n"
          ]
        }
      ]
    },
    {
      "cell_type": "code",
      "source": [
        "# Update\n",
        "# update changes the original set does not return new set\n",
        "set1 = {\"a\", \"b\" , \"c\"}\n",
        "set2 = {1, 2, 3}\n",
        "\n",
        "set1.update(set2)\n",
        "print(set1)"
      ],
      "metadata": {
        "colab": {
          "base_uri": "https://localhost:8080/"
        },
        "id": "R5076pt-fJad",
        "outputId": "d5f77c80-6010-4fed-c02b-4d7d3bfe61aa"
      },
      "execution_count": null,
      "outputs": [
        {
          "output_type": "stream",
          "name": "stdout",
          "text": [
            "{1, 'a', 'b', 2, 3, 'c'}\n"
          ]
        }
      ]
    },
    {
      "cell_type": "markdown",
      "source": [
        "#### Intersection"
      ],
      "metadata": {
        "id": "cmF5YjeKfzXR"
      }
    },
    {
      "cell_type": "code",
      "source": [
        "# Intersection keeps only duplicates\n",
        "set1 = {\"apple\", \"banana\", \"cherry\"}\n",
        "set2 = {\"google\", \"microsoft\", \"apple\"}\n",
        "\n",
        "set3 = set1.intersection(set2)\n",
        "print(set3)"
      ],
      "metadata": {
        "colab": {
          "base_uri": "https://localhost:8080/"
        },
        "id": "ANjWt3TZfla9",
        "outputId": "db882b7a-6bc7-4ad4-eb59-723bef4d697f"
      },
      "execution_count": null,
      "outputs": [
        {
          "output_type": "stream",
          "name": "stdout",
          "text": [
            "{'apple'}\n"
          ]
        }
      ]
    },
    {
      "cell_type": "code",
      "source": [
        "# using & operatior instead of intersection gives same result\n",
        "set3 = set1 & set2 # allows only to join sets with sets\n",
        "print(set3)"
      ],
      "metadata": {
        "colab": {
          "base_uri": "https://localhost:8080/"
        },
        "id": "woRLhl3ngEmk",
        "outputId": "f00c8b4d-7eba-46c2-d7a0-f0aea6020e67"
      },
      "execution_count": null,
      "outputs": [
        {
          "output_type": "stream",
          "name": "stdout",
          "text": [
            "{'apple'}\n"
          ]
        }
      ]
    },
    {
      "cell_type": "code",
      "source": [
        "# intersection_update keeps only duplicates but does not return new, changes the existing one\n",
        "set1.intersection_update(set2)\n",
        "print(set1)"
      ],
      "metadata": {
        "colab": {
          "base_uri": "https://localhost:8080/"
        },
        "id": "5PebfVR7gQDx",
        "outputId": "93239ec3-3bdc-46a4-d5f6-f19f5fc455a9"
      },
      "execution_count": null,
      "outputs": [
        {
          "output_type": "stream",
          "name": "stdout",
          "text": [
            "{'apple'}\n"
          ]
        }
      ]
    },
    {
      "cell_type": "code",
      "source": [
        "#Join sets that contains the values True, False, 1, and 0, and see what is considered as duplicates:\n",
        "set1 = {\"apple\", 1,  \"banana\", 0, \"cherry\"}\n",
        "set2 = {False, \"google\", 1, \"apple\", 2, True}\n",
        "\n",
        "set3 = set1.intersection(set2)\n",
        "print(set3)"
      ],
      "metadata": {
        "colab": {
          "base_uri": "https://localhost:8080/"
        },
        "id": "ml352g04gnhh",
        "outputId": "7f05f82d-b5ff-4f91-a6be-100516e11c60"
      },
      "execution_count": null,
      "outputs": [
        {
          "output_type": "stream",
          "name": "stdout",
          "text": [
            "{False, 1, 'apple'}\n"
          ]
        }
      ]
    },
    {
      "cell_type": "markdown",
      "source": [
        "#### Difference"
      ],
      "metadata": {
        "id": "9s516acJg_SO"
      }
    },
    {
      "cell_type": "code",
      "source": [
        "# Difference keeps all items from set1 that are not in set2\n",
        "set1 = {\"apple\", \"banana\", \"cherry\"}\n",
        "set2 = {\"google\", \"microsoft\", \"apple\"}\n",
        "\n",
        "set3 = set1.difference(set2)\n",
        "print(set3)"
      ],
      "metadata": {
        "colab": {
          "base_uri": "https://localhost:8080/"
        },
        "id": "Cv6r68B2g0IA",
        "outputId": "f9ef31dc-6e52-4c4b-d0b3-10c1a78c2526"
      },
      "execution_count": null,
      "outputs": [
        {
          "output_type": "stream",
          "name": "stdout",
          "text": [
            "{'banana', 'cherry'}\n"
          ]
        }
      ]
    },
    {
      "cell_type": "code",
      "source": [
        "# can use - operator instead of difference\n",
        "set3 = set1 - set2 # can only join sets with sets not with other\n",
        "print(set3)"
      ],
      "metadata": {
        "colab": {
          "base_uri": "https://localhost:8080/"
        },
        "id": "8cq7Z2V4hwjB",
        "outputId": "84b88c8a-5eda-4858-9e7e-eec83b5027ac"
      },
      "execution_count": null,
      "outputs": [
        {
          "output_type": "stream",
          "name": "stdout",
          "text": [
            "{'banana', 'cherry'}\n"
          ]
        }
      ]
    },
    {
      "cell_type": "code",
      "source": [
        "# difference_update keeps all that are not in both sets\n",
        "set1.difference_update(set2)\n",
        "print(set1)"
      ],
      "metadata": {
        "colab": {
          "base_uri": "https://localhost:8080/"
        },
        "id": "NeGbMq_NiNoT",
        "outputId": "5b7005e8-5a08-4962-e8c0-a466df3cd5a5"
      },
      "execution_count": null,
      "outputs": [
        {
          "output_type": "stream",
          "name": "stdout",
          "text": [
            "{'banana', 'cherry'}\n"
          ]
        }
      ]
    },
    {
      "cell_type": "markdown",
      "source": [
        "#### Symmetiric difference"
      ],
      "metadata": {
        "id": "7AeRA7ISjAKf"
      }
    },
    {
      "cell_type": "code",
      "source": [
        "# keeps the items that are not present in both\n",
        "set1 = {\"apple\", \"banana\", \"cherry\"}\n",
        "set2 = {\"google\", \"microsoft\", \"apple\"}\n",
        "\n",
        "set3 = set1.symmetric_difference(set2)\n",
        "print(set3)"
      ],
      "metadata": {
        "colab": {
          "base_uri": "https://localhost:8080/"
        },
        "id": "6fC4TBPqixm-",
        "outputId": "85276c91-f342-438d-ee91-8f0c9c172808"
      },
      "execution_count": null,
      "outputs": [
        {
          "output_type": "stream",
          "name": "stdout",
          "text": [
            "{'banana', 'cherry', 'microsoft', 'google'}\n"
          ]
        }
      ]
    },
    {
      "cell_type": "code",
      "source": [
        "# Can use ^ to join symmetirc_difference\n",
        "set3 = set1 ^ set2 # allows to join only sets with sets\n",
        "print(set3)"
      ],
      "metadata": {
        "colab": {
          "base_uri": "https://localhost:8080/"
        },
        "id": "jzgnnHvqjdSc",
        "outputId": "ceca91c7-63ff-492a-cc4f-82ad266118af"
      },
      "execution_count": null,
      "outputs": [
        {
          "output_type": "stream",
          "name": "stdout",
          "text": [
            "{'banana', 'cherry', 'microsoft', 'google'}\n"
          ]
        }
      ]
    },
    {
      "cell_type": "code",
      "source": [
        "# symmetric_difference_update keeps the items not presentn in both sets but not return as new\n",
        "set1 = {\"apple\", \"banana\", \"cherry\"}\n",
        "set2 = {\"google\", \"microsoft\", \"apple\"}\n",
        "\n",
        "set1.symmetric_difference_update(set2)\n",
        "print(set1)"
      ],
      "metadata": {
        "colab": {
          "base_uri": "https://localhost:8080/"
        },
        "id": "nYCW9oJkjv1L",
        "outputId": "c107b198-94b0-44b4-839a-3f467f9362d3"
      },
      "execution_count": null,
      "outputs": [
        {
          "output_type": "stream",
          "name": "stdout",
          "text": [
            "{'banana', 'cherry', 'microsoft', 'google'}\n"
          ]
        }
      ]
    },
    {
      "cell_type": "markdown",
      "source": [
        "## Python Dictionaries"
      ],
      "metadata": {
        "id": "R_xFJmvFklwC"
      }
    },
    {
      "cell_type": "code",
      "source": [
        "# dictionaries are used to store data in key : value pairs\n",
        "# dictionaries are changable, we can add, remove, delete items\n",
        "# duplicates of key values not allowed\n",
        "dict1 = {\n",
        "    \"brand\": \"Ford\",\n",
        "    \"model\": \"Mustang\",\n",
        "    \"year\": 1964\n",
        "}\n",
        "print(dict1)"
      ],
      "metadata": {
        "colab": {
          "base_uri": "https://localhost:8080/"
        },
        "id": "PltbmjNRkDnc",
        "outputId": "0cea31a4-5d92-4311-8c51-0eadcdbf7949"
      },
      "execution_count": null,
      "outputs": [
        {
          "output_type": "stream",
          "name": "stdout",
          "text": [
            "{'brand': 'Ford', 'model': 'Mustang', 'year': 1964}\n"
          ]
        }
      ]
    },
    {
      "cell_type": "code",
      "source": [
        "# print brand of dict1\n",
        "print(dict1['brand'])"
      ],
      "metadata": {
        "colab": {
          "base_uri": "https://localhost:8080/"
        },
        "id": "wjrxK7DKlK7p",
        "outputId": "7fcbce06-a703-4e37-8e71-b6dbe183b0dc"
      },
      "execution_count": null,
      "outputs": [
        {
          "output_type": "stream",
          "name": "stdout",
          "text": [
            "Ford\n"
          ]
        }
      ]
    },
    {
      "cell_type": "code",
      "source": [
        "# dict length\n",
        "print(len(dict1))\n",
        "print(type(dict1))"
      ],
      "metadata": {
        "colab": {
          "base_uri": "https://localhost:8080/"
        },
        "id": "ulpeWogolSrj",
        "outputId": "218c5ac3-32ae-493b-8fc3-9330707d54cb"
      },
      "execution_count": null,
      "outputs": [
        {
          "output_type": "stream",
          "name": "stdout",
          "text": [
            "3\n",
            "<class 'dict'>\n"
          ]
        }
      ]
    },
    {
      "cell_type": "code",
      "source": [
        "# dict constructor\n",
        "dict1 = dict(name='Jhon', age=54, town='vizag')\n",
        "print(dict1)"
      ],
      "metadata": {
        "colab": {
          "base_uri": "https://localhost:8080/"
        },
        "id": "2MGKec0BmPjg",
        "outputId": "e2102adb-f4c6-4e11-a514-4c7c329dcee3"
      },
      "execution_count": null,
      "outputs": [
        {
          "output_type": "stream",
          "name": "stdout",
          "text": [
            "{'name': 'Jhon', 'age': 54, 'town': 'vizag'}\n"
          ]
        }
      ]
    },
    {
      "cell_type": "markdown",
      "source": [
        "### Access Items"
      ],
      "metadata": {
        "id": "17qBfsJ1nxhx"
      }
    },
    {
      "cell_type": "code",
      "source": [
        "# accessing items form dict\n",
        "dict1 = {\n",
        "  \"brand\": \"Ford\",\n",
        "  \"model\": \"Mustang\",\n",
        "  \"year\": 1964\n",
        "}\n",
        "#get the value of model key\n",
        "print(dict1['model'])"
      ],
      "metadata": {
        "colab": {
          "base_uri": "https://localhost:8080/"
        },
        "id": "HwzTA1Iqmkxo",
        "outputId": "fb9f9085-791b-4ab0-e30b-bac32bee294e"
      },
      "execution_count": null,
      "outputs": [
        {
          "output_type": "stream",
          "name": "stdout",
          "text": [
            "Mustang\n"
          ]
        }
      ]
    },
    {
      "cell_type": "code",
      "source": [
        "# other way to get value of a key using get()\n",
        "print(dict1.get('model'))"
      ],
      "metadata": {
        "colab": {
          "base_uri": "https://localhost:8080/"
        },
        "id": "Jv7AX6VsrjMs",
        "outputId": "7640dc6f-1190-496f-b36c-b2dd61509c3f"
      },
      "execution_count": null,
      "outputs": [
        {
          "output_type": "stream",
          "name": "stdout",
          "text": [
            "Mustang\n"
          ]
        }
      ]
    },
    {
      "cell_type": "code",
      "source": [
        "# get keys - gives list of all keys\n",
        "x = dict1.keys()\n",
        "print(x)"
      ],
      "metadata": {
        "colab": {
          "base_uri": "https://localhost:8080/"
        },
        "id": "e3ZF9SphrtBY",
        "outputId": "055fb55d-7c2c-4dd5-d623-98f96799bfe2"
      },
      "execution_count": null,
      "outputs": [
        {
          "output_type": "stream",
          "name": "stdout",
          "text": [
            "dict_keys(['brand', 'model', 'year'])\n"
          ]
        }
      ]
    },
    {
      "cell_type": "code",
      "source": [
        "dict1['color'] = \"white\"\n",
        "print(dict1)"
      ],
      "metadata": {
        "colab": {
          "base_uri": "https://localhost:8080/"
        },
        "id": "FQVEqHCcr4QU",
        "outputId": "f8bc7d8c-31ca-4c3e-b677-9e292e6cdd85"
      },
      "execution_count": null,
      "outputs": [
        {
          "output_type": "stream",
          "name": "stdout",
          "text": [
            "{'brand': 'Ford', 'model': 'Mustang', 'year': 1964, 'color': 'white'}\n"
          ]
        }
      ]
    },
    {
      "cell_type": "code",
      "source": [
        "# get values as a list\n",
        "x = dict1.values()\n",
        "print(x)"
      ],
      "metadata": {
        "colab": {
          "base_uri": "https://localhost:8080/"
        },
        "id": "P8nB0f5ksPiK",
        "outputId": "bea92cd3-6c72-4d44-9ebe-24abe58cff47"
      },
      "execution_count": null,
      "outputs": [
        {
          "output_type": "stream",
          "name": "stdout",
          "text": [
            "dict_values(['Ford', 'Mustang', 1964, 'white'])\n"
          ]
        }
      ]
    },
    {
      "cell_type": "code",
      "source": [
        "# Get items gives each item in as a tuple in a list\n",
        "x = dict1.items();\n",
        "print(x)"
      ],
      "metadata": {
        "colab": {
          "base_uri": "https://localhost:8080/"
        },
        "id": "gtqBzfuTsaWj",
        "outputId": "1ee02b4e-70bb-4a64-e8aa-3b2f458523d7"
      },
      "execution_count": null,
      "outputs": [
        {
          "output_type": "stream",
          "name": "stdout",
          "text": [
            "dict_items([('brand', 'Ford'), ('model', 'Mustang'), ('year', 1964), ('color', 'white')])\n"
          ]
        }
      ]
    },
    {
      "cell_type": "code",
      "source": [
        "# check if key exists\n",
        "print(\"model\" in dict1)"
      ],
      "metadata": {
        "colab": {
          "base_uri": "https://localhost:8080/"
        },
        "id": "PlPrfyG-svl7",
        "outputId": "15f6fc25-c712-4e4d-8ec1-6bb6e1e9e273"
      },
      "execution_count": null,
      "outputs": [
        {
          "output_type": "stream",
          "name": "stdout",
          "text": [
            "True\n"
          ]
        }
      ]
    },
    {
      "cell_type": "markdown",
      "source": [
        "### Change Items"
      ],
      "metadata": {
        "id": "ppn09c6Otzhu"
      }
    },
    {
      "cell_type": "code",
      "source": [
        "# changing items of dict\n",
        "car = {\n",
        "  \"brand\": \"Ford\",\n",
        "  \"model\": \"Mustang\",\n",
        "  \"year\": 1964\n",
        "}\n",
        "print(car[\"year\"])"
      ],
      "metadata": {
        "colab": {
          "base_uri": "https://localhost:8080/"
        },
        "id": "GU-p4p62tqxu",
        "outputId": "b0ea4a8d-42a9-4da1-a113-8e49105ba46c"
      },
      "execution_count": null,
      "outputs": [
        {
          "output_type": "stream",
          "name": "stdout",
          "text": [
            "1964\n"
          ]
        }
      ]
    },
    {
      "cell_type": "code",
      "source": [
        "# Update dict\n",
        "# can change with referring to the key\n",
        "car.update({\"year\": 2000})\n",
        "print(car)"
      ],
      "metadata": {
        "colab": {
          "base_uri": "https://localhost:8080/"
        },
        "id": "tvds7j2MuBMm",
        "outputId": "4b6d4117-b996-4394-eb93-84b733c077d4"
      },
      "execution_count": null,
      "outputs": [
        {
          "output_type": "stream",
          "name": "stdout",
          "text": [
            "{'brand': 'Ford', 'model': 'Mustang', 'year': 2000}\n"
          ]
        }
      ]
    },
    {
      "cell_type": "markdown",
      "source": [
        "### Add items"
      ],
      "metadata": {
        "id": "RKYIf-fjuf9x"
      }
    },
    {
      "cell_type": "code",
      "source": [
        "# add items using update\n",
        "car['color'] = 'white'\n",
        "print(car)"
      ],
      "metadata": {
        "colab": {
          "base_uri": "https://localhost:8080/"
        },
        "id": "ssh44mC5uNIw",
        "outputId": "03c903c4-05b0-48d1-89ff-f99098421992"
      },
      "execution_count": null,
      "outputs": [
        {
          "output_type": "stream",
          "name": "stdout",
          "text": [
            "{'brand': 'Ford', 'model': 'Mustang', 'year': 2000, 'color': 'white'}\n"
          ]
        }
      ]
    },
    {
      "cell_type": "code",
      "source": [
        "# using update\n",
        "car = {\n",
        "  \"brand\": \"Ford\",\n",
        "  \"model\": \"Mustang\",\n",
        "  \"year\": 1964\n",
        "}\n",
        "car.update({\"color\":\"Yellow\"})\n",
        "print(car)"
      ],
      "metadata": {
        "colab": {
          "base_uri": "https://localhost:8080/"
        },
        "id": "k0BpN91Quoho",
        "outputId": "bfee6ec3-8250-41ed-98a3-d29a3f3287b9"
      },
      "execution_count": null,
      "outputs": [
        {
          "output_type": "stream",
          "name": "stdout",
          "text": [
            "{'brand': 'Ford', 'model': 'Mustang', 'year': 1964, 'color': 'Yellow'}\n"
          ]
        }
      ]
    },
    {
      "cell_type": "markdown",
      "source": [
        "### Remove Items"
      ],
      "metadata": {
        "id": "FkckBax_u8LA"
      }
    },
    {
      "cell_type": "code",
      "source": [
        "# Pop used to remove item with specified key\n",
        "car = {\n",
        "  \"brand\": \"Ford\",\n",
        "  \"model\": \"Mustang\",\n",
        "  \"year\": 1964\n",
        "}\n",
        "\n",
        "car.pop(\"model\")\n",
        "print(car)"
      ],
      "metadata": {
        "colab": {
          "base_uri": "https://localhost:8080/"
        },
        "id": "ZCcP4kWRu3WR",
        "outputId": "2204c8c0-9f1f-4dfd-a888-a3c78f1c249a"
      },
      "execution_count": null,
      "outputs": [
        {
          "output_type": "stream",
          "name": "stdout",
          "text": [
            "{'brand': 'Ford', 'year': 1964}\n"
          ]
        }
      ]
    },
    {
      "cell_type": "code",
      "source": [
        "# popitem used to remove last inserted item\n",
        "car['color'] = 'red'\n",
        "print(car)\n",
        "car.popitem()\n",
        "print(car)\n"
      ],
      "metadata": {
        "colab": {
          "base_uri": "https://localhost:8080/"
        },
        "id": "lbyZb60dvMht",
        "outputId": "0fc5e352-bda0-4f1b-d942-348c4a0bc9b2"
      },
      "execution_count": null,
      "outputs": [
        {
          "output_type": "stream",
          "name": "stdout",
          "text": [
            "{'brand': 'Ford', 'year': 1964, 'color': 'red'}\n",
            "{'brand': 'Ford', 'year': 1964}\n"
          ]
        }
      ]
    },
    {
      "cell_type": "code",
      "source": [
        "# del key word removes specified one\n",
        "del car[\"year\"]\n",
        "print(car)"
      ],
      "metadata": {
        "colab": {
          "base_uri": "https://localhost:8080/"
        },
        "id": "dbiuimeWvbXw",
        "outputId": "57c62065-c77b-462e-9332-567588075bd5"
      },
      "execution_count": null,
      "outputs": [
        {
          "output_type": "stream",
          "name": "stdout",
          "text": [
            "{'brand': 'Ford'}\n"
          ]
        }
      ]
    },
    {
      "cell_type": "code",
      "source": [
        "# clear method empties dict\n",
        "car.clear();\n",
        "print(car)"
      ],
      "metadata": {
        "colab": {
          "base_uri": "https://localhost:8080/"
        },
        "id": "LPPoJCLZv_o0",
        "outputId": "10d7955d-ce38-4661-d1b3-dfb9f4f58c69"
      },
      "execution_count": null,
      "outputs": [
        {
          "output_type": "stream",
          "name": "stdout",
          "text": [
            "{}\n"
          ]
        }
      ]
    },
    {
      "cell_type": "code",
      "source": [
        "# del dict completely\n",
        "del car\n",
        "print(car)"
      ],
      "metadata": {
        "colab": {
          "base_uri": "https://localhost:8080/",
          "height": 176
        },
        "id": "iEGkIOX2wV0C",
        "outputId": "465ad08a-b386-4af5-84ea-049e2f9acc5f"
      },
      "execution_count": null,
      "outputs": [
        {
          "output_type": "error",
          "ename": "NameError",
          "evalue": "name 'car' is not defined",
          "traceback": [
            "\u001b[0;31m---------------------------------------------------------------------------\u001b[0m",
            "\u001b[0;31mNameError\u001b[0m                                 Traceback (most recent call last)",
            "\u001b[0;32m<ipython-input-302-1f96119b9b93>\u001b[0m in \u001b[0;36m<cell line: 2>\u001b[0;34m()\u001b[0m\n\u001b[1;32m      1\u001b[0m \u001b[0;31m# del dict completely\u001b[0m\u001b[0;34m\u001b[0m\u001b[0;34m\u001b[0m\u001b[0m\n\u001b[0;32m----> 2\u001b[0;31m \u001b[0;32mdel\u001b[0m \u001b[0mcar\u001b[0m\u001b[0;34m\u001b[0m\u001b[0;34m\u001b[0m\u001b[0m\n\u001b[0m\u001b[1;32m      3\u001b[0m \u001b[0mprint\u001b[0m\u001b[0;34m(\u001b[0m\u001b[0mcar\u001b[0m\u001b[0;34m)\u001b[0m\u001b[0;34m\u001b[0m\u001b[0;34m\u001b[0m\u001b[0m\n",
            "\u001b[0;31mNameError\u001b[0m: name 'car' is not defined"
          ]
        }
      ]
    },
    {
      "cell_type": "markdown",
      "source": [
        "### Loop Dictionaries"
      ],
      "metadata": {
        "id": "-s5xv6Ciwgd8"
      }
    },
    {
      "cell_type": "code",
      "source": [
        "# Looping through a dict using for loop\n",
        "car =\t{\n",
        "  \"brand\": \"Ford\",\n",
        "  \"model\": \"Mustang\",\n",
        "  \"year\": 1964,\n",
        "  \"color\": \"White\"\n",
        "}"
      ],
      "metadata": {
        "id": "a_cUbJ-rwZLl"
      },
      "execution_count": null,
      "outputs": []
    },
    {
      "cell_type": "code",
      "source": [
        "# print all key names in dict\n",
        "for x in car:\n",
        "  print(x)"
      ],
      "metadata": {
        "colab": {
          "base_uri": "https://localhost:8080/"
        },
        "id": "mHF9EbywxCQy",
        "outputId": "1029bbfd-8c1b-42dc-bb02-5f5325f4317f"
      },
      "execution_count": null,
      "outputs": [
        {
          "output_type": "stream",
          "name": "stdout",
          "text": [
            "brand\n",
            "model\n",
            "year\n"
          ]
        }
      ]
    },
    {
      "cell_type": "code",
      "source": [
        "for x in car.keys():\n",
        "  print(x)"
      ],
      "metadata": {
        "colab": {
          "base_uri": "https://localhost:8080/"
        },
        "id": "A3Fyuno_xcag",
        "outputId": "4265c00a-106f-4cd2-9314-d078c5aefacd"
      },
      "execution_count": null,
      "outputs": [
        {
          "output_type": "stream",
          "name": "stdout",
          "text": [
            "brand\n",
            "model\n",
            "year\n"
          ]
        }
      ]
    },
    {
      "cell_type": "code",
      "source": [
        "# print all values in dict\n",
        "for x in car:\n",
        "  print(car[x])"
      ],
      "metadata": {
        "colab": {
          "base_uri": "https://localhost:8080/"
        },
        "id": "y5PjT8u5xPI2",
        "outputId": "19d2fbc1-0c7d-4be9-9bd3-2d900fdeee09"
      },
      "execution_count": null,
      "outputs": [
        {
          "output_type": "stream",
          "name": "stdout",
          "text": [
            "Ford\n",
            "Mustang\n",
            "1964\n"
          ]
        }
      ]
    },
    {
      "cell_type": "code",
      "source": [
        "for x in car.values():\n",
        "  print(x)"
      ],
      "metadata": {
        "colab": {
          "base_uri": "https://localhost:8080/"
        },
        "id": "VUuzr5oXxW-e",
        "outputId": "6a8a4025-1474-42c1-9241-89f8fac647f4"
      },
      "execution_count": null,
      "outputs": [
        {
          "output_type": "stream",
          "name": "stdout",
          "text": [
            "Ford\n",
            "Mustang\n",
            "1964\n"
          ]
        }
      ]
    },
    {
      "cell_type": "code",
      "source": [
        "# loop through both keys and values using items\n",
        "for x, y in car.items():\n",
        "  print(x, y)"
      ],
      "metadata": {
        "colab": {
          "base_uri": "https://localhost:8080/"
        },
        "id": "-lsPMKHBxmM8",
        "outputId": "babab074-13e5-4022-eb37-41d7145c260a"
      },
      "execution_count": null,
      "outputs": [
        {
          "output_type": "stream",
          "name": "stdout",
          "text": [
            "brand Ford\n",
            "model Mustang\n",
            "year 1964\n"
          ]
        }
      ]
    },
    {
      "cell_type": "markdown",
      "source": [
        "### Copy Dictionaries"
      ],
      "metadata": {
        "id": "axIerRW3x2Kz"
      }
    },
    {
      "cell_type": "code",
      "source": [
        "# Copy of dictionary usig copy method\n",
        "car =\t{\n",
        "  \"brand\": \"Ford\",\n",
        "  \"model\": \"Mustang\",\n",
        "  \"year\": 1964,\n",
        "  \"color\": \"White\"\n",
        "}\n",
        "\n",
        "vehicle = car.copy()\n",
        "print(vehicle)"
      ],
      "metadata": {
        "colab": {
          "base_uri": "https://localhost:8080/"
        },
        "id": "Ash1YOyRxw5U",
        "outputId": "ad8684ff-2dce-45cd-8300-41ca7317de1e"
      },
      "execution_count": null,
      "outputs": [
        {
          "output_type": "stream",
          "name": "stdout",
          "text": [
            "{'brand': 'Ford', 'model': 'Mustang', 'year': 1964, 'color': 'White'}\n"
          ]
        }
      ]
    },
    {
      "cell_type": "code",
      "source": [
        "# another way using dict method\n",
        "vehi = dict(car)\n",
        "print(vehi)"
      ],
      "metadata": {
        "colab": {
          "base_uri": "https://localhost:8080/"
        },
        "id": "Biqo0b3yyTEh",
        "outputId": "57e4f477-201c-433a-f707-486ff201547a"
      },
      "execution_count": null,
      "outputs": [
        {
          "output_type": "stream",
          "name": "stdout",
          "text": [
            "{'brand': 'Ford', 'model': 'Mustang', 'year': 1964, 'color': 'White'}\n"
          ]
        }
      ]
    },
    {
      "cell_type": "markdown",
      "source": [
        "### Nested dictionaries"
      ],
      "metadata": {
        "id": "_F_7tKR1ygOG"
      }
    },
    {
      "cell_type": "code",
      "source": [
        "# Nested dictionary\n",
        "# dict with three dict's\n",
        "myfamily = {\n",
        "  \"child1\" : {\n",
        "    \"name\" : \"Emil\",\n",
        "    \"year\" : 2004\n",
        "  },\n",
        "  \"child2\" : {\n",
        "    \"name\" : \"Tobias\",\n",
        "    \"year\" : 2007\n",
        "  },\n",
        "  \"child3\" : {\n",
        "    \"name\" : \"Linus\",\n",
        "    \"year\" : 2011\n",
        "  }\n",
        "}"
      ],
      "metadata": {
        "id": "ikax7CxByccO"
      },
      "execution_count": null,
      "outputs": []
    },
    {
      "cell_type": "code",
      "source": [
        "# can create a dict to store three dict's\n",
        "child1 = {\n",
        "  \"name\" : \"Emil\",\n",
        "  \"year\" : 2004\n",
        "}\n",
        "child2 = {\n",
        "  \"name\" : \"Tobias\",\n",
        "  \"year\" : 2007\n",
        "}\n",
        "child3 = {\n",
        "  \"name\" : \"Linus\",\n",
        "  \"year\" : 2011\n",
        "}\n",
        "\n",
        "myfamily = {\n",
        "    \"child1\": child1,\n",
        "    \"child2\": child2,\n",
        "    \"child3\": child3\n",
        "}\n",
        "print(myfamily)"
      ],
      "metadata": {
        "colab": {
          "base_uri": "https://localhost:8080/"
        },
        "id": "y4HC6Imgy1M2",
        "outputId": "4ca084a2-635f-4bf5-a77c-c0c3d59aa4a2"
      },
      "execution_count": null,
      "outputs": [
        {
          "output_type": "stream",
          "name": "stdout",
          "text": [
            "{'child1': {'name': 'Emil', 'year': 2004}, 'child2': {'name': 'Tobias', 'year': 2007}, 'child3': {'name': 'Linus', 'year': 2011}}\n"
          ]
        }
      ]
    },
    {
      "cell_type": "code",
      "source": [
        "# Access items in nested dict\n",
        "# print the name of child 2\n",
        "print(myfamily['child2']['name'])"
      ],
      "metadata": {
        "colab": {
          "base_uri": "https://localhost:8080/"
        },
        "id": "u11tPk2BzKg3",
        "outputId": "39361048-145a-4781-c0b9-aeaf3763a572"
      },
      "execution_count": null,
      "outputs": [
        {
          "output_type": "stream",
          "name": "stdout",
          "text": [
            "Tobias\n"
          ]
        }
      ]
    },
    {
      "cell_type": "code",
      "source": [
        "#Loop through nested dict's\n",
        "for x, obj in myfamily.items():\n",
        "  print(x)\n",
        "  for y in obj:\n",
        "    print(y, \" : \", obj[y])"
      ],
      "metadata": {
        "colab": {
          "base_uri": "https://localhost:8080/"
        },
        "id": "AKC4e7xc0E8Z",
        "outputId": "04169553-eef4-4c27-9f0c-5bb4cd602a66"
      },
      "execution_count": null,
      "outputs": [
        {
          "output_type": "stream",
          "name": "stdout",
          "text": [
            "child1\n",
            "name  :  Emil\n",
            "year  :  2004\n",
            "child2\n",
            "name  :  Tobias\n",
            "year  :  2007\n",
            "child3\n",
            "name  :  Linus\n",
            "year  :  2011\n"
          ]
        }
      ]
    },
    {
      "cell_type": "markdown",
      "source": [
        "## Python If Else"
      ],
      "metadata": {
        "id": "B-FYyJPWHryg"
      }
    },
    {
      "cell_type": "code",
      "source": [
        "# if\n",
        "a = 10\n",
        "b = 25\n",
        "\n",
        "if a < b:\n",
        "  print(\"a is less than b\")"
      ],
      "metadata": {
        "id": "YT1q7ABl0exR",
        "colab": {
          "base_uri": "https://localhost:8080/"
        },
        "outputId": "d35ef0a0-121d-44f6-829a-1f856e7601f6"
      },
      "execution_count": null,
      "outputs": [
        {
          "output_type": "stream",
          "name": "stdout",
          "text": [
            "a is less than b\n"
          ]
        }
      ]
    },
    {
      "cell_type": "code",
      "source": [
        "# elif\n",
        "a = 10\n",
        "b = 10\n",
        "\n",
        "if b > a :\n",
        "  print('b is greater than a')\n",
        "elif b == a:\n",
        "  print(\"a is equals to b\")"
      ],
      "metadata": {
        "colab": {
          "base_uri": "https://localhost:8080/"
        },
        "id": "K0mSYNZCII7i",
        "outputId": "ac1bd1bd-b8c1-41c2-f61e-48c2df32b18c"
      },
      "execution_count": null,
      "outputs": [
        {
          "output_type": "stream",
          "name": "stdout",
          "text": [
            "a is equals to b\n"
          ]
        }
      ]
    },
    {
      "cell_type": "code",
      "source": [
        "# else\n",
        "a = 100\n",
        "b = 200\n",
        "if a > b :\n",
        "  print('a > b')\n",
        "elif a == b:\n",
        "  print('a = b')\n",
        "else:\n",
        "  print('a < b')"
      ],
      "metadata": {
        "colab": {
          "base_uri": "https://localhost:8080/"
        },
        "id": "xfJt6waLIemr",
        "outputId": "a1928fd4-058c-4f62-9dfa-d19868ce928f"
      },
      "execution_count": null,
      "outputs": [
        {
          "output_type": "stream",
          "name": "stdout",
          "text": [
            "a < b\n"
          ]
        }
      ]
    },
    {
      "cell_type": "code",
      "source": [
        "# short hand if else\n",
        "a = 2\n",
        "b = 10\n",
        "\n",
        "print(\"A\") if a > b else print(\"B\")"
      ],
      "metadata": {
        "colab": {
          "base_uri": "https://localhost:8080/"
        },
        "id": "354VdiopI08b",
        "outputId": "94e600a5-e09b-4352-864f-04800d88638f"
      },
      "execution_count": null,
      "outputs": [
        {
          "output_type": "stream",
          "name": "stdout",
          "text": [
            "B\n"
          ]
        }
      ]
    },
    {
      "cell_type": "code",
      "source": [
        "# and or not\n",
        "a = 100\n",
        "b = 50\n",
        "c = 200\n",
        "\n",
        "# and\n",
        "\n",
        "if a > b and b < c:\n",
        "  print(\"Both are true\")"
      ],
      "metadata": {
        "colab": {
          "base_uri": "https://localhost:8080/"
        },
        "id": "TxvnwclCJHpS",
        "outputId": "aba95f75-ee36-4fc3-a587-3a8888de23e1"
      },
      "execution_count": null,
      "outputs": [
        {
          "output_type": "stream",
          "name": "stdout",
          "text": [
            "Both are true\n"
          ]
        }
      ]
    },
    {
      "cell_type": "code",
      "source": [
        "# or\n",
        "if a > b or a > c:\n",
        "  print(\"One is true\")"
      ],
      "metadata": {
        "colab": {
          "base_uri": "https://localhost:8080/"
        },
        "id": "ygj1NnUWJlH2",
        "outputId": "3b9c57b8-7ec5-47ca-a212-ba69cbb38c3f"
      },
      "execution_count": null,
      "outputs": [
        {
          "output_type": "stream",
          "name": "stdout",
          "text": [
            "One is true\n"
          ]
        }
      ]
    },
    {
      "cell_type": "code",
      "source": [
        "# not\n",
        "if not a < b :\n",
        "  print('a is not lessthan b ')"
      ],
      "metadata": {
        "colab": {
          "base_uri": "https://localhost:8080/"
        },
        "id": "iffWUfWQJq6q",
        "outputId": "00469fa4-76fb-4ab1-f44e-b064565b4ddd"
      },
      "execution_count": null,
      "outputs": [
        {
          "output_type": "stream",
          "name": "stdout",
          "text": [
            "a is not lessthan b \n"
          ]
        }
      ]
    },
    {
      "cell_type": "code",
      "source": [
        "# nested if\n",
        "x = 34\n",
        "\n",
        "if x > 10:\n",
        "  print(\"Above 10\")\n",
        "  if x > 20:\n",
        "    print(\"Above 20\")\n",
        "  else:\n",
        "    print(\"not above 20\")"
      ],
      "metadata": {
        "colab": {
          "base_uri": "https://localhost:8080/"
        },
        "id": "obwtYLmDKE02",
        "outputId": "70d12342-01b9-4492-d90a-7a8339c59ce0"
      },
      "execution_count": null,
      "outputs": [
        {
          "output_type": "stream",
          "name": "stdout",
          "text": [
            "Above 10\n",
            "Above 20\n"
          ]
        }
      ]
    },
    {
      "cell_type": "code",
      "source": [
        "# pass\n",
        "x = 10;\n",
        "if x > 10:\n",
        "  pass # if no content to put in if use pass"
      ],
      "metadata": {
        "id": "zskNnbgXKjQA"
      },
      "execution_count": null,
      "outputs": []
    },
    {
      "cell_type": "code",
      "source": [
        "# program for traffic\n",
        "lgt = \"green\";\n",
        "\n",
        "if lgt == \"red\":\n",
        "  print(\"RED SIGN : Stop\")\n",
        "elif lgt == \"orange\":\n",
        "  print(\"ORANGE SIGN : Slow Down\")\n",
        "elif lgt == \"green\" :\n",
        "  print(\"GREEN SIGN : Proceed\")\n",
        "else :\n",
        "  print(\"NO SIGN : Follow traffic rules and proceed\")"
      ],
      "metadata": {
        "colab": {
          "base_uri": "https://localhost:8080/"
        },
        "id": "gw67nY0KK6LD",
        "outputId": "80d4e834-62bb-458e-e95f-867ab669bee3"
      },
      "execution_count": null,
      "outputs": [
        {
          "output_type": "stream",
          "name": "stdout",
          "text": [
            "GREEN SIGN : Proceed\n"
          ]
        }
      ]
    },
    {
      "cell_type": "markdown",
      "source": [
        "## Python While Loop"
      ],
      "metadata": {
        "id": "69ZpR2bOMgh9"
      }
    },
    {
      "cell_type": "code",
      "source": [
        "# simple while loop\n",
        "i = 1\n",
        "while i < 9:\n",
        "  print(i)\n",
        "  i = i +1 # if i value not incremented loop will fall into infinite"
      ],
      "metadata": {
        "colab": {
          "base_uri": "https://localhost:8080/"
        },
        "id": "hbsryZDEL8gg",
        "outputId": "fb3ccc06-e2e5-4d83-cc95-57759dd13488"
      },
      "execution_count": null,
      "outputs": [
        {
          "output_type": "stream",
          "name": "stdout",
          "text": [
            "1\n",
            "2\n",
            "3\n",
            "4\n",
            "5\n",
            "6\n",
            "7\n",
            "8\n"
          ]
        }
      ]
    },
    {
      "cell_type": "code",
      "source": [
        "# break statement\n",
        "# break the loop when i is 3\n",
        "\n",
        "i = 1\n",
        "while i < 9:\n",
        "  print(i)\n",
        "  if i == 3:\n",
        "    break    # breaks the statement when conditon is true\n",
        "  i += 1"
      ],
      "metadata": {
        "colab": {
          "base_uri": "https://localhost:8080/"
        },
        "id": "IIrnl9qfMwjW",
        "outputId": "ac2affda-1e95-4ea5-c780-1bd6f5ee2826"
      },
      "execution_count": null,
      "outputs": [
        {
          "output_type": "stream",
          "name": "stdout",
          "text": [
            "1\n",
            "2\n",
            "3\n"
          ]
        }
      ]
    },
    {
      "cell_type": "code",
      "source": [
        "# continue statement\n",
        "\n",
        "i = 0\n",
        "while i < 9:\n",
        "  i += 1\n",
        "  if i == 3:\n",
        "    continue  # skips current iteration and\n",
        "  print(i)"
      ],
      "metadata": {
        "colab": {
          "base_uri": "https://localhost:8080/"
        },
        "id": "bzajv4PANyKl",
        "outputId": "ceb30a10-0ed5-4cb0-e112-a852c8e08d3e"
      },
      "execution_count": null,
      "outputs": [
        {
          "output_type": "stream",
          "name": "stdout",
          "text": [
            "1\n",
            "2\n",
            "4\n",
            "5\n",
            "6\n",
            "7\n",
            "8\n",
            "9\n"
          ]
        }
      ]
    },
    {
      "cell_type": "code",
      "source": [
        "# else statement\n",
        "i = 0\n",
        "while i < 6:\n",
        "  print(i)\n",
        "  i += 1\n",
        "else:\n",
        "  print(\"i is no longer less than 6\")"
      ],
      "metadata": {
        "colab": {
          "base_uri": "https://localhost:8080/"
        },
        "collapsed": true,
        "id": "q4PnZMHJOojq",
        "outputId": "bc3f2f91-893c-4da9-eb79-634d9037538f"
      },
      "execution_count": null,
      "outputs": [
        {
          "output_type": "stream",
          "name": "stdout",
          "text": [
            "0\n",
            "1\n",
            "2\n",
            "3\n",
            "4\n",
            "5\n",
            "i is no longer less than 6\n"
          ]
        }
      ]
    },
    {
      "cell_type": "markdown",
      "source": [
        "## Python For Loops"
      ],
      "metadata": {
        "id": "7Mj6zFoxRcAz"
      }
    },
    {
      "cell_type": "code",
      "source": [
        "# for loop over a list\n",
        "fruits = ['apple', 'bananna', 'cherry']\n",
        "\n",
        "for x in fruits:\n",
        "  print(x)"
      ],
      "metadata": {
        "colab": {
          "base_uri": "https://localhost:8080/"
        },
        "id": "ZUiBF_LZQ-rI",
        "outputId": "3e04466d-e51d-4ca8-e1d4-f1ac53337a3e"
      },
      "execution_count": null,
      "outputs": [
        {
          "output_type": "stream",
          "name": "stdout",
          "text": [
            "apple\n",
            "bananna\n",
            "cherry\n"
          ]
        }
      ]
    },
    {
      "cell_type": "code",
      "source": [
        "# loop through a string\n",
        "for x in \"bananna\":\n",
        "  print(x)"
      ],
      "metadata": {
        "colab": {
          "base_uri": "https://localhost:8080/"
        },
        "id": "Kkt0Wq5bW1v6",
        "outputId": "0f4c3d0f-9bf1-4a3b-e282-b98427b443bf"
      },
      "execution_count": null,
      "outputs": [
        {
          "output_type": "stream",
          "name": "stdout",
          "text": [
            "b\n",
            "a\n",
            "n\n",
            "a\n",
            "n\n",
            "n\n",
            "a\n"
          ]
        }
      ]
    },
    {
      "cell_type": "code",
      "source": [
        "# the break statement\n",
        "for x in fruits:\n",
        "  print(x)\n",
        "  if x == \"bananna\": # stops with bananna\n",
        "    break\n",
        "  # print(x) breaks before printing bananna"
      ],
      "metadata": {
        "colab": {
          "base_uri": "https://localhost:8080/"
        },
        "id": "z8MzRZL2XB43",
        "outputId": "ee4cdf8f-24c7-4997-d0c2-659e05147ddd"
      },
      "execution_count": null,
      "outputs": [
        {
          "output_type": "stream",
          "name": "stdout",
          "text": [
            "apple\n",
            "apple\n",
            "bananna\n"
          ]
        }
      ]
    },
    {
      "cell_type": "code",
      "source": [
        "# continue\n",
        "for x in fruits:\n",
        "  if x == \"bananna\":\n",
        "    continue # does not print bananna\n",
        "  print(x)"
      ],
      "metadata": {
        "colab": {
          "base_uri": "https://localhost:8080/"
        },
        "id": "v_UrmBOnXTo8",
        "outputId": "b54c8b45-55ad-419e-a429-ef14be49e1f7"
      },
      "execution_count": null,
      "outputs": [
        {
          "output_type": "stream",
          "name": "stdout",
          "text": [
            "apple\n",
            "cherry\n"
          ]
        }
      ]
    },
    {
      "cell_type": "code",
      "source": [
        "# range func\n",
        "for x in range(6): # vlaues from 0 - 5\n",
        "  print(x)"
      ],
      "metadata": {
        "colab": {
          "base_uri": "https://localhost:8080/"
        },
        "id": "K2hTct6vX7sf",
        "outputId": "5114ea15-41a8-4fcb-ad55-c5fd6471b3db"
      },
      "execution_count": null,
      "outputs": [
        {
          "output_type": "stream",
          "name": "stdout",
          "text": [
            "0\n",
            "1\n",
            "2\n",
            "3\n",
            "4\n",
            "5\n"
          ]
        }
      ]
    },
    {
      "cell_type": "code",
      "source": [
        "# range with start parameter\n",
        "for x in range(2, 6):\n",
        "  print(x)"
      ],
      "metadata": {
        "colab": {
          "base_uri": "https://localhost:8080/"
        },
        "id": "n9owMBKCYUGI",
        "outputId": "7b426a59-bf5e-472e-b0d7-2603fb3347f1"
      },
      "execution_count": null,
      "outputs": [
        {
          "output_type": "stream",
          "name": "stdout",
          "text": [
            "2\n",
            "3\n",
            "4\n",
            "5\n"
          ]
        }
      ]
    },
    {
      "cell_type": "code",
      "source": [
        "# incriment with sequence with 3\n",
        "for x in range(2, 30, 3):\n",
        "  print(x)"
      ],
      "metadata": {
        "colab": {
          "base_uri": "https://localhost:8080/"
        },
        "id": "w00pKTfdYesS",
        "outputId": "9946da8a-2085-4280-eda8-d32b51426e4e"
      },
      "execution_count": null,
      "outputs": [
        {
          "output_type": "stream",
          "name": "stdout",
          "text": [
            "2\n",
            "5\n",
            "8\n",
            "11\n",
            "14\n",
            "17\n",
            "20\n",
            "23\n",
            "26\n",
            "29\n"
          ]
        }
      ]
    },
    {
      "cell_type": "code",
      "source": [
        "# else in for loop\n",
        "for x in range(6):\n",
        "  print(x)\n",
        "else:\n",
        "  print(\"range is over\")"
      ],
      "metadata": {
        "colab": {
          "base_uri": "https://localhost:8080/"
        },
        "id": "jlubEL9AYuf1",
        "outputId": "def46f04-0ade-40e6-9346-4d1e12c3ad5e"
      },
      "execution_count": null,
      "outputs": [
        {
          "output_type": "stream",
          "name": "stdout",
          "text": [
            "0\n",
            "1\n",
            "2\n",
            "3\n",
            "4\n",
            "5\n",
            "range is over\n"
          ]
        }
      ]
    },
    {
      "cell_type": "code",
      "source": [
        "# else will not executed if stopped by a break\n",
        "for x in range(6):\n",
        "  print(x)\n",
        "  if x == 3: break\n",
        "else:\n",
        "  print(\"Finished\")"
      ],
      "metadata": {
        "colab": {
          "base_uri": "https://localhost:8080/"
        },
        "id": "xsBfKK0hY8Fr",
        "outputId": "212b88fc-0678-4905-ea9e-a3f6717ae3b1"
      },
      "execution_count": null,
      "outputs": [
        {
          "output_type": "stream",
          "name": "stdout",
          "text": [
            "0\n",
            "1\n",
            "2\n",
            "3\n"
          ]
        }
      ]
    },
    {
      "cell_type": "code",
      "source": [
        "# Nested loop\n",
        "adj = [\"red\", \"big\", \"tasty\"]\n",
        "fruits = [\"apple\", \"banana\", \"cherry\"]\n",
        "\n",
        "for x in adj:\n",
        "  for y in fruits:\n",
        "    print(x, y)\n"
      ],
      "metadata": {
        "colab": {
          "base_uri": "https://localhost:8080/"
        },
        "id": "b_SPRldoZMxI",
        "outputId": "17765c86-3f2b-4b68-f169-f954749f18a8"
      },
      "execution_count": null,
      "outputs": [
        {
          "output_type": "stream",
          "name": "stdout",
          "text": [
            "red apple\n",
            "red banana\n",
            "red cherry\n",
            "big apple\n",
            "big banana\n",
            "big cherry\n",
            "tasty apple\n",
            "tasty banana\n",
            "tasty cherry\n"
          ]
        }
      ]
    },
    {
      "cell_type": "code",
      "source": [
        "# pass\n",
        "for x in [0,1,2]:\n",
        "  pass"
      ],
      "metadata": {
        "id": "OMpH2DtihEjp"
      },
      "execution_count": null,
      "outputs": []
    },
    {
      "cell_type": "markdown",
      "source": [
        "## Python Functions"
      ],
      "metadata": {
        "id": "FAh0S-kZpxLy"
      }
    },
    {
      "cell_type": "code",
      "source": [
        "# Python function\n",
        "def myfunction():\n",
        "  print(\"This is the sample function\")"
      ],
      "metadata": {
        "id": "PKUq8hTPhNCQ"
      },
      "execution_count": null,
      "outputs": []
    },
    {
      "cell_type": "code",
      "source": [
        "# calling the function\n",
        "myfunction()"
      ],
      "metadata": {
        "colab": {
          "base_uri": "https://localhost:8080/"
        },
        "id": "KVApeT07UbhP",
        "outputId": "4f5f4fc7-8a0d-48d1-f569-82b3ea092ff4"
      },
      "execution_count": null,
      "outputs": [
        {
          "output_type": "stream",
          "name": "stdout",
          "text": [
            "This is the sample function\n"
          ]
        }
      ]
    },
    {
      "cell_type": "code",
      "source": [
        "# arguments  or args\n",
        "def myfun(name):\n",
        "  print('Hi ', name, \" How are you?\")"
      ],
      "metadata": {
        "id": "NL6GBGx7VlPT"
      },
      "execution_count": null,
      "outputs": []
    },
    {
      "cell_type": "code",
      "source": [
        "myfun('Reddy')\n",
        "myfun(\"Rajasekahra\")\n"
      ],
      "metadata": {
        "colab": {
          "base_uri": "https://localhost:8080/"
        },
        "id": "734pVB_TY6eC",
        "outputId": "36a0ac30-723a-4b27-fa70-fbf6aa01f291"
      },
      "execution_count": null,
      "outputs": [
        {
          "output_type": "stream",
          "name": "stdout",
          "text": [
            "Hi  Reddy  How are you?\n",
            "Hi  Rajasekahra  How are you?\n"
          ]
        }
      ]
    },
    {
      "cell_type": "code",
      "source": [
        "# multiple args\n",
        "def myfun(name, age, email):\n",
        "  print(\"Name : \", name)\n",
        "  print(\"Age : \", age)\n",
        "  print(\"Email : \", email)"
      ],
      "metadata": {
        "id": "vko-2dCjY-Gm"
      },
      "execution_count": null,
      "outputs": []
    },
    {
      "cell_type": "code",
      "source": [
        "myfun('Reddy', 25, 'reddy@gmail.com' )"
      ],
      "metadata": {
        "colab": {
          "base_uri": "https://localhost:8080/"
        },
        "id": "x2yGeSDOZmVC",
        "outputId": "6206570a-0a52-4b0d-e1da-a302228e3ed1"
      },
      "execution_count": null,
      "outputs": [
        {
          "output_type": "stream",
          "name": "stdout",
          "text": [
            "Name :  Reddy\n",
            "Age :  25\n",
            "Email :  reddy@gmail.com\n"
          ]
        }
      ]
    },
    {
      "cell_type": "code",
      "source": [
        "# arbitary arguments\n",
        "def myfun(*args):\n",
        "  for i in args:\n",
        "    print(i)"
      ],
      "metadata": {
        "id": "sXtV9zi1Zvcq"
      },
      "execution_count": null,
      "outputs": []
    },
    {
      "cell_type": "code",
      "source": [
        "myfun('apple', 'bananna', 'cherry')"
      ],
      "metadata": {
        "colab": {
          "base_uri": "https://localhost:8080/"
        },
        "id": "WwUchzW-aEur",
        "outputId": "c3fe4fa1-f667-4f8b-e2e5-dd2fe63ad57b"
      },
      "execution_count": null,
      "outputs": [
        {
          "output_type": "stream",
          "name": "stdout",
          "text": [
            "apple\n",
            "bananna\n",
            "cherry\n"
          ]
        }
      ]
    },
    {
      "cell_type": "code",
      "source": [
        "#keyword args\n",
        "def myfun(name, age):\n",
        "  print(name, age)"
      ],
      "metadata": {
        "id": "Q6ttIei3aLRS"
      },
      "execution_count": null,
      "outputs": []
    },
    {
      "cell_type": "code",
      "source": [
        "myfun(name='Reddy', age=25)"
      ],
      "metadata": {
        "colab": {
          "base_uri": "https://localhost:8080/"
        },
        "id": "OQpenx9sa8ih",
        "outputId": "87a96bd8-44cc-4017-f727-a51a0b8bc9ed"
      },
      "execution_count": null,
      "outputs": [
        {
          "output_type": "stream",
          "name": "stdout",
          "text": [
            "Reddy 25\n"
          ]
        }
      ]
    },
    {
      "cell_type": "code",
      "source": [
        "#multiple keyward args\n",
        "def myfun(**kwargs):\n",
        "  for i in kwargs.keys():\n",
        "    print(kwargs[i])"
      ],
      "metadata": {
        "id": "ljkiSG3gbAJK"
      },
      "execution_count": null,
      "outputs": []
    },
    {
      "cell_type": "code",
      "source": [
        "myfun(name=\"Reddy\", age=25, email='reddy@gmail.com')"
      ],
      "metadata": {
        "colab": {
          "base_uri": "https://localhost:8080/"
        },
        "id": "z9zR1c4ldBvJ",
        "outputId": "6abafe5d-1488-44e3-9e54-5e8ae1055675"
      },
      "execution_count": null,
      "outputs": [
        {
          "output_type": "stream",
          "name": "stdout",
          "text": [
            "Reddy\n",
            "25\n",
            "reddy@gmail.com\n"
          ]
        }
      ]
    },
    {
      "cell_type": "code",
      "source": [
        "# default paramerter\n",
        "def myfun(country=\"India\"):\n",
        "  print(country)"
      ],
      "metadata": {
        "id": "kbgrbhT_dI6G"
      },
      "execution_count": null,
      "outputs": []
    },
    {
      "cell_type": "code",
      "source": [
        "myfun(\"USA\")\n",
        "myfun()"
      ],
      "metadata": {
        "colab": {
          "base_uri": "https://localhost:8080/"
        },
        "id": "ZOHoWCzjlC6G",
        "outputId": "f3e878aa-d6db-42fb-f365-74006ac1c38f"
      },
      "execution_count": null,
      "outputs": [
        {
          "output_type": "stream",
          "name": "stdout",
          "text": [
            "USA\n",
            "India\n"
          ]
        }
      ]
    },
    {
      "cell_type": "code",
      "source": [
        "# passing list as an argument\n",
        "def myfun(fruits):\n",
        "  for i in fruits:\n",
        "    print(i)\n",
        "\n",
        "fruits = ['apple', 'bananna', 'cherry']\n",
        "myfun(fruits)"
      ],
      "metadata": {
        "colab": {
          "base_uri": "https://localhost:8080/"
        },
        "id": "vAe2DCxZlGYN",
        "outputId": "46745cfa-9f69-46d9-99f0-2a6bd7e3286f"
      },
      "execution_count": null,
      "outputs": [
        {
          "output_type": "stream",
          "name": "stdout",
          "text": [
            "apple\n",
            "bananna\n",
            "cherry\n"
          ]
        }
      ]
    },
    {
      "cell_type": "code",
      "source": [
        "# return values\n",
        "def myfun(x, y):\n",
        "  return x + y"
      ],
      "metadata": {
        "id": "ZhdQW8OalcfK"
      },
      "execution_count": null,
      "outputs": []
    },
    {
      "cell_type": "code",
      "source": [
        "result = myfun(22, 78)\n",
        "print(result)"
      ],
      "metadata": {
        "colab": {
          "base_uri": "https://localhost:8080/"
        },
        "id": "X7o8DKeqlnCc",
        "outputId": "448bb3e5-f2ae-401e-cc36-8ff6bb299a10"
      },
      "execution_count": null,
      "outputs": [
        {
          "output_type": "stream",
          "name": "stdout",
          "text": [
            "100\n"
          ]
        }
      ]
    },
    {
      "cell_type": "code",
      "source": [
        "# pass statement\n",
        "def myfun():\n",
        "  pass"
      ],
      "metadata": {
        "id": "0mG8KLVWltKz"
      },
      "execution_count": null,
      "outputs": []
    },
    {
      "cell_type": "code",
      "source": [
        "# positional only arguments add \", /\" after arguments,\n",
        "# with this we cannot use keyward arguments\n",
        "def myfun(x, /):\n",
        "  print(x)"
      ],
      "metadata": {
        "id": "YOfxiOK3m8Ur"
      },
      "execution_count": null,
      "outputs": []
    },
    {
      "cell_type": "code",
      "source": [
        "myfun(\"postiton only args\")"
      ],
      "metadata": {
        "colab": {
          "base_uri": "https://localhost:8080/"
        },
        "id": "DPQ_Le9ynZAE",
        "outputId": "4c069c9e-e0e2-400a-c3bb-a7944ff5ac28"
      },
      "execution_count": null,
      "outputs": [
        {
          "output_type": "stream",
          "name": "stdout",
          "text": [
            "postiton only args\n"
          ]
        }
      ]
    },
    {
      "cell_type": "code",
      "source": [
        "myfun(x=\"postion only args can't use keywars\") # this gives the error"
      ],
      "metadata": {
        "colab": {
          "base_uri": "https://localhost:8080/",
          "height": 141
        },
        "id": "JYsl0trRnbwT",
        "outputId": "574d95a3-6651-40dd-bf5e-4941ebd7c312"
      },
      "execution_count": null,
      "outputs": [
        {
          "output_type": "error",
          "ename": "TypeError",
          "evalue": "myfun() got some positional-only arguments passed as keyword arguments: 'x'",
          "traceback": [
            "\u001b[0;31m---------------------------------------------------------------------------\u001b[0m",
            "\u001b[0;31mTypeError\u001b[0m                                 Traceback (most recent call last)",
            "\u001b[0;32m<ipython-input-35-2b993e253186>\u001b[0m in \u001b[0;36m<cell line: 1>\u001b[0;34m()\u001b[0m\n\u001b[0;32m----> 1\u001b[0;31m \u001b[0mmyfun\u001b[0m\u001b[0;34m(\u001b[0m\u001b[0mx\u001b[0m\u001b[0;34m=\u001b[0m\u001b[0;34m\"postion only args can't use keywars\"\u001b[0m\u001b[0;34m)\u001b[0m \u001b[0;31m# this gives the error\u001b[0m\u001b[0;34m\u001b[0m\u001b[0;34m\u001b[0m\u001b[0m\n\u001b[0m",
            "\u001b[0;31mTypeError\u001b[0m: myfun() got some positional-only arguments passed as keyword arguments: 'x'"
          ]
        }
      ]
    },
    {
      "cell_type": "code",
      "source": [
        "# keyward only args using '*,' before args\n",
        "# with this we cannot use postional args\n",
        "\n",
        "def myfun(*, x):\n",
        "  print(x)\n"
      ],
      "metadata": {
        "id": "CniZiWfpoTeN"
      },
      "execution_count": null,
      "outputs": []
    },
    {
      "cell_type": "code",
      "source": [
        "myfun(\"Keywards only args, cannot use postional\") # this gives error"
      ],
      "metadata": {
        "colab": {
          "base_uri": "https://localhost:8080/",
          "height": 141
        },
        "id": "QRyceeNepA0H",
        "outputId": "e14a3d50-ce02-40a0-ae45-ebfc85da05a1"
      },
      "execution_count": null,
      "outputs": [
        {
          "output_type": "error",
          "ename": "TypeError",
          "evalue": "myfun() takes 0 positional arguments but 1 was given",
          "traceback": [
            "\u001b[0;31m---------------------------------------------------------------------------\u001b[0m",
            "\u001b[0;31mTypeError\u001b[0m                                 Traceback (most recent call last)",
            "\u001b[0;32m<ipython-input-37-30c8a3fbb862>\u001b[0m in \u001b[0;36m<cell line: 1>\u001b[0;34m()\u001b[0m\n\u001b[0;32m----> 1\u001b[0;31m \u001b[0mmyfun\u001b[0m\u001b[0;34m(\u001b[0m\u001b[0;34m\"Keywards only args, cannot use postional\"\u001b[0m\u001b[0;34m)\u001b[0m\u001b[0;34m\u001b[0m\u001b[0;34m\u001b[0m\u001b[0m\n\u001b[0m",
            "\u001b[0;31mTypeError\u001b[0m: myfun() takes 0 positional arguments but 1 was given"
          ]
        }
      ]
    },
    {
      "cell_type": "code",
      "source": [
        "myfun(x= \"keyward only args\")"
      ],
      "metadata": {
        "colab": {
          "base_uri": "https://localhost:8080/"
        },
        "id": "YlSvalZUpCT-",
        "outputId": "276fc4d9-5f84-4065-a37e-68b13e0366c9"
      },
      "execution_count": null,
      "outputs": [
        {
          "output_type": "stream",
          "name": "stdout",
          "text": [
            "keyward only args\n"
          ]
        }
      ]
    },
    {
      "cell_type": "code",
      "source": [
        "# combined postional and keyward only args.\n",
        "def myfun(a, b, c, /,*,d,e,f): # args before \"/\" are postion only\n",
        "  print(a+b+c+d+e+f)            # args after '*' are keyward only"
      ],
      "metadata": {
        "id": "UqXF1JJFpF1L"
      },
      "execution_count": null,
      "outputs": []
    },
    {
      "cell_type": "code",
      "source": [
        "myfun(10, 15, 20, d=25, e=30, f=35)"
      ],
      "metadata": {
        "colab": {
          "base_uri": "https://localhost:8080/"
        },
        "id": "WwKq0iNoqYjh",
        "outputId": "a1f065b6-ab00-463a-96c8-825c77dc3984"
      },
      "execution_count": null,
      "outputs": [
        {
          "output_type": "stream",
          "name": "stdout",
          "text": [
            "135\n"
          ]
        }
      ]
    },
    {
      "cell_type": "code",
      "source": [
        "# Recursion\n",
        "def tri(n):\n",
        "  if(n > 0):\n",
        "    result = n + tri(n - 1)\n",
        "    print(result)\n",
        "  else:\n",
        "    result = 0\n",
        "  return result"
      ],
      "metadata": {
        "id": "QYbXs-fnqgFr"
      },
      "execution_count": null,
      "outputs": []
    },
    {
      "cell_type": "code",
      "source": [
        "tri(5)"
      ],
      "metadata": {
        "colab": {
          "base_uri": "https://localhost:8080/"
        },
        "id": "-L_V3bn8rD6f",
        "outputId": "d9b282ee-efae-4742-d72a-636131b98a03"
      },
      "execution_count": null,
      "outputs": [
        {
          "output_type": "stream",
          "name": "stdout",
          "text": [
            "1\n",
            "3\n",
            "6\n",
            "10\n",
            "15\n"
          ]
        },
        {
          "output_type": "execute_result",
          "data": {
            "text/plain": [
              "15"
            ]
          },
          "metadata": {},
          "execution_count": 63
        }
      ]
    },
    {
      "cell_type": "markdown",
      "source": [
        "## Python Lambda Function"
      ],
      "metadata": {
        "id": "2E5XfZ9buRbz"
      }
    },
    {
      "cell_type": "code",
      "source": [
        "# Lambda Function\n",
        "# small anonymous function used for short period of time\n",
        "# takes n arguments but can have only one expression\n",
        "# syntax lamda arguments : expression\n",
        "\n",
        "x = lambda a : a * 2\n",
        "print(x(5))"
      ],
      "metadata": {
        "colab": {
          "base_uri": "https://localhost:8080/"
        },
        "id": "JrnKuclZrepG",
        "outputId": "f98c3f1d-5049-45e8-fcef-ac411910c0e3"
      },
      "execution_count": null,
      "outputs": [
        {
          "output_type": "stream",
          "name": "stdout",
          "text": [
            "10\n"
          ]
        }
      ]
    },
    {
      "cell_type": "code",
      "source": [
        "# any no of args\n",
        "x = lambda a, b , c : a + b + c\n",
        "print(x(5,5,5))"
      ],
      "metadata": {
        "colab": {
          "base_uri": "https://localhost:8080/"
        },
        "id": "GBID8pvZvGPq",
        "outputId": "a8660ce1-7b58-437c-e8c0-5786f4740753"
      },
      "execution_count": null,
      "outputs": [
        {
          "output_type": "stream",
          "name": "stdout",
          "text": [
            "15\n"
          ]
        }
      ]
    },
    {
      "cell_type": "code",
      "source": [
        "# using anonymous lambda inside another function\n",
        "# function takes an arg and multiplie it with an unknown number\n",
        "\n",
        "def myfun(n):\n",
        "  return lambda a : a * n\n",
        "\n",
        "mydoubler = myfun(2)\n",
        "print(mydoubler(11))\n",
        "\n",
        "# we can use the same fun for tripling also\n",
        "mytripler = myfun(3)\n",
        "print(mytripler(5))"
      ],
      "metadata": {
        "colab": {
          "base_uri": "https://localhost:8080/"
        },
        "id": "H6BE_y6JwT9D",
        "outputId": "dd89135f-5c2f-4cdf-a773-1719bba2d786"
      },
      "execution_count": null,
      "outputs": [
        {
          "output_type": "stream",
          "name": "stdout",
          "text": [
            "22\n",
            "15\n"
          ]
        }
      ]
    },
    {
      "cell_type": "markdown",
      "source": [
        "## Python Classes and Objects"
      ],
      "metadata": {
        "id": "98xX7P5Kjad5"
      }
    },
    {
      "cell_type": "code",
      "source": [
        "# class is a constructor for creating blue prints for creating objects\n",
        "# creating a calss\n",
        "class MyClass:\n",
        "    x = 5"
      ],
      "metadata": {
        "id": "mV1EWStVyUDG"
      },
      "execution_count": null,
      "outputs": []
    },
    {
      "cell_type": "code",
      "source": [
        "# creating object using class\n",
        "p1 = MyClass()\n",
        "print(p1.x)"
      ],
      "metadata": {
        "colab": {
          "base_uri": "https://localhost:8080/"
        },
        "id": "CPOOipH8jyXy",
        "outputId": "da662ca6-77c9-44e3-e0ca-23dd7113c979"
      },
      "execution_count": null,
      "outputs": [
        {
          "output_type": "stream",
          "name": "stdout",
          "text": [
            "5\n"
          ]
        }
      ]
    },
    {
      "cell_type": "code",
      "source": [
        "# the __init__ function, is build in funciton\n",
        "# executes alwas when the class is initated\n",
        "class Person:\n",
        "  def __init__(self, name, age):\n",
        "    self.name = name\n",
        "    self.age = age\n",
        "\n",
        "p1 = Person(\"Reddy\", 25)\n",
        "print(p1.name)\n",
        "print(p1.age)"
      ],
      "metadata": {
        "colab": {
          "base_uri": "https://localhost:8080/"
        },
        "id": "8sgARofjj85Q",
        "outputId": "08214d51-30c7-4670-9e06-0a5f176c36f1"
      },
      "execution_count": null,
      "outputs": [
        {
          "output_type": "stream",
          "name": "stdout",
          "text": [
            "Reddy\n",
            "25\n"
          ]
        }
      ]
    },
    {
      "cell_type": "code",
      "source": [
        "# the __str__ function\n",
        "# function controls what should be writtend when the class object is represented as a string\n",
        "\n",
        "# class object without str function\n",
        "print(p1) # gives only memory address"
      ],
      "metadata": {
        "colab": {
          "base_uri": "https://localhost:8080/"
        },
        "id": "I2Z91UZElbB7",
        "outputId": "af9101a8-a4ad-4875-e167-9cfa8576bb56"
      },
      "execution_count": null,
      "outputs": [
        {
          "output_type": "stream",
          "name": "stdout",
          "text": [
            "<__main__.Person object at 0x7fd69a29f9d0>\n"
          ]
        }
      ]
    },
    {
      "cell_type": "code",
      "source": [
        "# string representation object with str representation\n",
        "class Person:\n",
        "  def __init__(self, name, age):\n",
        "    self.name = name\n",
        "    self.age = age\n",
        "\n",
        "  def __str__(self):\n",
        "    return f\"{self.name} ({self.age})\"\n",
        "\n",
        "# object methods\n",
        "  def myfun(self):\n",
        "    # the self parameter is the reference to the current instance of class\n",
        "    # it does not have to be named self , anything can be used\n",
        "    print(\"Hello, my name is \", self.name)"
      ],
      "metadata": {
        "id": "YvvkSb7JlgI6"
      },
      "execution_count": 2,
      "outputs": []
    },
    {
      "cell_type": "code",
      "source": [
        "p1 = Person(\"Reddy\", 25)\n",
        "print(p1)"
      ],
      "metadata": {
        "colab": {
          "base_uri": "https://localhost:8080/"
        },
        "id": "YM_G1DTCmpeE",
        "outputId": "60a0d49a-5d28-4907-edf7-99887b8a0e9e"
      },
      "execution_count": 3,
      "outputs": [
        {
          "output_type": "stream",
          "name": "stdout",
          "text": [
            "Reddy (25)\n"
          ]
        }
      ]
    },
    {
      "cell_type": "code",
      "source": [
        "# object methods\n",
        "p1.myfun()"
      ],
      "metadata": {
        "colab": {
          "base_uri": "https://localhost:8080/"
        },
        "id": "1xBvHGMmmtmH",
        "outputId": "56b932b3-4cdf-44aa-eaa7-1e25bc22b911"
      },
      "execution_count": 4,
      "outputs": [
        {
          "output_type": "stream",
          "name": "stdout",
          "text": [
            "Hello, my name is  Reddy\n"
          ]
        }
      ]
    },
    {
      "cell_type": "code",
      "source": [
        "# Modifiying object properties\n",
        "p1.age = 18\n",
        "print(p1)"
      ],
      "metadata": {
        "colab": {
          "base_uri": "https://localhost:8080/"
        },
        "id": "KDrmmLlkoal8",
        "outputId": "e9796a8e-406c-4383-836b-ac310ee265a8"
      },
      "execution_count": 5,
      "outputs": [
        {
          "output_type": "stream",
          "name": "stdout",
          "text": [
            "Reddy (18)\n"
          ]
        }
      ]
    },
    {
      "cell_type": "code",
      "source": [
        "# delete the object\n",
        "del p1"
      ],
      "metadata": {
        "id": "q4vbtAl-pACu"
      },
      "execution_count": 6,
      "outputs": []
    },
    {
      "cell_type": "code",
      "source": [
        "# pass statement\n",
        "class Person:\n",
        "pass"
      ],
      "metadata": {
        "colab": {
          "base_uri": "https://localhost:8080/",
          "height": 106
        },
        "id": "RaP5gz-g-Qnl",
        "outputId": "f6dca47b-689e-4de9-8dae-f0d3b7ec2c27"
      },
      "execution_count": 8,
      "outputs": [
        {
          "output_type": "error",
          "ename": "IndentationError",
          "evalue": "expected an indented block after class definition on line 2 (<ipython-input-8-c974e2c18bf3>, line 3)",
          "traceback": [
            "\u001b[0;36m  File \u001b[0;32m\"<ipython-input-8-c974e2c18bf3>\"\u001b[0;36m, line \u001b[0;32m3\u001b[0m\n\u001b[0;31m    pass\u001b[0m\n\u001b[0m    ^\u001b[0m\n\u001b[0;31mIndentationError\u001b[0m\u001b[0;31m:\u001b[0m expected an indented block after class definition on line 2\n"
          ]
        }
      ]
    },
    {
      "cell_type": "markdown",
      "source": [
        "## Python Inheritance"
      ],
      "metadata": {
        "id": "0Dxxsj-X-WA3"
      }
    },
    {
      "cell_type": "code",
      "source": [
        "# Inheritance allows to define a class that inherits the properties and methods from its parent\n",
        "# parent or base class\n",
        "\n",
        "class Person:\n",
        "  def __init__(self, fname, lname):\n",
        "    self.fname = fname\n",
        "    self.lname = lname\n",
        "\n",
        "  def printname(self):\n",
        "    print(self.fname, self.lname)\n",
        "\n",
        "x = Person(\"Rajasekhara\", \"Reddy\")\n",
        "x.printname()"
      ],
      "metadata": {
        "colab": {
          "base_uri": "https://localhost:8080/"
        },
        "id": "z-8FqjV_-UJ0",
        "outputId": "5d99ff47-6992-4754-b85e-bdb06dcc5c1c"
      },
      "execution_count": 11,
      "outputs": [
        {
          "output_type": "stream",
          "name": "stdout",
          "text": [
            "Rajasekhara Reddy\n"
          ]
        }
      ]
    },
    {
      "cell_type": "code",
      "source": [
        "# child or derived class\n",
        "class Student(Person):\n",
        "  pass # pass is used, when we dont want to add any props or methods"
      ],
      "metadata": {
        "id": "pVMG28Ii-hYn"
      },
      "execution_count": 16,
      "outputs": []
    },
    {
      "cell_type": "code",
      "source": [
        "# using the student class to create an object\n",
        "x = Student(\"Mike\", \"Joe\")\n",
        "x.printname()"
      ],
      "metadata": {
        "colab": {
          "base_uri": "https://localhost:8080/"
        },
        "id": "jfDOqwAW-upo",
        "outputId": "7e754031-c548-4077-f40f-994862a4146c"
      },
      "execution_count": 17,
      "outputs": [
        {
          "output_type": "stream",
          "name": "stdout",
          "text": [
            "Mike Joe\n"
          ]
        }
      ]
    },
    {
      "cell_type": "code",
      "source": [
        "# adding __init__() to the Student class\n",
        "class Student(Person):\n",
        "  def __init__(self, fname, lname): # now it nolonger inherits parent init it overrides parent init\n",
        "    # to keep the inheritance of the parent class add a call to parent init\n",
        "    Person.__init__(self, fname, lname)"
      ],
      "metadata": {
        "id": "5Bvz_QTe-5Bh"
      },
      "execution_count": 29,
      "outputs": []
    },
    {
      "cell_type": "code",
      "source": [
        "# use the super function\n",
        "class Student(Person):\n",
        "  def __init__(self, fname, lname, year):\n",
        "    super().__init__(fname, lname)\n",
        "    # add a property to the student class\n",
        "    self.graduation_year = year\n",
        "\n",
        "    # Adding methods to the student class\n",
        "  def welcome(self):\n",
        "    print(\"Welcome \", self.fname, self.lname, \" to the class of \", self.graduation_year)"
      ],
      "metadata": {
        "id": "w20HTvaN_0_T"
      },
      "execution_count": 34,
      "outputs": []
    },
    {
      "cell_type": "code",
      "source": [
        "x = Student(\"Reddy\", \"Reddy\", 2017)\n",
        "x.printname()\n",
        "print(x.graduation_year)"
      ],
      "metadata": {
        "colab": {
          "base_uri": "https://localhost:8080/"
        },
        "id": "1UpFKMGZAe1s",
        "outputId": "393c35c7-8b7e-4275-897a-6dd6fe69c1c8"
      },
      "execution_count": 35,
      "outputs": [
        {
          "output_type": "stream",
          "name": "stdout",
          "text": [
            "Reddy Reddy\n",
            "2017\n"
          ]
        }
      ]
    },
    {
      "cell_type": "code",
      "source": [
        "x.welcome()"
      ],
      "metadata": {
        "colab": {
          "base_uri": "https://localhost:8080/"
        },
        "id": "dRdoBlrLA7Oz",
        "outputId": "f3163f58-adf8-4218-bb61-1c70894ee2af"
      },
      "execution_count": 36,
      "outputs": [
        {
          "output_type": "stream",
          "name": "stdout",
          "text": [
            "Welcome  Reddy Reddy  to the class of  2017\n"
          ]
        }
      ]
    },
    {
      "cell_type": "code",
      "source": [],
      "metadata": {
        "id": "_KlDFyjJCJcL"
      },
      "execution_count": null,
      "outputs": []
    }
  ]
}